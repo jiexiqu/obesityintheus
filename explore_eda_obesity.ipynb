{
 "cells": [
  {
   "cell_type": "code",
   "execution_count": 1,
   "metadata": {},
   "outputs": [],
   "source": [
    "import pandas as pd\n",
    "import matplotlib.pyplot as plt\n",
    "%matplotlib inline\n",
    "import numpy as np\n",
    "import scipy.stats as stats"
   ]
  },
  {
   "cell_type": "code",
   "execution_count": 2,
   "metadata": {},
   "outputs": [],
   "source": [
    "pd.set_option('display.max_colwidth', 200)\n",
    "us_topics = pd.read_csv('data/cdc_npao_topics_us.csv')\n",
    "us_data = pd.read_csv('data/cdc_npao_us.csv')"
   ]
  },
  {
   "cell_type": "code",
   "execution_count": 3,
   "metadata": {},
   "outputs": [
    {
     "data": {
      "text/html": [
       "<div>\n",
       "<style scoped>\n",
       "    .dataframe tbody tr th:only-of-type {\n",
       "        vertical-align: middle;\n",
       "    }\n",
       "\n",
       "    .dataframe tbody tr th {\n",
       "        vertical-align: top;\n",
       "    }\n",
       "\n",
       "    .dataframe thead th {\n",
       "        text-align: right;\n",
       "    }\n",
       "</style>\n",
       "<table border=\"1\" class=\"dataframe\">\n",
       "  <thead>\n",
       "    <tr style=\"text-align: right;\">\n",
       "      <th></th>\n",
       "      <th>Class</th>\n",
       "      <th>Topic</th>\n",
       "      <th>Question</th>\n",
       "      <th>Short_Desc</th>\n",
       "      <th>ClassID</th>\n",
       "      <th>TopicID</th>\n",
       "      <th>QuestionID</th>\n",
       "    </tr>\n",
       "  </thead>\n",
       "  <tbody>\n",
       "    <tr>\n",
       "      <th>0</th>\n",
       "      <td>Fruits and Vegetables</td>\n",
       "      <td>Fruits and Vegetables - Behavior</td>\n",
       "      <td>Percent of adults who report consuming fruit less than one time daily</td>\n",
       "      <td>NoFruit</td>\n",
       "      <td>FV</td>\n",
       "      <td>FV1</td>\n",
       "      <td>Q018</td>\n",
       "    </tr>\n",
       "  </tbody>\n",
       "</table>\n",
       "</div>"
      ],
      "text/plain": [
       "                   Class                             Topic  \\\n",
       "0  Fruits and Vegetables  Fruits and Vegetables - Behavior   \n",
       "\n",
       "                                                                Question  \\\n",
       "0  Percent of adults who report consuming fruit less than one time daily   \n",
       "\n",
       "  Short_Desc ClassID TopicID QuestionID  \n",
       "0    NoFruit      FV     FV1       Q018  "
      ]
     },
     "execution_count": 3,
     "metadata": {},
     "output_type": "execute_result"
    }
   ],
   "source": [
    "us_topics.head(1)"
   ]
  },
  {
   "cell_type": "code",
   "execution_count": 4,
   "metadata": {},
   "outputs": [
    {
     "data": {
      "text/plain": [
       "Index(['YearStart', 'YearEnd', 'LocationAbbr', 'LocationDesc', 'Datasource',\n",
       "       'Class', 'Topic', 'Question', 'Data_Value_Unit', 'Data_Value_Type',\n",
       "       'Data_Value', 'Data_Value_Alt', 'Data_Value_Footnote_Symbol',\n",
       "       'Data_Value_Footnote', 'Low_Confidence_Limit', 'High_Confidence_Limit ',\n",
       "       'Sample_Size', 'Total', 'Age(years)', 'Education', 'Gender', 'Income',\n",
       "       'Race/Ethnicity', 'GeoLocation', 'ClassID', 'TopicID', 'QuestionID',\n",
       "       'DataValueTypeID', 'LocationID', 'StratificationCategory1',\n",
       "       'Stratification1', 'StratificationCategoryId1', 'StratificationID1'],\n",
       "      dtype='object')"
      ]
     },
     "execution_count": 4,
     "metadata": {},
     "output_type": "execute_result"
    }
   ],
   "source": [
    "us_data.columns"
   ]
  },
  {
   "cell_type": "code",
   "execution_count": 5,
   "metadata": {},
   "outputs": [],
   "source": [
    "us_data = us_data.drop(['LocationAbbr', 'Datasource', 'Data_Value_Unit', 'Data_Value_Footnote_Symbol', \n",
    "                        'Data_Value_Footnote','YearEnd', 'Class','Topic','Data_Value_Type','ClassID',\n",
    "                       'TopicID','QuestionID','DataValueTypeID','StratificationCategoryId1'],1)\n",
    "\n",
    "q = ['Percent of adults aged 18 years and older who have obesity']"
   ]
  },
  {
   "cell_type": "code",
   "execution_count": 6,
   "metadata": {
    "scrolled": false
   },
   "outputs": [
    {
     "data": {
      "text/html": [
       "<div>\n",
       "<style scoped>\n",
       "    .dataframe tbody tr th:only-of-type {\n",
       "        vertical-align: middle;\n",
       "    }\n",
       "\n",
       "    .dataframe tbody tr th {\n",
       "        vertical-align: top;\n",
       "    }\n",
       "\n",
       "    .dataframe thead th {\n",
       "        text-align: right;\n",
       "    }\n",
       "</style>\n",
       "<table border=\"1\" class=\"dataframe\">\n",
       "  <thead>\n",
       "    <tr style=\"text-align: right;\">\n",
       "      <th></th>\n",
       "      <th>YearStart</th>\n",
       "      <th>LocationDesc</th>\n",
       "      <th>Question</th>\n",
       "      <th>Data_Value</th>\n",
       "      <th>Data_Value_Alt</th>\n",
       "      <th>Low_Confidence_Limit</th>\n",
       "      <th>High_Confidence_Limit</th>\n",
       "      <th>Sample_Size</th>\n",
       "      <th>Total</th>\n",
       "      <th>Age(years)</th>\n",
       "      <th>Education</th>\n",
       "      <th>Gender</th>\n",
       "      <th>Income</th>\n",
       "      <th>Race/Ethnicity</th>\n",
       "      <th>GeoLocation</th>\n",
       "      <th>LocationID</th>\n",
       "      <th>StratificationCategory1</th>\n",
       "      <th>Stratification1</th>\n",
       "      <th>StratificationID1</th>\n",
       "    </tr>\n",
       "  </thead>\n",
       "  <tbody>\n",
       "    <tr>\n",
       "      <th>0</th>\n",
       "      <td>2011</td>\n",
       "      <td>Alabama</td>\n",
       "      <td>Percent of adults aged 18 years and older who have obesity</td>\n",
       "      <td>32.0</td>\n",
       "      <td>32.0</td>\n",
       "      <td>30.5</td>\n",
       "      <td>33.5</td>\n",
       "      <td>7304.0</td>\n",
       "      <td>Total</td>\n",
       "      <td>NaN</td>\n",
       "      <td>NaN</td>\n",
       "      <td>NaN</td>\n",
       "      <td>NaN</td>\n",
       "      <td>NaN</td>\n",
       "      <td>(32.84057112200048, -86.63186076199969)</td>\n",
       "      <td>1</td>\n",
       "      <td>Total</td>\n",
       "      <td>Total</td>\n",
       "      <td>OVERALL</td>\n",
       "    </tr>\n",
       "    <tr>\n",
       "      <th>1</th>\n",
       "      <td>2011</td>\n",
       "      <td>Alabama</td>\n",
       "      <td>Percent of adults aged 18 years and older who have obesity</td>\n",
       "      <td>32.3</td>\n",
       "      <td>32.3</td>\n",
       "      <td>29.9</td>\n",
       "      <td>34.7</td>\n",
       "      <td>2581.0</td>\n",
       "      <td>NaN</td>\n",
       "      <td>NaN</td>\n",
       "      <td>NaN</td>\n",
       "      <td>Male</td>\n",
       "      <td>NaN</td>\n",
       "      <td>NaN</td>\n",
       "      <td>(32.84057112200048, -86.63186076199969)</td>\n",
       "      <td>1</td>\n",
       "      <td>Gender</td>\n",
       "      <td>Male</td>\n",
       "      <td>MALE</td>\n",
       "    </tr>\n",
       "  </tbody>\n",
       "</table>\n",
       "</div>"
      ],
      "text/plain": [
       "   YearStart LocationDesc  \\\n",
       "0       2011      Alabama   \n",
       "1       2011      Alabama   \n",
       "\n",
       "                                                     Question  Data_Value  \\\n",
       "0  Percent of adults aged 18 years and older who have obesity        32.0   \n",
       "1  Percent of adults aged 18 years and older who have obesity        32.3   \n",
       "\n",
       "   Data_Value_Alt  Low_Confidence_Limit  High_Confidence_Limit   Sample_Size  \\\n",
       "0            32.0                  30.5                    33.5       7304.0   \n",
       "1            32.3                  29.9                    34.7       2581.0   \n",
       "\n",
       "   Total Age(years) Education Gender Income Race/Ethnicity  \\\n",
       "0  Total        NaN       NaN    NaN    NaN            NaN   \n",
       "1    NaN        NaN       NaN   Male    NaN            NaN   \n",
       "\n",
       "                               GeoLocation  LocationID  \\\n",
       "0  (32.84057112200048, -86.63186076199969)           1   \n",
       "1  (32.84057112200048, -86.63186076199969)           1   \n",
       "\n",
       "  StratificationCategory1 Stratification1 StratificationID1  \n",
       "0                   Total           Total           OVERALL  \n",
       "1                  Gender            Male              MALE  "
      ]
     },
     "execution_count": 6,
     "metadata": {},
     "output_type": "execute_result"
    }
   ],
   "source": [
    "us_data.head(2)"
   ]
  },
  {
   "cell_type": "code",
   "execution_count": 7,
   "metadata": {
    "scrolled": false
   },
   "outputs": [
    {
     "data": {
      "text/plain": [
       "18264    470700.0\n",
       "Name: Sample_Size, dtype: float64"
      ]
     },
     "execution_count": 7,
     "metadata": {},
     "output_type": "execute_result"
    }
   ],
   "source": [
    "test1 = us_data[(us_data['YearStart'] == 2011)&(us_data['Question'] == q[0])&(us_data['StratificationID1'] == 'OVERALL')]\n",
    "    \n",
    "test1[test1['LocationDesc']=='National']['Sample_Size']"
   ]
  },
  {
   "cell_type": "code",
   "execution_count": 8,
   "metadata": {},
   "outputs": [
    {
     "data": {
      "text/plain": [
       "28.24"
      ]
     },
     "execution_count": 8,
     "metadata": {},
     "output_type": "execute_result"
    }
   ],
   "source": [
    "#finding the national adult obseity % for each year, 2011 - 2015\n",
    "national_ob = us_data[(us_data['LocationDesc'] == 'National') & (us_data['Question'] == q[0]) & \n",
    "                     (us_data['StratificationCategory1'] == 'Total')]\n",
    "national_ob.set_index('YearStart', inplace = True)\n",
    "national_ob = national_ob.sort_index()\n",
    "national_ob_lst = national_ob['Data_Value'].values.tolist()\n",
    "national_ob['Data_Value'].mean()"
   ]
  },
  {
   "cell_type": "markdown",
   "metadata": {},
   "source": [
    "### Finding national % of adults with obesity, comparing to all states across all years"
   ]
  },
  {
   "cell_type": "code",
   "execution_count": 9,
   "metadata": {
    "scrolled": true
   },
   "outputs": [
    {
     "data": {
      "text/html": [
       "<div>\n",
       "<style scoped>\n",
       "    .dataframe tbody tr th:only-of-type {\n",
       "        vertical-align: middle;\n",
       "    }\n",
       "\n",
       "    .dataframe tbody tr th {\n",
       "        vertical-align: top;\n",
       "    }\n",
       "\n",
       "    .dataframe thead th {\n",
       "        text-align: right;\n",
       "    }\n",
       "</style>\n",
       "<table border=\"1\" class=\"dataframe\">\n",
       "  <thead>\n",
       "    <tr style=\"text-align: right;\">\n",
       "      <th></th>\n",
       "      <th>LocationDesc</th>\n",
       "      <th>Question</th>\n",
       "      <th>Data_Value</th>\n",
       "      <th>Data_Value_Alt</th>\n",
       "      <th>Low_Confidence_Limit</th>\n",
       "      <th>High_Confidence_Limit</th>\n",
       "      <th>Sample_Size</th>\n",
       "      <th>Total</th>\n",
       "      <th>Age(years)</th>\n",
       "      <th>Education</th>\n",
       "      <th>Gender</th>\n",
       "      <th>Income</th>\n",
       "      <th>Race/Ethnicity</th>\n",
       "      <th>GeoLocation</th>\n",
       "      <th>LocationID</th>\n",
       "      <th>StratificationCategory1</th>\n",
       "      <th>Stratification1</th>\n",
       "      <th>StratificationID1</th>\n",
       "    </tr>\n",
       "    <tr>\n",
       "      <th>YearStart</th>\n",
       "      <th></th>\n",
       "      <th></th>\n",
       "      <th></th>\n",
       "      <th></th>\n",
       "      <th></th>\n",
       "      <th></th>\n",
       "      <th></th>\n",
       "      <th></th>\n",
       "      <th></th>\n",
       "      <th></th>\n",
       "      <th></th>\n",
       "      <th></th>\n",
       "      <th></th>\n",
       "      <th></th>\n",
       "      <th></th>\n",
       "      <th></th>\n",
       "      <th></th>\n",
       "      <th></th>\n",
       "    </tr>\n",
       "  </thead>\n",
       "  <tbody>\n",
       "    <tr>\n",
       "      <th>2011</th>\n",
       "      <td>National</td>\n",
       "      <td>Percent of adults aged 18 years and older who have obesity</td>\n",
       "      <td>27.4</td>\n",
       "      <td>27.4</td>\n",
       "      <td>27.2</td>\n",
       "      <td>27.7</td>\n",
       "      <td>470700.0</td>\n",
       "      <td>Total</td>\n",
       "      <td>NaN</td>\n",
       "      <td>NaN</td>\n",
       "      <td>NaN</td>\n",
       "      <td>NaN</td>\n",
       "      <td>NaN</td>\n",
       "      <td>NaN</td>\n",
       "      <td>59</td>\n",
       "      <td>Total</td>\n",
       "      <td>Total</td>\n",
       "      <td>OVERALL</td>\n",
       "    </tr>\n",
       "    <tr>\n",
       "      <th>2012</th>\n",
       "      <td>National</td>\n",
       "      <td>Percent of adults aged 18 years and older who have obesity</td>\n",
       "      <td>27.7</td>\n",
       "      <td>27.7</td>\n",
       "      <td>27.4</td>\n",
       "      <td>28.0</td>\n",
       "      <td>442230.0</td>\n",
       "      <td>Total</td>\n",
       "      <td>NaN</td>\n",
       "      <td>NaN</td>\n",
       "      <td>NaN</td>\n",
       "      <td>NaN</td>\n",
       "      <td>NaN</td>\n",
       "      <td>NaN</td>\n",
       "      <td>59</td>\n",
       "      <td>Total</td>\n",
       "      <td>Total</td>\n",
       "      <td>OVERALL</td>\n",
       "    </tr>\n",
       "    <tr>\n",
       "      <th>2013</th>\n",
       "      <td>National</td>\n",
       "      <td>Percent of adults aged 18 years and older who have obesity</td>\n",
       "      <td>28.3</td>\n",
       "      <td>28.3</td>\n",
       "      <td>28.0</td>\n",
       "      <td>28.6</td>\n",
       "      <td>457487.0</td>\n",
       "      <td>Total</td>\n",
       "      <td>NaN</td>\n",
       "      <td>NaN</td>\n",
       "      <td>NaN</td>\n",
       "      <td>NaN</td>\n",
       "      <td>NaN</td>\n",
       "      <td>NaN</td>\n",
       "      <td>59</td>\n",
       "      <td>Total</td>\n",
       "      <td>Total</td>\n",
       "      <td>OVERALL</td>\n",
       "    </tr>\n",
       "    <tr>\n",
       "      <th>2014</th>\n",
       "      <td>National</td>\n",
       "      <td>Percent of adults aged 18 years and older who have obesity</td>\n",
       "      <td>28.9</td>\n",
       "      <td>28.9</td>\n",
       "      <td>28.6</td>\n",
       "      <td>29.2</td>\n",
       "      <td>425875.0</td>\n",
       "      <td>Total</td>\n",
       "      <td>NaN</td>\n",
       "      <td>NaN</td>\n",
       "      <td>NaN</td>\n",
       "      <td>NaN</td>\n",
       "      <td>NaN</td>\n",
       "      <td>NaN</td>\n",
       "      <td>59</td>\n",
       "      <td>Total</td>\n",
       "      <td>Total</td>\n",
       "      <td>OVERALL</td>\n",
       "    </tr>\n",
       "    <tr>\n",
       "      <th>2015</th>\n",
       "      <td>National</td>\n",
       "      <td>Percent of adults aged 18 years and older who have obesity</td>\n",
       "      <td>28.9</td>\n",
       "      <td>28.9</td>\n",
       "      <td>28.6</td>\n",
       "      <td>29.1</td>\n",
       "      <td>398316.0</td>\n",
       "      <td>Total</td>\n",
       "      <td>NaN</td>\n",
       "      <td>NaN</td>\n",
       "      <td>NaN</td>\n",
       "      <td>NaN</td>\n",
       "      <td>NaN</td>\n",
       "      <td>NaN</td>\n",
       "      <td>59</td>\n",
       "      <td>Total</td>\n",
       "      <td>Total</td>\n",
       "      <td>OVERALL</td>\n",
       "    </tr>\n",
       "  </tbody>\n",
       "</table>\n",
       "</div>"
      ],
      "text/plain": [
       "          LocationDesc  \\\n",
       "YearStart                \n",
       "2011          National   \n",
       "2012          National   \n",
       "2013          National   \n",
       "2014          National   \n",
       "2015          National   \n",
       "\n",
       "                                                             Question  \\\n",
       "YearStart                                                               \n",
       "2011       Percent of adults aged 18 years and older who have obesity   \n",
       "2012       Percent of adults aged 18 years and older who have obesity   \n",
       "2013       Percent of adults aged 18 years and older who have obesity   \n",
       "2014       Percent of adults aged 18 years and older who have obesity   \n",
       "2015       Percent of adults aged 18 years and older who have obesity   \n",
       "\n",
       "           Data_Value  Data_Value_Alt  Low_Confidence_Limit  \\\n",
       "YearStart                                                     \n",
       "2011             27.4            27.4                  27.2   \n",
       "2012             27.7            27.7                  27.4   \n",
       "2013             28.3            28.3                  28.0   \n",
       "2014             28.9            28.9                  28.6   \n",
       "2015             28.9            28.9                  28.6   \n",
       "\n",
       "           High_Confidence_Limit   Sample_Size  Total Age(years) Education  \\\n",
       "YearStart                                                                    \n",
       "2011                         27.7     470700.0  Total        NaN       NaN   \n",
       "2012                         28.0     442230.0  Total        NaN       NaN   \n",
       "2013                         28.6     457487.0  Total        NaN       NaN   \n",
       "2014                         29.2     425875.0  Total        NaN       NaN   \n",
       "2015                         29.1     398316.0  Total        NaN       NaN   \n",
       "\n",
       "          Gender Income Race/Ethnicity GeoLocation  LocationID  \\\n",
       "YearStart                                                        \n",
       "2011         NaN    NaN            NaN         NaN          59   \n",
       "2012         NaN    NaN            NaN         NaN          59   \n",
       "2013         NaN    NaN            NaN         NaN          59   \n",
       "2014         NaN    NaN            NaN         NaN          59   \n",
       "2015         NaN    NaN            NaN         NaN          59   \n",
       "\n",
       "          StratificationCategory1 Stratification1 StratificationID1  \n",
       "YearStart                                                            \n",
       "2011                        Total           Total           OVERALL  \n",
       "2012                        Total           Total           OVERALL  \n",
       "2013                        Total           Total           OVERALL  \n",
       "2014                        Total           Total           OVERALL  \n",
       "2015                        Total           Total           OVERALL  "
      ]
     },
     "execution_count": 9,
     "metadata": {},
     "output_type": "execute_result"
    }
   ],
   "source": [
    "national_ob.head()"
   ]
  },
  {
   "cell_type": "code",
   "execution_count": 10,
   "metadata": {},
   "outputs": [
    {
     "data": {
      "text/plain": [
       "27.43593392819205"
      ]
     },
     "execution_count": 10,
     "metadata": {},
     "output_type": "execute_result"
    }
   ],
   "source": [
    "#2011 %obseity weighted mean across all states using 'total'\n",
    "df_wt_11 = us_data[(us_data['Question'] == q[0]) & \n",
    "               (us_data['YearStart'] == 2011) & \n",
    "               (us_data['StratificationCategory1'] == 'Total') & \n",
    "              ~(us_data['LocationDesc'] == 'National')]\n",
    "\n",
    "\n",
    "n_2011_mean = (df_wt_11['Data_Value']*df_wt_11['Sample_Size']).sum()/df_wt_11['Sample_Size'].sum()\n",
    "n_2011_mean"
   ]
  },
  {
   "cell_type": "code",
   "execution_count": 11,
   "metadata": {},
   "outputs": [
    {
     "data": {
      "text/plain": [
       "27.817704814236933"
      ]
     },
     "execution_count": 11,
     "metadata": {},
     "output_type": "execute_result"
    }
   ],
   "source": [
    "#2012 %obseity weighted mean across all states using 'total'\n",
    "df_wt_12 = us_data[(us_data['Question'] == q[0]) & \n",
    "               (us_data['YearStart'] == 2012) & \n",
    "               (us_data['StratificationCategory1'] == 'Total') & \n",
    "              ~(us_data['LocationDesc'] == 'National')]\n",
    "\n",
    "\n",
    "n_2012_mean = (df_wt_12['Data_Value']*df_wt_12['Sample_Size']).sum()/df_wt_12['Sample_Size'].sum()\n",
    "n_2012_mean"
   ]
  },
  {
   "cell_type": "code",
   "execution_count": 12,
   "metadata": {},
   "outputs": [
    {
     "data": {
      "text/plain": [
       "28.317782661160628"
      ]
     },
     "execution_count": 12,
     "metadata": {},
     "output_type": "execute_result"
    }
   ],
   "source": [
    "#2013 %obseity weighted mean across all states using 'total'\n",
    "df_wt_13 = us_data[(us_data['Question'] == q[0]) & \n",
    "               (us_data['YearStart'] == 2013) & \n",
    "               (us_data['StratificationCategory1'] == 'Total') & \n",
    "              ~(us_data['LocationDesc'] == 'National')]\n",
    "\n",
    "\n",
    "n_2013_mean = (df_wt_13['Data_Value']*df_wt_13['Sample_Size']).sum()/df_wt_13['Sample_Size'].sum()\n",
    "n_2013_mean"
   ]
  },
  {
   "cell_type": "code",
   "execution_count": 13,
   "metadata": {},
   "outputs": [
    {
     "data": {
      "text/plain": [
       "29.044841118049632"
      ]
     },
     "execution_count": 13,
     "metadata": {},
     "output_type": "execute_result"
    }
   ],
   "source": [
    "#2014 %obseity weighted mean across all states using 'total'\n",
    "df_wt_14 = us_data[(us_data['Question'] == q[0]) & \n",
    "               (us_data['YearStart'] == 2014) & \n",
    "               (us_data['StratificationCategory1'] == 'Total') & \n",
    "              ~(us_data['LocationDesc'] == 'National')]\n",
    "\n",
    "\n",
    "n_2014_mean = (df_wt_14['Data_Value']*df_wt_14['Sample_Size']).sum()/df_wt_14['Sample_Size'].sum()\n",
    "n_2014_mean"
   ]
  },
  {
   "cell_type": "code",
   "execution_count": 14,
   "metadata": {},
   "outputs": [
    {
     "data": {
      "text/plain": [
       "29.072455302697392"
      ]
     },
     "execution_count": 14,
     "metadata": {},
     "output_type": "execute_result"
    }
   ],
   "source": [
    "#2015 %obseity weighted mean across all states using 'total'\n",
    "df_wt_15 = us_data[(us_data['Question'] == q[0]) & \n",
    "               (us_data['YearStart'] == 2015) & \n",
    "               (us_data['StratificationCategory1'] == 'Total') & \n",
    "              ~(us_data['LocationDesc'] == 'National')]\n",
    "\n",
    "\n",
    "n_2015_mean = (df_wt_15['Data_Value']*df_wt_15['Sample_Size']).sum()/df_wt_15['Sample_Size'].sum()\n",
    "n_2015_mean"
   ]
  },
  {
   "cell_type": "code",
   "execution_count": 15,
   "metadata": {},
   "outputs": [
    {
     "data": {
      "text/plain": [
       "[27.43593392819205,\n",
       " 27.817704814236933,\n",
       " 28.317782661160628,\n",
       " 29.044841118049632,\n",
       " 29.072455302697392]"
      ]
     },
     "execution_count": 15,
     "metadata": {},
     "output_type": "execute_result"
    }
   ],
   "source": [
    "weighted_national_mean = [n_2011_mean, n_2012_mean, n_2013_mean, n_2014_mean, n_2015_mean]\n",
    "weighted_national_mean"
   ]
  },
  {
   "cell_type": "code",
   "execution_count": 16,
   "metadata": {},
   "outputs": [],
   "source": [
    "#using the 'National' filter to find national %obesity mean\n",
    "def find_national_mean(df, year:int, q):\n",
    "    df_1 = df[(df['LocationDesc']=='National')]\n",
    "    df_2 = df_1[(df_1['Question'] == q[0]) & (df_1['YearStart'] == year) & (df_1['StratificationCategory1'] == 'Total')]\n",
    "    return df_2['Data_Value'].values\n"
   ]
  },
  {
   "cell_type": "code",
   "execution_count": 17,
   "metadata": {
    "scrolled": false
   },
   "outputs": [],
   "source": [
    "n_mean = [] #list of national mean %obesity from 2011 - 2015\n",
    "for i in range(2011, 2016):\n",
    "    n_mean.append(find_national_mean(us_data, i, q))"
   ]
  },
  {
   "cell_type": "code",
   "execution_count": 18,
   "metadata": {},
   "outputs": [
    {
     "data": {
      "text/plain": [
       "[array([27.4]), array([27.7]), array([28.3]), array([28.9]), array([28.9])]"
      ]
     },
     "execution_count": 18,
     "metadata": {},
     "output_type": "execute_result"
    }
   ],
   "source": [
    "n_mean #the weighted mean for each year is: 27.4359, 27.8177, 28.3178, 29.0448, 29.0725]"
   ]
  },
  {
   "cell_type": "code",
   "execution_count": 19,
   "metadata": {},
   "outputs": [],
   "source": [
    "#national mean across all years \n",
    "m = sum(n_mean)/len(n_mean)"
   ]
  },
  {
   "cell_type": "code",
   "execution_count": 20,
   "metadata": {},
   "outputs": [
    {
     "data": {
      "text/plain": [
       "28.21139492793246"
      ]
     },
     "execution_count": 20,
     "metadata": {},
     "output_type": "execute_result"
    }
   ],
   "source": [
    "#weighted by national population, national mean for years 2011 - 2015\n",
    "\n",
    "(national_ob['Data_Value']*national_ob['Sample_Size']).sum()/national_ob['Sample_Size'].sum()"
   ]
  },
  {
   "cell_type": "code",
   "execution_count": 21,
   "metadata": {},
   "outputs": [],
   "source": [
    "# finding top/bottom 5 states of obseity for each year% \n",
    "\n",
    "def find_state_mean(df, year, q):\n",
    "    df_filtered = df[~(df['LocationDesc']=='National')]\n",
    "    df_2 = df_filtered[(df_filtered['Question'] == q[0]) & (df_filtered['YearStart'] == year) & (df_filtered['StratificationCategory1'] == 'Total')]\n",
    "    return df_2[['LocationDesc','Data_Value']].sort_values(['Data_Value'], ascending = True)"
   ]
  },
  {
   "cell_type": "code",
   "execution_count": 22,
   "metadata": {},
   "outputs": [
    {
     "data": {
      "text/html": [
       "<div>\n",
       "<style scoped>\n",
       "    .dataframe tbody tr th:only-of-type {\n",
       "        vertical-align: middle;\n",
       "    }\n",
       "\n",
       "    .dataframe tbody tr th {\n",
       "        vertical-align: top;\n",
       "    }\n",
       "\n",
       "    .dataframe thead th {\n",
       "        text-align: right;\n",
       "    }\n",
       "</style>\n",
       "<table border=\"1\" class=\"dataframe\">\n",
       "  <thead>\n",
       "    <tr style=\"text-align: right;\">\n",
       "      <th></th>\n",
       "      <th>LocationDesc</th>\n",
       "      <th>Data_Value</th>\n",
       "    </tr>\n",
       "  </thead>\n",
       "  <tbody>\n",
       "    <tr>\n",
       "      <th>46058</th>\n",
       "      <td>Colorado</td>\n",
       "      <td>20.2</td>\n",
       "    </tr>\n",
       "    <tr>\n",
       "      <th>46222</th>\n",
       "      <td>District of Columbia</td>\n",
       "      <td>22.1</td>\n",
       "    </tr>\n",
       "    <tr>\n",
       "      <th>46388</th>\n",
       "      <td>Hawaii</td>\n",
       "      <td>22.7</td>\n",
       "    </tr>\n",
       "    <tr>\n",
       "      <th>47226</th>\n",
       "      <td>Montana</td>\n",
       "      <td>23.6</td>\n",
       "    </tr>\n",
       "    <tr>\n",
       "      <th>46004</th>\n",
       "      <td>California</td>\n",
       "      <td>24.2</td>\n",
       "    </tr>\n",
       "  </tbody>\n",
       "</table>\n",
       "</div>"
      ],
      "text/plain": [
       "               LocationDesc  Data_Value\n",
       "46058              Colorado        20.2\n",
       "46222  District of Columbia        22.1\n",
       "46388                Hawaii        22.7\n",
       "47226               Montana        23.6\n",
       "46004            California        24.2"
      ]
     },
     "execution_count": 22,
     "metadata": {},
     "output_type": "execute_result"
    }
   ],
   "source": [
    "#%obesity mean for all states in different years\n",
    "state_2011 = find_state_mean(us_data, 2011, q)\n",
    "state_2012 = find_state_mean(us_data, 2012, q)\n",
    "state_2013 = find_state_mean(us_data, 2013, q)\n",
    "state_2014 = find_state_mean(us_data, 2014, q)\n",
    "state_2015 = find_state_mean(us_data, 2015, q)\n",
    "\n",
    "state_2015.head()"
   ]
  },
  {
   "cell_type": "code",
   "execution_count": 23,
   "metadata": {},
   "outputs": [
    {
     "data": {
      "text/plain": [
       "46058    20.2\n",
       "46222    22.1\n",
       "46388    22.7\n",
       "47226    23.6\n",
       "46004    24.2\n",
       "Name: Data_Value, dtype: float64"
      ]
     },
     "execution_count": 23,
     "metadata": {},
     "output_type": "execute_result"
    }
   ],
   "source": [
    "dfs = [state_2011, state_2012, state_2013, state_2014, state_2015]    \n",
    "\n",
    "dfs[4].iloc[:5,1] #getting the top 5 state with the least %obesity in their populaiton for 2015"
   ]
  },
  {
   "cell_type": "code",
   "execution_count": 24,
   "metadata": {},
   "outputs": [
    {
     "data": {
      "text/plain": [
       "<function matplotlib.pyplot.tight_layout(pad=1.08, h_pad=None, w_pad=None, rect=None)>"
      ]
     },
     "execution_count": 24,
     "metadata": {},
     "output_type": "execute_result"
    },
    {
     "data": {
      "image/png": "[encoded data removed]",
      "text/plain": [
       "<Figure size 1440x360 with 5 Axes>"
      ]
     },
     "metadata": {},
     "output_type": "display_data"
    }
   ],
   "source": [
    "#5 least obese states for years 2011 to 2015, weighted national avg for each year is marked in orange\n",
    "dfs = [state_2011, state_2012, state_2013, state_2014, state_2015]    \n",
    "\n",
    "fig, axs = plt.subplots(1,5, figsize = (20,5))\n",
    "x = np.linspace(20, 37, num=16)\n",
    "\n",
    "for idx, ax in enumerate(axs.flatten()):\n",
    "    ax.barh(dfs[idx].iloc[:5,0], dfs[idx].iloc[:5,1], height=0.6)\n",
    "    ax.axvline(n_mean[idx], linestyle='--', color='orange')\n",
    "    ax.set_xlim(None, 35)\n",
    "\n",
    "plt.tight_layout\n"
   ]
  },
  {
   "cell_type": "code",
   "execution_count": 25,
   "metadata": {},
   "outputs": [
    {
     "data": {
      "text/plain": [
       "<function matplotlib.pyplot.tight_layout(pad=1.08, h_pad=None, w_pad=None, rect=None)>"
      ]
     },
     "execution_count": 25,
     "metadata": {},
     "output_type": "execute_result"
    },
    {
     "data": {
      "image/png": "[encoded data removed]",
      "text/plain": [
       "<Figure size 1440x360 with 5 Axes>"
      ]
     },
     "metadata": {},
     "output_type": "display_data"
    }
   ],
   "source": [
    "#5 most obese states from 2011 to 2015, weighted national avg for each year is marked in orange\n",
    "dfs = [state_2011, state_2012, state_2013, state_2014, state_2015]    \n",
    "\n",
    "fig, axs = plt.subplots(1,5, figsize = (20,5))\n",
    "x = np.linspace(20, 37, num=16)\n",
    "\n",
    "for idx, ax in enumerate(axs.flatten()):\n",
    "    ax.barh(dfs[idx].iloc[-5:,0], dfs[idx].iloc[-5:,1], height=0.6)\n",
    "    ax.axvline(n_mean[idx], linestyle='--', color='orange')\n",
    "    ax.set_xlim(None, 40)\n",
    "\n",
    "plt.tight_layout"
   ]
  },
  {
   "cell_type": "markdown",
   "metadata": {},
   "source": [
    "### GENDER"
   ]
  },
  {
   "cell_type": "code",
   "execution_count": 26,
   "metadata": {},
   "outputs": [],
   "source": [
    "#focusing on gender, excluding 'National', 'Guam', 'Puerto Rico' \n",
    "us_gender = us_data[(us_data['Question'] == q[0]) & (us_data['StratificationCategory1'] == 'Gender') \n",
    "                    & ~(us_data['LocationDesc']=='National')&~(us_data['LocationDesc']=='Guam')\n",
    "                    &~(us_data['LocationDesc']=='Puerto Rico')]"
   ]
  },
  {
   "cell_type": "code",
   "execution_count": 27,
   "metadata": {},
   "outputs": [
    {
     "data": {
      "text/html": [
       "<div>\n",
       "<style scoped>\n",
       "    .dataframe tbody tr th:only-of-type {\n",
       "        vertical-align: middle;\n",
       "    }\n",
       "\n",
       "    .dataframe tbody tr th {\n",
       "        vertical-align: top;\n",
       "    }\n",
       "\n",
       "    .dataframe thead th {\n",
       "        text-align: right;\n",
       "    }\n",
       "</style>\n",
       "<table border=\"1\" class=\"dataframe\">\n",
       "  <thead>\n",
       "    <tr style=\"text-align: right;\">\n",
       "      <th></th>\n",
       "      <th>Question</th>\n",
       "      <th>LocationDesc</th>\n",
       "      <th>Data_Value</th>\n",
       "      <th>Sample_Size</th>\n",
       "      <th>StratificationCategory1</th>\n",
       "      <th>Stratification1</th>\n",
       "    </tr>\n",
       "    <tr>\n",
       "      <th>YearStart</th>\n",
       "      <th></th>\n",
       "      <th></th>\n",
       "      <th></th>\n",
       "      <th></th>\n",
       "      <th></th>\n",
       "      <th></th>\n",
       "    </tr>\n",
       "  </thead>\n",
       "  <tbody>\n",
       "    <tr>\n",
       "      <th>2011</th>\n",
       "      <td>Percent of adults aged 18 years and older who have obesity</td>\n",
       "      <td>National</td>\n",
       "      <td>27.1</td>\n",
       "      <td>278712.0</td>\n",
       "      <td>Gender</td>\n",
       "      <td>Female</td>\n",
       "    </tr>\n",
       "    <tr>\n",
       "      <th>2012</th>\n",
       "      <td>Percent of adults aged 18 years and older who have obesity</td>\n",
       "      <td>National</td>\n",
       "      <td>27.4</td>\n",
       "      <td>257190.0</td>\n",
       "      <td>Gender</td>\n",
       "      <td>Female</td>\n",
       "    </tr>\n",
       "    <tr>\n",
       "      <th>2013</th>\n",
       "      <td>Percent of adults aged 18 years and older who have obesity</td>\n",
       "      <td>National</td>\n",
       "      <td>28.3</td>\n",
       "      <td>263276.0</td>\n",
       "      <td>Gender</td>\n",
       "      <td>Female</td>\n",
       "    </tr>\n",
       "    <tr>\n",
       "      <th>2014</th>\n",
       "      <td>Percent of adults aged 18 years and older who have obesity</td>\n",
       "      <td>National</td>\n",
       "      <td>28.8</td>\n",
       "      <td>242169.0</td>\n",
       "      <td>Gender</td>\n",
       "      <td>Female</td>\n",
       "    </tr>\n",
       "    <tr>\n",
       "      <th>2015</th>\n",
       "      <td>Percent of adults aged 18 years and older who have obesity</td>\n",
       "      <td>National</td>\n",
       "      <td>28.6</td>\n",
       "      <td>221909.0</td>\n",
       "      <td>Gender</td>\n",
       "      <td>Female</td>\n",
       "    </tr>\n",
       "  </tbody>\n",
       "</table>\n",
       "</div>"
      ],
      "text/plain": [
       "                                                             Question  \\\n",
       "YearStart                                                               \n",
       "2011       Percent of adults aged 18 years and older who have obesity   \n",
       "2012       Percent of adults aged 18 years and older who have obesity   \n",
       "2013       Percent of adults aged 18 years and older who have obesity   \n",
       "2014       Percent of adults aged 18 years and older who have obesity   \n",
       "2015       Percent of adults aged 18 years and older who have obesity   \n",
       "\n",
       "          LocationDesc  Data_Value  Sample_Size StratificationCategory1  \\\n",
       "YearStart                                                                 \n",
       "2011          National        27.1     278712.0                  Gender   \n",
       "2012          National        27.4     257190.0                  Gender   \n",
       "2013          National        28.3     263276.0                  Gender   \n",
       "2014          National        28.8     242169.0                  Gender   \n",
       "2015          National        28.6     221909.0                  Gender   \n",
       "\n",
       "          Stratification1  \n",
       "YearStart                  \n",
       "2011               Female  \n",
       "2012               Female  \n",
       "2013               Female  \n",
       "2014               Female  \n",
       "2015               Female  "
      ]
     },
     "execution_count": 27,
     "metadata": {},
     "output_type": "execute_result"
    }
   ],
   "source": [
    "#finding the national female obseity % for each year, 2011 - 2015\n",
    "#finding national female %obesity mean across all years\n",
    "n_female_fiveyr = us_data[(us_data['LocationDesc'] == 'National')&(us_data['Question'] == q[0])\n",
    "                        &(us_data['StratificationID1'] == 'FEMALE')]\n",
    "n_female_fiveyr.set_index('YearStart', inplace = True)\n",
    "n_female_fiveyr = n_female_fiveyr.sort_index()\n",
    "n_female_fiveyr_lst = n_female_fiveyr['Data_Value'].values.tolist()\n",
    "n_female_fiveyr['Data_Value'].mean() #national female %obesity mean\n",
    "n_female_fiveyr[['Question','LocationDesc','Data_Value','Sample_Size','StratificationCategory1','Stratification1']]"
   ]
  },
  {
   "cell_type": "code",
   "execution_count": 28,
   "metadata": {},
   "outputs": [
    {
     "data": {
      "text/plain": [
       "[27.05274584517351,\n",
       " 27.560455305416227,\n",
       " 28.069373964964523,\n",
       " 28.79946483653977,\n",
       " 28.6118557606947]"
      ]
     },
     "execution_count": 28,
     "metadata": {},
     "output_type": "execute_result"
    }
   ],
   "source": [
    "#finding weighted mean across all states for each year, female\n",
    "def weighted_f_mean (df, year):\n",
    "    test_f = df[(df['Stratification1']=='Female')&(df['YearStart']==year)]\n",
    "    test_f_mean = (test_f['Data_Value']*test_f['Sample_Size']).sum()/test_f['Sample_Size'].sum()\n",
    "    return test_f_mean\n",
    "years = [2011, 2012, 2013, 2014, 2015]\n",
    "lst_weighted_f_mean = []\n",
    "for year in years:\n",
    "    lst_weighted_f_mean.append(weighted_f_mean(us_gender, year)) \n",
    "\n",
    "lst_weighted_f_mean #comparing to the \"National\" female %obesity shown in the cell above, the two results are close but not the same"
   ]
  },
  {
   "cell_type": "code",
   "execution_count": 29,
   "metadata": {
    "scrolled": true
   },
   "outputs": [
    {
     "data": {
      "text/plain": [
       "(array([ 7.,  7., 38., 38., 37., 49., 36., 24., 10.,  9.]),\n",
       " array([18.7 , 20.62, 22.54, 24.46, 26.38, 28.3 , 30.22, 32.14, 34.06,\n",
       "        35.98, 37.9 ]),\n",
       " <a list of 10 Patch objects>)"
      ]
     },
     "execution_count": 29,
     "metadata": {},
     "output_type": "execute_result"
    },
    {
     "data": {
      "image/png": "[encoded data removed]",
      "text/plain": [
       "<Figure size 504x360 with 1 Axes>"
      ]
     },
     "metadata": {},
     "output_type": "display_data"
    }
   ],
   "source": [
    "#the mean from this histogram should NOT be used due the different weight in population across states\n",
    "us_gender_female = us_gender[us_gender['Stratification1'] == 'Female']\n",
    "female_obesity = us_gender_female['Data_Value'].values\n",
    "\n",
    "bins = [20,25,30,35,40]\n",
    "#x = np.linspace(19,40,num=25)\n",
    "fig, ax = plt.subplots(figsize = (7,5))\n",
    "ax.hist(female_obesity)\n"
   ]
  },
  {
   "cell_type": "code",
   "execution_count": 30,
   "metadata": {},
   "outputs": [
    {
     "data": {
      "text/html": [
       "<div>\n",
       "<style scoped>\n",
       "    .dataframe tbody tr th:only-of-type {\n",
       "        vertical-align: middle;\n",
       "    }\n",
       "\n",
       "    .dataframe tbody tr th {\n",
       "        vertical-align: top;\n",
       "    }\n",
       "\n",
       "    .dataframe thead th {\n",
       "        text-align: right;\n",
       "    }\n",
       "</style>\n",
       "<table border=\"1\" class=\"dataframe\">\n",
       "  <thead>\n",
       "    <tr style=\"text-align: right;\">\n",
       "      <th></th>\n",
       "      <th>Question</th>\n",
       "      <th>LocationDesc</th>\n",
       "      <th>Data_Value</th>\n",
       "      <th>Sample_Size</th>\n",
       "      <th>StratificationCategory1</th>\n",
       "      <th>Stratification1</th>\n",
       "    </tr>\n",
       "    <tr>\n",
       "      <th>YearStart</th>\n",
       "      <th></th>\n",
       "      <th></th>\n",
       "      <th></th>\n",
       "      <th></th>\n",
       "      <th></th>\n",
       "      <th></th>\n",
       "    </tr>\n",
       "  </thead>\n",
       "  <tbody>\n",
       "    <tr>\n",
       "      <th>2011</th>\n",
       "      <td>Percent of adults aged 18 years and older who have obesity</td>\n",
       "      <td>National</td>\n",
       "      <td>27.8</td>\n",
       "      <td>191988.0</td>\n",
       "      <td>Gender</td>\n",
       "      <td>Male</td>\n",
       "    </tr>\n",
       "    <tr>\n",
       "      <th>2012</th>\n",
       "      <td>Percent of adults aged 18 years and older who have obesity</td>\n",
       "      <td>National</td>\n",
       "      <td>28.0</td>\n",
       "      <td>185040.0</td>\n",
       "      <td>Gender</td>\n",
       "      <td>Male</td>\n",
       "    </tr>\n",
       "    <tr>\n",
       "      <th>2013</th>\n",
       "      <td>Percent of adults aged 18 years and older who have obesity</td>\n",
       "      <td>National</td>\n",
       "      <td>28.3</td>\n",
       "      <td>194211.0</td>\n",
       "      <td>Gender</td>\n",
       "      <td>Male</td>\n",
       "    </tr>\n",
       "    <tr>\n",
       "      <th>2014</th>\n",
       "      <td>Percent of adults aged 18 years and older who have obesity</td>\n",
       "      <td>National</td>\n",
       "      <td>29.0</td>\n",
       "      <td>183706.0</td>\n",
       "      <td>Gender</td>\n",
       "      <td>Male</td>\n",
       "    </tr>\n",
       "    <tr>\n",
       "      <th>2015</th>\n",
       "      <td>Percent of adults aged 18 years and older who have obesity</td>\n",
       "      <td>National</td>\n",
       "      <td>29.1</td>\n",
       "      <td>176407.0</td>\n",
       "      <td>Gender</td>\n",
       "      <td>Male</td>\n",
       "    </tr>\n",
       "  </tbody>\n",
       "</table>\n",
       "</div>"
      ],
      "text/plain": [
       "                                                             Question  \\\n",
       "YearStart                                                               \n",
       "2011       Percent of adults aged 18 years and older who have obesity   \n",
       "2012       Percent of adults aged 18 years and older who have obesity   \n",
       "2013       Percent of adults aged 18 years and older who have obesity   \n",
       "2014       Percent of adults aged 18 years and older who have obesity   \n",
       "2015       Percent of adults aged 18 years and older who have obesity   \n",
       "\n",
       "          LocationDesc  Data_Value  Sample_Size StratificationCategory1  \\\n",
       "YearStart                                                                 \n",
       "2011          National        27.8     191988.0                  Gender   \n",
       "2012          National        28.0     185040.0                  Gender   \n",
       "2013          National        28.3     194211.0                  Gender   \n",
       "2014          National        29.0     183706.0                  Gender   \n",
       "2015          National        29.1     176407.0                  Gender   \n",
       "\n",
       "          Stratification1  \n",
       "YearStart                  \n",
       "2011                 Male  \n",
       "2012                 Male  \n",
       "2013                 Male  \n",
       "2014                 Male  \n",
       "2015                 Male  "
      ]
     },
     "execution_count": 30,
     "metadata": {},
     "output_type": "execute_result"
    }
   ],
   "source": [
    "#finding the national male obseity % for each year, 2011 - 2015\n",
    "#finding national male %obeisty mean across all years\n",
    "n_male_fiveyr = us_data[(us_data['LocationDesc'] == 'National') & (us_data['Question'] == q[0]) \n",
    "        & (us_data['StratificationCategory1'] == 'Gender') & (us_data['Stratification1'] == 'Male')]\n",
    "n_male_fiveyr.set_index('YearStart', inplace = True)\n",
    "n_male_fiveyr = n_male_fiveyr.sort_index()\n",
    "n_male_fiveyr_lst = n_male_fiveyr['Data_Value'].values.tolist()\n",
    "n_male_fiveyr['Data_Value'].mean() #national male %obesity mean\n",
    "n_male_fiveyr[['Question','LocationDesc','Data_Value','Sample_Size','StratificationCategory1','Stratification1']]"
   ]
  },
  {
   "cell_type": "code",
   "execution_count": 31,
   "metadata": {},
   "outputs": [],
   "source": [
    "male_tsize = 191988.0\n",
    "male_nob = 27.8/100*male_tsize\n",
    "\n",
    "female_tsize = 278712.0\n",
    "female_nob = 27.1/100*female_tsize\n",
    "\n",
    "gender_tsize = male_tsize + female_tsize # for 2011"
   ]
  },
  {
   "cell_type": "code",
   "execution_count": 32,
   "metadata": {},
   "outputs": [],
   "source": [
    "shared_sample_freq_g = (male_nob + female_nob) / gender_tsize\n",
    "shared_sample_variance_g = gender_tsize * (shared_sample_freq_g * (1 - shared_sample_freq_g)) / (male_tsize*female_tsize)\n",
    "\n",
    "difference_in_proportions_g = stats.norm(0, np.sqrt(shared_sample_variance_g))"
   ]
  },
  {
   "cell_type": "code",
   "execution_count": 33,
   "metadata": {},
   "outputs": [
    {
     "name": "stdout",
     "output_type": "stream",
     "text": [
      "p-value for gender frequency comparison: 0.0000000603\n"
     ]
    }
   ],
   "source": [
    "male_sample_freq = male_nob / male_tsize\n",
    "female_sample_freq = female_nob / female_tsize\n",
    "difference_in_sample_proportions_g = male_sample_freq - female_sample_freq\n",
    "\n",
    "\n",
    "p_value = 1 - difference_in_proportions_g.cdf(difference_in_sample_proportions_g)\n",
    "print(\"p-value for gender frequency comparison: {:2.10f}\".format(p_value))\n"
   ]
  },
  {
   "cell_type": "code",
   "execution_count": null,
   "metadata": {},
   "outputs": [],
   "source": []
  },
  {
   "cell_type": "code",
   "execution_count": null,
   "metadata": {},
   "outputs": [],
   "source": []
  },
  {
   "cell_type": "code",
   "execution_count": 34,
   "metadata": {
    "scrolled": false
   },
   "outputs": [
    {
     "data": {
      "text/plain": [
       "(array([ 4.,  5.,  4., 25., 41., 65., 52., 35., 20.,  4.]),\n",
       " array([17.6 , 19.58, 21.56, 23.54, 25.52, 27.5 , 29.48, 31.46, 33.44,\n",
       "        35.42, 37.4 ]),\n",
       " <a list of 10 Patch objects>)"
      ]
     },
     "execution_count": 34,
     "metadata": {},
     "output_type": "execute_result"
    },
    {
     "data": {
      "image/png": "[encoded data removed]",
      "text/plain": [
       "<Figure size 504x360 with 1 Axes>"
      ]
     },
     "metadata": {},
     "output_type": "display_data"
    }
   ],
   "source": [
    "#the mean from this historgram should NOT be used due to the population weight difference across states\n",
    "us_gender_male = us_gender[us_gender['Stratification1'] == 'Male']\n",
    "male_obesity = us_gender_male['Data_Value'].values\n",
    "\n",
    "#bins = [20,25,30,35,40]\n",
    "#x = np.linspace(19,40,num=25)\n",
    "fig, ax = plt.subplots(figsize = (7,5))\n",
    "ax.hist(male_obesity)\n"
   ]
  },
  {
   "cell_type": "code",
   "execution_count": 35,
   "metadata": {},
   "outputs": [
    {
     "data": {
      "text/plain": [
       "28.18150302924258"
      ]
     },
     "execution_count": 35,
     "metadata": {},
     "output_type": "execute_result"
    }
   ],
   "source": [
    "#finding the national weighted %obesity mean based on male & female\n",
    "(((n_female_fiveyr['Sample_Size']*n_female_fiveyr['Data_Value']).sum()\n",
    "  + (n_male_fiveyr['Sample_Size']*n_male_fiveyr['Data_Value']).sum())\n",
    " /(n_female_fiveyr['Sample_Size'].sum() + n_male_fiveyr['Sample_Size'].sum()))\n",
    "                                               \n",
    "#this weighted national mean for 5 years is relatively similar to the mean calculated from using the \"National\" filter\n",
    "#mean from \"National\" filter = 28.2\n",
    "                                               "
   ]
  },
  {
   "cell_type": "code",
   "execution_count": 36,
   "metadata": {},
   "outputs": [
    {
     "data": {
      "text/plain": [
       "Text(0.5,1,'% of Adults Who Have Obesity in the US, 2011-2015')"
      ]
     },
     "execution_count": 36,
     "metadata": {},
     "output_type": "execute_result"
    },
    {
     "data": {
      "image/png": "[encoded data removed]",
      "text/plain": [
       "<Figure size 864x360 with 1 Axes>"
      ]
     },
     "metadata": {},
     "output_type": "display_data"
    }
   ],
   "source": [
    "fig, ax = plt.subplots(figsize = (12, 5))\n",
    "x = n_female_fiveyr['Data_Value'].index.values\n",
    "y_f = n_female_fiveyr['Data_Value'].values\n",
    "y_m = n_male_fiveyr['Data_Value'].values\n",
    "ax.plot(x, y_f, linewidth=2, color='tomato')\n",
    "ax.plot(x, y_m, linewidth=2, color='royalblue')\n",
    "\n",
    "ax.set_xticks(x)\n",
    "ax.set_title('% of Adults Who Have Obesity in the US, 2011-2015')"
   ]
  },
  {
   "cell_type": "markdown",
   "metadata": {},
   "source": [
    "### INCOME "
   ]
  },
  {
   "cell_type": "code",
   "execution_count": 37,
   "metadata": {
    "scrolled": true
   },
   "outputs": [
    {
     "data": {
      "text/html": [
       "<div>\n",
       "<style scoped>\n",
       "    .dataframe tbody tr th:only-of-type {\n",
       "        vertical-align: middle;\n",
       "    }\n",
       "\n",
       "    .dataframe tbody tr th {\n",
       "        vertical-align: top;\n",
       "    }\n",
       "\n",
       "    .dataframe thead th {\n",
       "        text-align: right;\n",
       "    }\n",
       "</style>\n",
       "<table border=\"1\" class=\"dataframe\">\n",
       "  <thead>\n",
       "    <tr style=\"text-align: right;\">\n",
       "      <th></th>\n",
       "      <th>YearStart</th>\n",
       "      <th>LocationDesc</th>\n",
       "      <th>Question</th>\n",
       "      <th>Data_Value</th>\n",
       "      <th>Data_Value_Alt</th>\n",
       "      <th>Low_Confidence_Limit</th>\n",
       "      <th>High_Confidence_Limit</th>\n",
       "      <th>Sample_Size</th>\n",
       "      <th>Total</th>\n",
       "      <th>Age(years)</th>\n",
       "      <th>Education</th>\n",
       "      <th>Gender</th>\n",
       "      <th>Income</th>\n",
       "      <th>Race/Ethnicity</th>\n",
       "      <th>GeoLocation</th>\n",
       "      <th>LocationID</th>\n",
       "      <th>StratificationCategory1</th>\n",
       "      <th>Stratification1</th>\n",
       "      <th>StratificationID1</th>\n",
       "    </tr>\n",
       "  </thead>\n",
       "  <tbody>\n",
       "    <tr>\n",
       "      <th>18197</th>\n",
       "      <td>2011</td>\n",
       "      <td>National</td>\n",
       "      <td>Percent of adults aged 18 years and older who have obesity</td>\n",
       "      <td>31.3</td>\n",
       "      <td>31.3</td>\n",
       "      <td>30.6</td>\n",
       "      <td>32.0</td>\n",
       "      <td>74049.0</td>\n",
       "      <td>NaN</td>\n",
       "      <td>NaN</td>\n",
       "      <td>NaN</td>\n",
       "      <td>NaN</td>\n",
       "      <td>$15,000 - $24,999</td>\n",
       "      <td>NaN</td>\n",
       "      <td>NaN</td>\n",
       "      <td>59</td>\n",
       "      <td>Income</td>\n",
       "      <td>$15,000 - $24,999</td>\n",
       "      <td>INC1525</td>\n",
       "    </tr>\n",
       "    <tr>\n",
       "      <th>18250</th>\n",
       "      <td>2011</td>\n",
       "      <td>National</td>\n",
       "      <td>Percent of adults aged 18 years and older who have obesity</td>\n",
       "      <td>32.3</td>\n",
       "      <td>32.3</td>\n",
       "      <td>31.4</td>\n",
       "      <td>33.2</td>\n",
       "      <td>49598.0</td>\n",
       "      <td>NaN</td>\n",
       "      <td>NaN</td>\n",
       "      <td>NaN</td>\n",
       "      <td>NaN</td>\n",
       "      <td>Less than $15,000</td>\n",
       "      <td>NaN</td>\n",
       "      <td>NaN</td>\n",
       "      <td>59</td>\n",
       "      <td>Income</td>\n",
       "      <td>Less than $15,000</td>\n",
       "      <td>INCLESS15</td>\n",
       "    </tr>\n",
       "  </tbody>\n",
       "</table>\n",
       "</div>"
      ],
      "text/plain": [
       "       YearStart LocationDesc  \\\n",
       "18197       2011     National   \n",
       "18250       2011     National   \n",
       "\n",
       "                                                         Question  Data_Value  \\\n",
       "18197  Percent of adults aged 18 years and older who have obesity        31.3   \n",
       "18250  Percent of adults aged 18 years and older who have obesity        32.3   \n",
       "\n",
       "       Data_Value_Alt  Low_Confidence_Limit  High_Confidence_Limit   \\\n",
       "18197            31.3                  30.6                    32.0   \n",
       "18250            32.3                  31.4                    33.2   \n",
       "\n",
       "       Sample_Size Total Age(years) Education Gender             Income  \\\n",
       "18197      74049.0   NaN        NaN       NaN    NaN  $15,000 - $24,999   \n",
       "18250      49598.0   NaN        NaN       NaN    NaN  Less than $15,000   \n",
       "\n",
       "      Race/Ethnicity GeoLocation  LocationID StratificationCategory1  \\\n",
       "18197            NaN         NaN          59                  Income   \n",
       "18250            NaN         NaN          59                  Income   \n",
       "\n",
       "         Stratification1 StratificationID1  \n",
       "18197  $15,000 - $24,999           INC1525  \n",
       "18250  Less than $15,000         INCLESS15  "
      ]
     },
     "execution_count": 37,
     "metadata": {},
     "output_type": "execute_result"
    }
   ],
   "source": [
    "income_states = us_data[(us_data['StratificationCategory1'] == 'Income') & (us_data['Question'] == q[0]) \n",
    "                            & ~(us_data['LocationDesc']=='National')&~(us_data['LocationDesc']=='Guam')\n",
    "                            &~(us_data['LocationDesc']=='Puerto Rico')]\n",
    "income_states = income_states.reset_index(drop = True)\n",
    "\n",
    "income_national = us_data[(us_data['StratificationCategory1'] == 'Income') & (us_data['Question'] == q[0]) \n",
    "                            & (us_data['LocationDesc']=='National')]\n",
    "income_national.head(2)"
   ]
  },
  {
   "cell_type": "code",
   "execution_count": 38,
   "metadata": {
    "scrolled": true
   },
   "outputs": [
    {
     "data": {
      "text/html": [
       "<div>\n",
       "<style scoped>\n",
       "    .dataframe tbody tr th:only-of-type {\n",
       "        vertical-align: middle;\n",
       "    }\n",
       "\n",
       "    .dataframe tbody tr th {\n",
       "        vertical-align: top;\n",
       "    }\n",
       "\n",
       "    .dataframe thead th {\n",
       "        text-align: right;\n",
       "    }\n",
       "</style>\n",
       "<table border=\"1\" class=\"dataframe\">\n",
       "  <thead>\n",
       "    <tr style=\"text-align: right;\">\n",
       "      <th></th>\n",
       "      <th>YearStart</th>\n",
       "      <th>LocationDesc</th>\n",
       "      <th>Data_Value</th>\n",
       "      <th>Sample_Size</th>\n",
       "      <th>Stratification1</th>\n",
       "    </tr>\n",
       "  </thead>\n",
       "  <tbody>\n",
       "    <tr>\n",
       "      <th>18583</th>\n",
       "      <td>2013</td>\n",
       "      <td>National</td>\n",
       "      <td>33.6</td>\n",
       "      <td>46889.0</td>\n",
       "      <td>Less than $15,000</td>\n",
       "    </tr>\n",
       "    <tr>\n",
       "      <th>18584</th>\n",
       "      <td>2013</td>\n",
       "      <td>National</td>\n",
       "      <td>32.3</td>\n",
       "      <td>71389.0</td>\n",
       "      <td>$15,000 - $24,999</td>\n",
       "    </tr>\n",
       "    <tr>\n",
       "      <th>18585</th>\n",
       "      <td>2013</td>\n",
       "      <td>National</td>\n",
       "      <td>29.8</td>\n",
       "      <td>46125.0</td>\n",
       "      <td>$25,000 - $34,999</td>\n",
       "    </tr>\n",
       "    <tr>\n",
       "      <th>18586</th>\n",
       "      <td>2013</td>\n",
       "      <td>National</td>\n",
       "      <td>30.0</td>\n",
       "      <td>58655.0</td>\n",
       "      <td>$35,000 - $49,999</td>\n",
       "    </tr>\n",
       "    <tr>\n",
       "      <th>18587</th>\n",
       "      <td>2013</td>\n",
       "      <td>National</td>\n",
       "      <td>28.8</td>\n",
       "      <td>62562.0</td>\n",
       "      <td>$50,000 - $74,999</td>\n",
       "    </tr>\n",
       "    <tr>\n",
       "      <th>18588</th>\n",
       "      <td>2013</td>\n",
       "      <td>National</td>\n",
       "      <td>23.9</td>\n",
       "      <td>111798.0</td>\n",
       "      <td>$75,000 or greater</td>\n",
       "    </tr>\n",
       "  </tbody>\n",
       "</table>\n",
       "</div>"
      ],
      "text/plain": [
       "       YearStart LocationDesc  Data_Value  Sample_Size     Stratification1\n",
       "18583       2013     National        33.6      46889.0   Less than $15,000\n",
       "18584       2013     National        32.3      71389.0   $15,000 - $24,999\n",
       "18585       2013     National        29.8      46125.0   $25,000 - $34,999\n",
       "18586       2013     National        30.0      58655.0   $35,000 - $49,999\n",
       "18587       2013     National        28.8      62562.0   $50,000 - $74,999\n",
       "18588       2013     National        23.9     111798.0  $75,000 or greater"
      ]
     },
     "execution_count": 38,
     "metadata": {},
     "output_type": "execute_result"
    }
   ],
   "source": [
    "#finding the average %obesity across all states for 2013, based on 'National' filter in the dataset\n",
    "income_n_2013 = income_national[income_national['YearStart']==2013]\n",
    "income_n_2013 = income_n_2013[['YearStart','LocationDesc','Data_Value','Sample_Size','Stratification1']]\n",
    "income_n_2013 = income_n_2013[~(income_n_2013['Stratification1']=='Data not reported')]\n",
    "income_n_2013"
   ]
  },
  {
   "cell_type": "code",
   "execution_count": 39,
   "metadata": {},
   "outputs": [],
   "source": [
    "#putting into function, return national average %obesity across all states, found based on 'National' filter\n",
    "def income_national_ob(df, year):\n",
    "    df1 = df[df['YearStart']==year]\n",
    "    df1 = df1[['Data_Value','Sample_Size','Stratification1']]\n",
    "    df1 = df1[~(df1['Stratification1']=='Data not reported')].sort_values(by='Data_Value')\n",
    "    #df2 = df1.reset_index(inplace=True)\n",
    "    df1.rename(columns={\"Stratification1\": \"Income_Level\", \"Data_Value\": str(year)+\"_%Obesity\", \n",
    "                       'Sample_Size':str(year)+'_Sample_Size'}, inplace=True)\n",
    "    \n",
    "    return df1"
   ]
  },
  {
   "cell_type": "code",
   "execution_count": 40,
   "metadata": {},
   "outputs": [
    {
     "data": {
      "text/html": [
       "<div>\n",
       "<style scoped>\n",
       "    .dataframe tbody tr th:only-of-type {\n",
       "        vertical-align: middle;\n",
       "    }\n",
       "\n",
       "    .dataframe tbody tr th {\n",
       "        vertical-align: top;\n",
       "    }\n",
       "\n",
       "    .dataframe thead th {\n",
       "        text-align: right;\n",
       "    }\n",
       "</style>\n",
       "<table border=\"1\" class=\"dataframe\">\n",
       "  <thead>\n",
       "    <tr style=\"text-align: right;\">\n",
       "      <th></th>\n",
       "      <th>2011_%Obesity</th>\n",
       "      <th>2011_Sample_Size</th>\n",
       "      <th>Income_Level</th>\n",
       "    </tr>\n",
       "  </thead>\n",
       "  <tbody>\n",
       "    <tr>\n",
       "      <th>18254</th>\n",
       "      <td>22.8</td>\n",
       "      <td>110120.0</td>\n",
       "      <td>$75,000 or greater</td>\n",
       "    </tr>\n",
       "    <tr>\n",
       "      <th>18253</th>\n",
       "      <td>28.4</td>\n",
       "      <td>64688.0</td>\n",
       "      <td>$50,000 - $74,999</td>\n",
       "    </tr>\n",
       "    <tr>\n",
       "      <th>18252</th>\n",
       "      <td>28.7</td>\n",
       "      <td>61354.0</td>\n",
       "      <td>$35,000 - $49,999</td>\n",
       "    </tr>\n",
       "    <tr>\n",
       "      <th>18251</th>\n",
       "      <td>29.5</td>\n",
       "      <td>48943.0</td>\n",
       "      <td>$25,000 - $34,999</td>\n",
       "    </tr>\n",
       "    <tr>\n",
       "      <th>18197</th>\n",
       "      <td>31.3</td>\n",
       "      <td>74049.0</td>\n",
       "      <td>$15,000 - $24,999</td>\n",
       "    </tr>\n",
       "    <tr>\n",
       "      <th>18250</th>\n",
       "      <td>32.3</td>\n",
       "      <td>49598.0</td>\n",
       "      <td>Less than $15,000</td>\n",
       "    </tr>\n",
       "  </tbody>\n",
       "</table>\n",
       "</div>"
      ],
      "text/plain": [
       "       2011_%Obesity  2011_Sample_Size        Income_Level\n",
       "18254           22.8          110120.0  $75,000 or greater\n",
       "18253           28.4           64688.0   $50,000 - $74,999\n",
       "18252           28.7           61354.0   $35,000 - $49,999\n",
       "18251           29.5           48943.0   $25,000 - $34,999\n",
       "18197           31.3           74049.0   $15,000 - $24,999\n",
       "18250           32.3           49598.0   Less than $15,000"
      ]
     },
     "execution_count": 40,
     "metadata": {},
     "output_type": "execute_result"
    }
   ],
   "source": [
    "income_n_2011 = income_national_ob(income_national, 2011)\n",
    "income_n_2011"
   ]
  },
  {
   "cell_type": "code",
   "execution_count": 41,
   "metadata": {
    "scrolled": true
   },
   "outputs": [
    {
     "data": {
      "text/html": [
       "<div>\n",
       "<style scoped>\n",
       "    .dataframe tbody tr th:only-of-type {\n",
       "        vertical-align: middle;\n",
       "    }\n",
       "\n",
       "    .dataframe tbody tr th {\n",
       "        vertical-align: top;\n",
       "    }\n",
       "\n",
       "    .dataframe thead th {\n",
       "        text-align: right;\n",
       "    }\n",
       "</style>\n",
       "<table border=\"1\" class=\"dataframe\">\n",
       "  <thead>\n",
       "    <tr style=\"text-align: right;\">\n",
       "      <th></th>\n",
       "      <th>2011_%Obesity</th>\n",
       "      <th>2011_Sample_Size</th>\n",
       "      <th>2012_%Obesity</th>\n",
       "      <th>2012_Sample_Size</th>\n",
       "      <th>2013_%Obesity</th>\n",
       "      <th>2013_Sample_Size</th>\n",
       "      <th>2014_%Obesity</th>\n",
       "      <th>2014_Sample_Size</th>\n",
       "      <th>2015_%Obesity</th>\n",
       "      <th>2015_Sample_Size</th>\n",
       "    </tr>\n",
       "    <tr>\n",
       "      <th>Income_Level</th>\n",
       "      <th></th>\n",
       "      <th></th>\n",
       "      <th></th>\n",
       "      <th></th>\n",
       "      <th></th>\n",
       "      <th></th>\n",
       "      <th></th>\n",
       "      <th></th>\n",
       "      <th></th>\n",
       "      <th></th>\n",
       "    </tr>\n",
       "  </thead>\n",
       "  <tbody>\n",
       "    <tr>\n",
       "      <th>$75,000 or greater</th>\n",
       "      <td>22.8</td>\n",
       "      <td>110120.0</td>\n",
       "      <td>23.4</td>\n",
       "      <td>107562.0</td>\n",
       "      <td>23.9</td>\n",
       "      <td>111798.0</td>\n",
       "      <td>25.1</td>\n",
       "      <td>112498.0</td>\n",
       "      <td>24.6</td>\n",
       "      <td>109789.0</td>\n",
       "    </tr>\n",
       "    <tr>\n",
       "      <th>$50,000 - $74,999</th>\n",
       "      <td>28.4</td>\n",
       "      <td>64688.0</td>\n",
       "      <td>28.9</td>\n",
       "      <td>61143.0</td>\n",
       "      <td>28.8</td>\n",
       "      <td>62562.0</td>\n",
       "      <td>29.2</td>\n",
       "      <td>59297.0</td>\n",
       "      <td>29.9</td>\n",
       "      <td>54950.0</td>\n",
       "    </tr>\n",
       "    <tr>\n",
       "      <th>$35,000 - $49,999</th>\n",
       "      <td>28.7</td>\n",
       "      <td>61354.0</td>\n",
       "      <td>28.5</td>\n",
       "      <td>57017.0</td>\n",
       "      <td>30.0</td>\n",
       "      <td>58655.0</td>\n",
       "      <td>30.7</td>\n",
       "      <td>54340.0</td>\n",
       "      <td>30.6</td>\n",
       "      <td>48843.0</td>\n",
       "    </tr>\n",
       "    <tr>\n",
       "      <th>$25,000 - $34,999</th>\n",
       "      <td>29.5</td>\n",
       "      <td>48943.0</td>\n",
       "      <td>29.2</td>\n",
       "      <td>44721.0</td>\n",
       "      <td>29.8</td>\n",
       "      <td>46125.0</td>\n",
       "      <td>31.1</td>\n",
       "      <td>41727.0</td>\n",
       "      <td>32.1</td>\n",
       "      <td>36483.0</td>\n",
       "    </tr>\n",
       "    <tr>\n",
       "      <th>$15,000 - $24,999</th>\n",
       "      <td>31.3</td>\n",
       "      <td>74049.0</td>\n",
       "      <td>31.6</td>\n",
       "      <td>69410.0</td>\n",
       "      <td>32.3</td>\n",
       "      <td>71389.0</td>\n",
       "      <td>32.2</td>\n",
       "      <td>62892.0</td>\n",
       "      <td>33.2</td>\n",
       "      <td>53993.0</td>\n",
       "    </tr>\n",
       "    <tr>\n",
       "      <th>Less than $15,000</th>\n",
       "      <td>32.3</td>\n",
       "      <td>49598.0</td>\n",
       "      <td>33.1</td>\n",
       "      <td>46419.0</td>\n",
       "      <td>33.6</td>\n",
       "      <td>46889.0</td>\n",
       "      <td>35.2</td>\n",
       "      <td>39123.0</td>\n",
       "      <td>34.8</td>\n",
       "      <td>33296.0</td>\n",
       "    </tr>\n",
       "  </tbody>\n",
       "</table>\n",
       "</div>"
      ],
      "text/plain": [
       "                    2011_%Obesity  2011_Sample_Size  2012_%Obesity  \\\n",
       "Income_Level                                                         \n",
       "$75,000 or greater           22.8          110120.0           23.4   \n",
       "$50,000 - $74,999            28.4           64688.0           28.9   \n",
       "$35,000 - $49,999            28.7           61354.0           28.5   \n",
       "$25,000 - $34,999            29.5           48943.0           29.2   \n",
       "$15,000 - $24,999            31.3           74049.0           31.6   \n",
       "Less than $15,000            32.3           49598.0           33.1   \n",
       "\n",
       "                    2012_Sample_Size  2013_%Obesity  2013_Sample_Size  \\\n",
       "Income_Level                                                            \n",
       "$75,000 or greater          107562.0           23.9          111798.0   \n",
       "$50,000 - $74,999            61143.0           28.8           62562.0   \n",
       "$35,000 - $49,999            57017.0           30.0           58655.0   \n",
       "$25,000 - $34,999            44721.0           29.8           46125.0   \n",
       "$15,000 - $24,999            69410.0           32.3           71389.0   \n",
       "Less than $15,000            46419.0           33.6           46889.0   \n",
       "\n",
       "                    2014_%Obesity  2014_Sample_Size  2015_%Obesity  \\\n",
       "Income_Level                                                         \n",
       "$75,000 or greater           25.1          112498.0           24.6   \n",
       "$50,000 - $74,999            29.2           59297.0           29.9   \n",
       "$35,000 - $49,999            30.7           54340.0           30.6   \n",
       "$25,000 - $34,999            31.1           41727.0           32.1   \n",
       "$15,000 - $24,999            32.2           62892.0           33.2   \n",
       "Less than $15,000            35.2           39123.0           34.8   \n",
       "\n",
       "                    2015_Sample_Size  \n",
       "Income_Level                          \n",
       "$75,000 or greater          109789.0  \n",
       "$50,000 - $74,999            54950.0  \n",
       "$35,000 - $49,999            48843.0  \n",
       "$25,000 - $34,999            36483.0  \n",
       "$15,000 - $24,999            53993.0  \n",
       "Less than $15,000            33296.0  "
      ]
     },
     "execution_count": 41,
     "metadata": {},
     "output_type": "execute_result"
    }
   ],
   "source": [
    "income_n_2011 = income_national_ob(income_national, 2011)\n",
    "income_n_2012 = income_national_ob(income_national, 2012)\n",
    "income_n_2013 = income_national_ob(income_national, 2013)\n",
    "income_n_2014 = income_national_ob(income_national, 2014)\n",
    "income_n_2015 = income_national_ob(income_national, 2015)\n",
    "\n",
    "\n",
    "df_income_n = income_n_2011.set_index('Income_Level').join(income_n_2012.set_index(\n",
    "    'Income_Level')).join(income_n_2013.set_index('Income_Level')).join(income_n_2014.set_index('Income_Level')).join(income_n_2015.set_index('Income_Level'))\n",
    "\n",
    "df_income_n #returns joined table with for years 2011-2015, income_leve vs %obesity\n"
   ]
  },
  {
   "cell_type": "code",
   "execution_count": null,
   "metadata": {},
   "outputs": [],
   "source": []
  },
  {
   "cell_type": "code",
   "execution_count": 42,
   "metadata": {
    "scrolled": true
   },
   "outputs": [],
   "source": [
    "#THIS IS NOT WEIGHTED AVERAGE, SHOULD NOT USE\n",
    "\n",
    "# def obesity_income(df, year):\n",
    "#     df1 = df[df['YearStart']==year]\n",
    "#     df1 = df1[['YearStart','LocationDesc','Data_Value','Stratification1']]\n",
    "#     df1 = df1[~(df1['Stratification1']=='Data not reported')]\n",
    "#     df1_g = df1.groupby(by='Stratification1')['Data_Value'].mean().sort_values()\n",
    "#     df1_g = df1_g.reset_index()\n",
    "#     df1_g.rename(columns={\"Stratification1\": \"Income_Level\", \"Data_Value\": str(year)+\"_%Obesity\"}, inplace=True)\n",
    "    \n",
    "#     return df1_g\n",
    "\n",
    "# income_2011 = obesity_income(income_states, 2011)\n",
    "# income_2012 = obesity_income(income_states, 2012)\n",
    "# income_2013 = obesity_income(income_states, 2013)\n",
    "# income_2014 = obesity_income(income_states, 2014)\n",
    "# income_2015 = obesity_income(income_states, 2015)\n",
    "# df_income = income_2011.set_index('Income_Level').join(income_2012.set_index(\n",
    "#     'Income_Level')).join(income_2013.set_index('Income_Level')).join(income_2014.set_index('Income_Level')).join(income_2015.set_index('Income_Level'))"
   ]
  },
  {
   "cell_type": "code",
   "execution_count": 43,
   "metadata": {},
   "outputs": [
    {
     "ename": "NameError",
     "evalue": "name 'df_income' is not defined",
     "output_type": "error",
     "traceback": [
      "\u001b[0;31m---------------------------------------------------------------------------\u001b[0m",
      "\u001b[0;31mNameError\u001b[0m                                 Traceback (most recent call last)",
      "\u001b[0;32m<ipython-input-43-25b42cf8e2a9>\u001b[0m in \u001b[0;36m<module>\u001b[0;34m()\u001b[0m\n\u001b[1;32m      1\u001b[0m \u001b[0;31m#NOT WEIGTHED AVERAGE\u001b[0m\u001b[0;34m\u001b[0m\u001b[0;34m\u001b[0m\u001b[0;34m\u001b[0m\u001b[0m\n\u001b[0;32m----> 2\u001b[0;31m \u001b[0mdf_income\u001b[0m\u001b[0;34m[\u001b[0m\u001b[0;34m'Total_Avg'\u001b[0m\u001b[0;34m]\u001b[0m \u001b[0;34m=\u001b[0m \u001b[0mdf_income\u001b[0m\u001b[0;34m.\u001b[0m\u001b[0mmean\u001b[0m\u001b[0;34m(\u001b[0m\u001b[0maxis\u001b[0m\u001b[0;34m=\u001b[0m\u001b[0;36m1\u001b[0m\u001b[0;34m)\u001b[0m\u001b[0;34m\u001b[0m\u001b[0;34m\u001b[0m\u001b[0m\n\u001b[0m\u001b[1;32m      3\u001b[0m \u001b[0mdf_income\u001b[0m\u001b[0;34m\u001b[0m\u001b[0;34m\u001b[0m\u001b[0m\n",
      "\u001b[0;31mNameError\u001b[0m: name 'df_income' is not defined"
     ]
    }
   ],
   "source": [
    "#NOT WEIGTHED AVERAGE\n",
    "df_income['Total_Avg'] = df_income.mean(axis=1)\n",
    "df_income"
   ]
  },
  {
   "cell_type": "code",
   "execution_count": null,
   "metadata": {},
   "outputs": [],
   "source": [
    "df_income_plt = df_income_n.iloc[:,0:9:2]\n",
    "df_income_plt"
   ]
  },
  {
   "cell_type": "code",
   "execution_count": null,
   "metadata": {
    "scrolled": false
   },
   "outputs": [],
   "source": [
    "from statistics import mean \n",
    "\n",
    "inc_level = ['>75,000','50,000−74,999','35,000−49,999','25,000−34,999','15,000−24,999','<15,000']\n",
    "# inc_2011 = df_income['2011_%Obesity'].values\n",
    "# inc_2012 = df_income['2012_%Obesity'].values\n",
    "# inc_2013 = df_income['2013_%Obesity'].values\n",
    "# inc_2014 = df_income['2014_%Obesity'].values\n",
    "# inc_2015 = df_income['2015_%Obesity'].values\n",
    "m = sum(n_mean)/len(n_mean) #national mean %obesity, by averaging year 2011 - 2015\n",
    "df_income_plt = df_income_n.iloc[:,0:9:2]\n",
    "ax = df_income_plt.plot.barh(figsize = (15, 8))\n",
    "ax.axvline(m, linestyle='--', color='black')\n",
    "# df = pd.DataFrame({'speed': speed,'lifespan': lifespan}, index=index)\n",
    "# >>> ax = df.plot.barh()"
   ]
  },
  {
   "cell_type": "markdown",
   "metadata": {},
   "source": [
    "### hypothesis testing - income"
   ]
  },
  {
   "cell_type": "markdown",
   "metadata": {},
   "source": [
    "effect of low vs high income level on % obesity in the population\n",
    "\n",
    "- null: low (<25,000) and high (>50,000) has the same obesity rate\n",
    "- alternate: low_income has higher obesity rate than high_income "
   ]
  },
  {
   "cell_type": "code",
   "execution_count": null,
   "metadata": {},
   "outputs": [],
   "source": [
    "# finding low income total sample and number of people with obesity, <25,000\n",
    "# focusing on Louisiana, 2015\n",
    "\n",
    "income_lou = income_states[(income_states['LocationDesc'] == 'Louisiana') & (income_states['YearStart']==2015)]\n",
    "#income_lou['Stratification1'] = income_lou[\"Stratification1\"].astype(str)\n",
    "income_lou_low = income_lou[(income_lou['StratificationID1'] == 'INCLESS15') | (income_lou['StratificationID1'] == 'INC1525')]\\\n",
    "\n",
    "income_lou_low_tsize = income_lou_low['Sample_Size'].sum() #1244\n",
    "\n",
    "income_lou_low_obsize = ((income_lou_low['Data_Value']/100)*income_lou_low['Sample_Size']).sum() #522.772\n",
    "income_lou_low_nobsize = income_lou_low_tsize - income_lou_low_obsize #721.228\n",
    "\n",
    "#income_lou"
   ]
  },
  {
   "cell_type": "code",
   "execution_count": null,
   "metadata": {},
   "outputs": [],
   "source": [
    "# finding high income total sample and number of people with obesity >50,000\n",
    "# focusing on Louisiana, 2015\n",
    "\n",
    "income_lou_h = income_lou[(income_lou['StratificationID1'] == 'INC75PLUS') | (income_lou['StratificationID1'] == 'INC5075')]\n",
    "\n",
    "income_lou_h_tsize = income_lou_h['Sample_Size'].sum() #1431\n",
    "income_lou_h_obsize = ((income_lou_h['Data_Value']/100)*income_lou_h['Sample_Size']).sum()#475.287\n",
    "income_lou_h_nobsize = income_lou_h_tsize - income_lou_h_obsize #955.713\n",
    "\n",
    "# total number of samples for low and high income level\n",
    "income_lou_tsize = income_lou_low_tsize + income_lou_h_tsize #2675.0\n",
    "income_lou_tsize\n"
   ]
  },
  {
   "cell_type": "markdown",
   "metadata": {},
   "source": [
    "- pl = P(low income with obesity)\n",
    "- ph = P(high income with obesity)\n",
    "\n",
    "\n",
    "- H0 : pl = ph\n",
    "- Ha : pl > ph"
   ]
  },
  {
   "cell_type": "code",
   "execution_count": null,
   "metadata": {},
   "outputs": [],
   "source": [
    "# shared_sample_freq = (income_lou_low_obsize + income_lou_h_obsize) / income_lou_tsize\n",
    "# shared_sample_variance = income_lou_tsize * (shared_sample_freq * (1 - shared_sample_freq)) / (income_lou_low_tsize*income_lou_h_tsize)\n",
    "\n",
    "# dif_in_prop = stats.norm(0, np.sqrt(shared_sample_variance))\n"
   ]
  },
  {
   "cell_type": "code",
   "execution_count": null,
   "metadata": {},
   "outputs": [],
   "source": [
    "shared_sample_freq = (522.772+475.287)/2675\n",
    "shared_sample_variance = 2675*(shared_sample_freq*(1-shared_sample_freq))/(1431*1244)\n",
    "\n",
    "diff_in_prop = stats.norm(0, np.sqrt(shared_sample_variance))\n"
   ]
  },
  {
   "cell_type": "code",
   "execution_count": null,
   "metadata": {},
   "outputs": [],
   "source": [
    "fig, ax = plt.subplots(1, figsize=(16, 3))\n",
    "\n",
    "x = np.linspace(-1, 1, num=250)\n",
    "ax.plot(x, dif_in_prop.pdf(x), linewidth=3)\n",
    "ax.set_xlim(-1, 1)"
   ]
  },
  {
   "cell_type": "code",
   "execution_count": null,
   "metadata": {},
   "outputs": [],
   "source": [
    "low_sample_freq = income_lou_low_obsize / income_lou_low_tsize #0.42023\n",
    "high_sample_freq = income_lou_h_obsize / income_lou_h_tsize #0.3321\n",
    "\n",
    "diff_in_sample_prop = low_sample_freq - high_sample_freq #0.088098\n",
    "\n",
    "print(\"Difference in sample proportions: {:2.2f}\".format(diff_in_sample_prop))"
   ]
  },
  {
   "cell_type": "code",
   "execution_count": null,
   "metadata": {},
   "outputs": [],
   "source": [
    "p_value = 1-diff_in_prop.cdf(diff_in_sample_prop)\n",
    "print(\"p-value for obesity frequency comparison: {:2.10f}\".format(p_value)) \n"
   ]
  },
  {
   "cell_type": "code",
   "execution_count": null,
   "metadata": {},
   "outputs": [],
   "source": [
    "\n",
    "us_obesity_income = us_obesity_income[['YearStart','LocationDesc','Data_Value','Stratification1']]\n",
    "us_obesity_income[\"Stratification1\"] = us_obesity_income[\"Stratification1\"].astype(str)\n",
    "us_obesity_income['Stratification1'] = us_obesity_income['Stratification1'].str.replace('$','')\n",
    "\n",
    "ob_lowinc = us_obesity_income[(us_obesity_income['Stratification1'\n",
    "                                                ] == 'Less than 15,000') | (us_obesity_income['Stratification1'] == '15,000 - 24,999')]"
   ]
  },
  {
   "cell_type": "code",
   "execution_count": null,
   "metadata": {},
   "outputs": [],
   "source": [
    "ob_lowinc_d = ob_lowinc.drop('Stratification1', axis=1)\n",
    "ob_lowinc_d['Data_Value'].values()"
   ]
  },
  {
   "cell_type": "code",
   "execution_count": null,
   "metadata": {},
   "outputs": [],
   "source": [
    "\n",
    "plt.hist(ob_lowinc_d['Data_Value'].values)"
   ]
  },
  {
   "cell_type": "markdown",
   "metadata": {},
   "source": [
    "### EDUCATION"
   ]
  },
  {
   "cell_type": "code",
   "execution_count": null,
   "metadata": {},
   "outputs": [],
   "source": [
    "edu_obes_s = us_data[(us_data['StratificationCategory1'] == 'Education') & (us_data['Question'] == q[0]) \n",
    "                            & ~(us_data['LocationDesc']=='National')&~(us_data['LocationDesc']=='Guam')\n",
    "                            &~(us_data['LocationDesc']=='Puerto Rico')]\n",
    "\n",
    "edu_obes_s = edu_obes_s.reset_index(drop = True)\n",
    "\n",
    "edu_obes_n = us_data[(us_data['StratificationCategory1'] == 'Education') & (us_data['Question'] == q[0]) \n",
    "                            & (us_data['LocationDesc']=='National')]"
   ]
  },
  {
   "cell_type": "code",
   "execution_count": null,
   "metadata": {},
   "outputs": [],
   "source": [
    "#finding national %obesity for each year, using the 'National' filter\n",
    "\n",
    "edu_n = edu_obes_n[edu_obes_n['YearStart']==2013]\n",
    "edu_n = edu_n[['YearStart','LocationDesc','Data_Value','Stratification1']].sort_values(by='Data_Value')\n",
    "#edu = edu.groupby(by='Stratification1')['Data_Value'].mean().sort_values()\n",
    "edu_n = edu_n.reset_index()\n",
    "\n",
    "edu_n.rename(columns={\"Stratification1\": \"Education_Level\", \"Data_Value\": \"2013_%Obesity\"})                                     \n",
    "                                      \n",
    "                                      \n"
   ]
  },
  {
   "cell_type": "code",
   "execution_count": null,
   "metadata": {},
   "outputs": [],
   "source": [
    "#function for a DataFrame focusing on education level and %obesity for years 2011-2015, nationally\n",
    "def obesity_edu(df, year):\n",
    "    df1 = df[df['YearStart']==year]\n",
    "    df1 = df1[['Sample_Size','Data_Value','Stratification1']].sort_values(by='Data_Value')\n",
    "    #df1_g = df1.groupby(by='Stratification1')['Data_Value'].mean().sort_values()\n",
    "    #df1 = df1.reset_index()\n",
    "    df1.rename(columns={\"Stratification1\": \"Education_Level\", \"Data_Value\": str(year)+\"_%Obesity\", \n",
    "                       \"Sample_Size\": str(year)+\"_Sample_Size\"}, inplace=True)\n",
    "    \n",
    "    return df1\n",
    "\n"
   ]
  },
  {
   "cell_type": "code",
   "execution_count": null,
   "metadata": {},
   "outputs": [],
   "source": [
    "edu_n_2011 = obesity_edu(edu_obes_n, 2011)\n",
    "edu_n_2012 = obesity_edu(edu_obes_n, 2012)\n",
    "edu_n_2013 = obesity_edu(edu_obes_n, 2013)\n",
    "edu_n_2014 = obesity_edu(edu_obes_n, 2014)\n",
    "edu_n_2015 = obesity_edu(edu_obes_n, 2015)\n",
    "df_edu = edu_n_2011.set_index('Education_Level').join(edu_n_2012.set_index(\n",
    "    'Education_Level')).join(edu_n_2013.set_index('Education_Level')).join(edu_n_2014.set_index('Education_Level')).join(edu_n_2015.set_index('Education_Level'))\n",
    "\n"
   ]
  },
  {
   "cell_type": "code",
   "execution_count": null,
   "metadata": {
    "scrolled": true
   },
   "outputs": [],
   "source": [
    "df_edu"
   ]
  },
  {
   "cell_type": "markdown",
   "metadata": {},
   "source": [
    "welch t test"
   ]
  },
  {
   "cell_type": "code",
   "execution_count": null,
   "metadata": {},
   "outputs": [],
   "source": [
    "college = df_edu.iloc[0,1:10:2].tolist()\n",
    "hs = df_edu.iloc[2,1:10:2].tolist()\n",
    "nohs = df_edu.iloc[3, 1:10:2].tolist()"
   ]
  },
  {
   "cell_type": "code",
   "execution_count": null,
   "metadata": {},
   "outputs": [],
   "source": [
    "fig, ax = plt.subplots(1, figsize=(8, 5))\n",
    "ax.boxplot([hs, nohs])\n",
    "ax.set_xticks([1,2])\n",
    "ax.set_xticklabels([\"high school\", \"no high school\"])"
   ]
  },
  {
   "cell_type": "code",
   "execution_count": null,
   "metadata": {},
   "outputs": [],
   "source": [
    "def welch_test_statistic(sample_1, sample_2):\n",
    "    numerator = np.mean(sample_1) - np.mean(sample_2)\n",
    "    denominator_sq = (np.var(sample_1) / len(sample_1)) + (np.var(sample_2) / len(sample_2))\n",
    "    return numerator / np.sqrt(denominator_sq)"
   ]
  },
  {
   "cell_type": "code",
   "execution_count": null,
   "metadata": {},
   "outputs": [],
   "source": [
    "test_statistic = welch_test_statistic(hs, nohs)\n",
    "print(\"Welch Test Statistic: {:2.2f}\".format(test_statistic))\n"
   ]
  },
  {
   "cell_type": "code",
   "execution_count": null,
   "metadata": {},
   "outputs": [],
   "source": [
    "def welch_satterhwaithe_df(sample_1, sample_2):\n",
    "    ss1 = len(sample_1)\n",
    "    ss2 = len(sample_2)\n",
    "    df = (\n",
    "        ((np.var(sample_1)/ss1 + np.var(sample_2)/ss2)**(2.0)) / \n",
    "        ((np.var(sample_1)/ss1)**(2.0)/(ss1 - 1) + (np.var(sample_2)/ss2)**(2.0)/(ss2 - 1))\n",
    "    )\n",
    "    return df"
   ]
  },
  {
   "cell_type": "code",
   "execution_count": null,
   "metadata": {
    "scrolled": true
   },
   "outputs": [],
   "source": [
    "df = welch_satterhwaithe_df(hs, nohs)\n",
    "print(\"Degrees of Freedom for Welch's Test: {:2.2f}\".format(df))\n"
   ]
  },
  {
   "cell_type": "code",
   "execution_count": null,
   "metadata": {},
   "outputs": [],
   "source": [
    "students = stats.t(df)\n",
    "\n",
    "p_value_1 = students.cdf(test_statistic)\n",
    "print(\"p-value for different average obesity rate: {:2.10f}\".format(p_value_1))\n"
   ]
  },
  {
   "cell_type": "code",
   "execution_count": null,
   "metadata": {},
   "outputs": [],
   "source": [
    "test_statistic = welch_test_statistic(nohs, college)\n",
    "p_value_2 = 1 - students.cdf(test_statistic)\n",
    "\n",
    "print(\"p-value for different average obesity rate: {:2.10f}\".format(p_value_2))\n"
   ]
  },
  {
   "cell_type": "markdown",
   "metadata": {},
   "source": [
    "null: population with 'less than high school' education level has same obesity rate compare to population with 'college graduate' education level"
   ]
  },
  {
   "cell_type": "code",
   "execution_count": null,
   "metadata": {},
   "outputs": [],
   "source": [
    "# 2015, <hs vs college\n",
    "\n",
    "college_tsize = df_edu['2015_Sample_Size'][0]\n",
    "college_nob = df_edu['2015_Sample_Size'][0]*(df_edu['2015_%Obesity'][0]/100)\n",
    "\n",
    "nohs_tsize = df_edu['2015_Sample_Size'][3]\n",
    "nohs_nob = df_edu['2015_Sample_Size'][3]*(df_edu['2015_%Obesity'][3]/100)\n",
    "\n",
    "total_sample_size = college_tsize + nohs_tsize"
   ]
  },
  {
   "cell_type": "code",
   "execution_count": null,
   "metadata": {},
   "outputs": [],
   "source": [
    "shared_sample_freq_edu = (college_nob + nohs_nob) / total_sample_size\n",
    "shared_sample_variance_edu = total_sample_size * (shared_sample_freq * (1 - shared_sample_freq)) / (college_tsize*nohs_tsize)\n",
    "\n",
    "diff_in_prop_edu = stats.norm(0, np.sqrt(shared_sample_variance_edu))"
   ]
  },
  {
   "cell_type": "code",
   "execution_count": null,
   "metadata": {},
   "outputs": [],
   "source": [
    "college_sample_freq = college_nob / college_tsize\n",
    "nohs_sample_freq = nohs_nob / nohs_tsize\n",
    "\n",
    "diff_in_sample_prop_edu = nohs_sample_freq - college_sample_freq\n",
    "print('Difference in sample proportions: {:2.2f}'.format(diff_in_sample_prop_edu))"
   ]
  },
  {
   "cell_type": "code",
   "execution_count": null,
   "metadata": {},
   "outputs": [],
   "source": [
    "p_val = 1 - diff_in_prop_edu.cdf(diff_in_sample_prop_edu)\n",
    "print(\"p-value for obesity frequency comparison: {:2.10f}\".format(p_value))\n"
   ]
  },
  {
   "cell_type": "code",
   "execution_count": null,
   "metadata": {},
   "outputs": [],
   "source": [
    "fig, ax = plt.subplots(1, figsize=(16, 3))\n",
    "\n",
    "x = np.linspace(-1, 1, num=250)\n",
    "ax.plot(x, diff_in_prop_edu.pdf(x), linewidth=3)\n",
    "ax.set_xlim(-1, 1)"
   ]
  },
  {
   "cell_type": "code",
   "execution_count": null,
   "metadata": {},
   "outputs": [],
   "source": [
    "\n",
    "\n",
    "hs_tsize = df_edu['2015_Sample_Size'][2]\n",
    "hs_nob = df_edu['2015_Sample_Size'][2]*(df_edu['2015_%Obesity'][2]/100)\n",
    "\n",
    "total_sample_size = nohs_tsize + hs_tsize"
   ]
  },
  {
   "cell_type": "code",
   "execution_count": null,
   "metadata": {},
   "outputs": [],
   "source": [
    "shared_sample_freq_edu = (nohs_nob + hs_nob) / total_sample_size\n",
    "shared_sample_variance_edu = total_sample_size * (shared_sample_freq_edu * (1 - shared_sample_freq_edu)) / (nohs_tsize*hs_tsize)\n",
    "\n",
    "diff_in_prop_edu = stats.norm(0, np.sqrt(shared_sample_variance_edu))"
   ]
  },
  {
   "cell_type": "code",
   "execution_count": null,
   "metadata": {},
   "outputs": [],
   "source": [
    "hs_sample_freq = hs_nob / hs_tsize\n",
    "\n",
    "diff_in_sample_prop_edu = nohs_sample_freq - hs_sample_freq\n",
    "print('Difference in sample proportions: {:2.2f}'.format(diff_in_sample_prop_edu))"
   ]
  },
  {
   "cell_type": "code",
   "execution_count": null,
   "metadata": {},
   "outputs": [],
   "source": [
    "p_val = 1 - diff_in_prop_edu.cdf(diff_in_sample_prop_edu)\n",
    "print(\"p-value for obesity frequency comparison: {:2.10f}\".format(p_value))\n"
   ]
  },
  {
   "cell_type": "markdown",
   "metadata": {},
   "source": [
    "importing fruit/veg consumption in california "
   ]
  },
  {
   "cell_type": "code",
   "execution_count": null,
   "metadata": {},
   "outputs": [],
   "source": [
    "fv = pd.read_csv('data/fv_consum_ca_2012_2013.csv')"
   ]
  },
  {
   "cell_type": "code",
   "execution_count": null,
   "metadata": {},
   "outputs": [],
   "source": [
    "fv.head(10)"
   ]
  },
  {
   "cell_type": "code",
   "execution_count": null,
   "metadata": {},
   "outputs": [],
   "source": []
  }
 ],
 "metadata": {
  "kernelspec": {
   "display_name": "Python 3",
   "language": "python",
   "name": "python3"
  },
  "language_info": {
   "codemirror_mode": {
    "name": "ipython",
    "version": 3
   },
   "file_extension": ".py",
   "mimetype": "text/x-python",
   "name": "python",
   "nbconvert_exporter": "python",
   "pygments_lexer": "ipython3",
   "version": "3.6.8"
  }
 },
 "nbformat": 4,
 "nbformat_minor": 2
}

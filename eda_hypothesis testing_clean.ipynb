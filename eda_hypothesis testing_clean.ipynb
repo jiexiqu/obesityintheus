{
 "cells": [
  {
   "cell_type": "code",
   "execution_count": 58,
   "metadata": {},
   "outputs": [],
   "source": [
    "import pandas as pd\n",
    "import matplotlib.pyplot as plt\n",
    "%matplotlib inline\n",
    "import numpy as np\n",
    "import scipy.stats as stats\n",
    "plt.style.use('ggplot')\n",
    "import matplotlib as mpl\n"
   ]
  },
  {
   "cell_type": "code",
   "execution_count": 3,
   "metadata": {},
   "outputs": [],
   "source": [
    "pd.set_option('display.max_colwidth', 200)\n",
    "us_data = pd.read_csv('data/cdc_npao_us.csv')\n",
    "cali_fv = pd.read_csv('data/fv_consum_ca_2012_2013.csv')"
   ]
  },
  {
   "cell_type": "code",
   "execution_count": 9,
   "metadata": {},
   "outputs": [
    {
     "data": {
      "text/plain": [
       "Index(['YearStart', 'YearEnd', 'LocationAbbr', 'LocationDesc', 'Datasource',\n",
       "       'Class', 'Topic', 'Question', 'Data_Value_Unit', 'Data_Value_Type',\n",
       "       'Data_Value', 'Data_Value_Alt', 'Data_Value_Footnote_Symbol',\n",
       "       'Data_Value_Footnote', 'Low_Confidence_Limit', 'High_Confidence_Limit ',\n",
       "       'Sample_Size', 'Total', 'Age(years)', 'Education', 'Gender', 'Income',\n",
       "       'Race/Ethnicity', 'GeoLocation', 'ClassID', 'TopicID', 'QuestionID',\n",
       "       'DataValueTypeID', 'LocationID', 'StratificationCategory1',\n",
       "       'Stratification1', 'StratificationCategoryId1', 'StratificationID1'],\n",
       "      dtype='object')"
      ]
     },
     "execution_count": 9,
     "metadata": {},
     "output_type": "execute_result"
    }
   ],
   "source": [
    "us_data.head()\n",
    "us_data['Question'].unique()\n",
    "us_data.columns\n"
   ]
  },
  {
   "cell_type": "code",
   "execution_count": 10,
   "metadata": {},
   "outputs": [],
   "source": [
    "# data points regarding the question that I want to look into, obesity % and consumtion of vegetables\n",
    "q = ['Percent of adults aged 18 years and older who have obesity',\n",
    "     'Percent of adults who report consuming vegetables less than one time daily']"
   ]
  },
  {
   "cell_type": "code",
   "execution_count": 11,
   "metadata": {},
   "outputs": [],
   "source": [
    "# dropping some unnecessary columns\n",
    "us_data = us_data.drop(['LocationAbbr', 'Datasource', 'Data_Value_Unit', 'Data_Value_Footnote_Symbol', \n",
    "                        'Data_Value_Footnote','YearEnd', 'Class','Topic','Data_Value_Type','ClassID',\n",
    "                       'TopicID','QuestionID','DataValueTypeID','StratificationCategoryId1'],1)"
   ]
  },
  {
   "cell_type": "code",
   "execution_count": 13,
   "metadata": {},
   "outputs": [
    {
     "name": "stdout",
     "output_type": "stream",
     "text": [
      "The mean for national percent of adults with obesity for 2011 to 2015:  28.24\n"
     ]
    }
   ],
   "source": [
    "#finding the national adult obseity % for each year, 2011 - 2015\n",
    "national_ob = us_data[(us_data['LocationDesc'] == 'National') & (us_data['Question'] == q[0]) & \n",
    "                     (us_data['StratificationCategory1'] == 'Total')]\n",
    "national_ob.set_index('YearStart', inplace = True)\n",
    "national_ob = national_ob.sort_index()\n",
    "national_ob_lst = national_ob['Data_Value'].values.tolist()\n",
    "national_ob_mean = national_ob['Data_Value'].mean()\n",
    "#national_ob\n",
    "print('The mean for national percent of adults with obesity for 2011 to 2015: ', national_ob_mean)"
   ]
  },
  {
   "cell_type": "markdown",
   "metadata": {},
   "source": [
    "### Find most/least obese states for years 2011 to 2015"
   ]
  },
  {
   "cell_type": "code",
   "execution_count": 16,
   "metadata": {},
   "outputs": [
    {
     "data": {
      "text/plain": [
       "27.43593392819205"
      ]
     },
     "execution_count": 16,
     "metadata": {},
     "output_type": "execute_result"
    }
   ],
   "source": [
    "#2011 %obseity weighted mean across all states using 'total'\n",
    "df_wt_11 = us_data[(us_data['Question'] == q[0]) & \n",
    "               (us_data['YearStart'] == 2011) & \n",
    "               (us_data['StratificationCategory1'] == 'Total') & \n",
    "              ~(us_data['LocationDesc'] == 'National')]\n",
    "\n",
    "\n",
    "n_2011_mean = (df_wt_11['Data_Value']*df_wt_11['Sample_Size']).sum()/df_wt_11['Sample_Size'].sum()\n",
    "n_2011_mean"
   ]
  },
  {
   "cell_type": "code",
   "execution_count": 17,
   "metadata": {},
   "outputs": [
    {
     "data": {
      "text/plain": [
       "27.817704814236933"
      ]
     },
     "execution_count": 17,
     "metadata": {},
     "output_type": "execute_result"
    }
   ],
   "source": [
    "#2012 %obseity weighted mean across all states using 'total'\n",
    "df_wt_12 = us_data[(us_data['Question'] == q[0]) & \n",
    "               (us_data['YearStart'] == 2012) & \n",
    "               (us_data['StratificationCategory1'] == 'Total') & \n",
    "              ~(us_data['LocationDesc'] == 'National')]\n",
    "\n",
    "\n",
    "n_2012_mean = (df_wt_12['Data_Value']*df_wt_12['Sample_Size']).sum()/df_wt_12['Sample_Size'].sum()\n",
    "n_2012_mean"
   ]
  },
  {
   "cell_type": "code",
   "execution_count": 18,
   "metadata": {},
   "outputs": [
    {
     "data": {
      "text/plain": [
       "28.317782661160628"
      ]
     },
     "execution_count": 18,
     "metadata": {},
     "output_type": "execute_result"
    }
   ],
   "source": [
    "#2013 %obseity weighted mean across all states using 'total'\n",
    "df_wt_13 = us_data[(us_data['Question'] == q[0]) & \n",
    "               (us_data['YearStart'] == 2013) & \n",
    "               (us_data['StratificationCategory1'] == 'Total') & \n",
    "              ~(us_data['LocationDesc'] == 'National')]\n",
    "\n",
    "\n",
    "n_2013_mean = (df_wt_13['Data_Value']*df_wt_13['Sample_Size']).sum()/df_wt_13['Sample_Size'].sum()\n",
    "n_2013_mean"
   ]
  },
  {
   "cell_type": "code",
   "execution_count": 19,
   "metadata": {},
   "outputs": [
    {
     "data": {
      "text/plain": [
       "29.044841118049632"
      ]
     },
     "execution_count": 19,
     "metadata": {},
     "output_type": "execute_result"
    }
   ],
   "source": [
    "#2014 %obseity weighted mean across all states using 'total'\n",
    "df_wt_14 = us_data[(us_data['Question'] == q[0]) & \n",
    "               (us_data['YearStart'] == 2014) & \n",
    "               (us_data['StratificationCategory1'] == 'Total') & \n",
    "              ~(us_data['LocationDesc'] == 'National')]\n",
    "\n",
    "\n",
    "n_2014_mean = (df_wt_14['Data_Value']*df_wt_14['Sample_Size']).sum()/df_wt_14['Sample_Size'].sum()\n",
    "n_2014_mean"
   ]
  },
  {
   "cell_type": "code",
   "execution_count": 20,
   "metadata": {},
   "outputs": [
    {
     "data": {
      "text/plain": [
       "29.072455302697392"
      ]
     },
     "execution_count": 20,
     "metadata": {},
     "output_type": "execute_result"
    }
   ],
   "source": [
    "#2015 %obseity weighted mean across all states using 'total'\n",
    "df_wt_15 = us_data[(us_data['Question'] == q[0]) & \n",
    "               (us_data['YearStart'] == 2015) & \n",
    "               (us_data['StratificationCategory1'] == 'Total') & \n",
    "              ~(us_data['LocationDesc'] == 'National')]\n",
    "\n",
    "\n",
    "n_2015_mean = (df_wt_15['Data_Value']*df_wt_15['Sample_Size']).sum()/df_wt_15['Sample_Size'].sum()\n",
    "n_2015_mean"
   ]
  },
  {
   "cell_type": "code",
   "execution_count": 23,
   "metadata": {},
   "outputs": [
    {
     "data": {
      "text/plain": [
       "[27.43593392819205,\n",
       " 27.817704814236933,\n",
       " 28.317782661160628,\n",
       " 29.044841118049632,\n",
       " 29.072455302697392]"
      ]
     },
     "execution_count": 23,
     "metadata": {},
     "output_type": "execute_result"
    }
   ],
   "source": [
    "weighted_national_mean = [n_2011_mean, n_2012_mean, n_2013_mean, n_2014_mean, n_2015_mean]\n",
    "weighted_national_mean\n",
    "#sum(weighted_national_mean)/len(weighted_national_mean)"
   ]
  },
  {
   "cell_type": "code",
   "execution_count": 24,
   "metadata": {},
   "outputs": [],
   "source": [
    "#using the 'National' filter to find national %obesity mean\n",
    "def find_national_mean(df, year:int, q):\n",
    "    df_1 = df[(df['LocationDesc']=='National')]\n",
    "    df_2 = df_1[(df_1['Question'] == q[0]) & (df_1['YearStart'] == year) & (df_1['StratificationCategory1'] == 'Total')]\n",
    "    return df_2['Data_Value'].values"
   ]
  },
  {
   "cell_type": "code",
   "execution_count": 116,
   "metadata": {},
   "outputs": [
    {
     "data": {
      "text/plain": [
       "[array([27.4]), array([27.7]), array([28.3]), array([28.9]), array([28.9])]"
      ]
     },
     "execution_count": 116,
     "metadata": {},
     "output_type": "execute_result"
    }
   ],
   "source": [
    "n_mean = [] #list of national mean %obesity from 2011 - 2015\n",
    "for i in range(2011, 2016):\n",
    "    n_mean.append(find_national_mean(us_data, i, q))\n",
    "    \n",
    "n_mean #the weighted mean for each year is: 27.4359, 27.8177, 28.3178, 29.0448, 29.0725"
   ]
  },
  {
   "cell_type": "code",
   "execution_count": null,
   "metadata": {},
   "outputs": [],
   "source": [
    "fig, ax = plt.subplots(1,1,figsize=(10,5))\n",
    "\n",
    "ax.plot()"
   ]
  },
  {
   "cell_type": "code",
   "execution_count": 190,
   "metadata": {},
   "outputs": [
    {
     "data": {
      "text/plain": [
       "28.21139492793246"
      ]
     },
     "execution_count": 190,
     "metadata": {},
     "output_type": "execute_result"
    }
   ],
   "source": [
    "#national mean across all years \n",
    "m = sum(n_mean)/len(n_mean)\n",
    "\n",
    "#or weighted by national population, national mean for years 2011 - 2015\n",
    "(national_ob['Data_Value']*national_ob['Sample_Size']).sum()/national_ob['Sample_Size'].sum()"
   ]
  },
  {
   "cell_type": "code",
   "execution_count": 31,
   "metadata": {},
   "outputs": [],
   "source": [
    "# finding top/bottom 5 states of obseity for each year% \n",
    "\n",
    "def find_state_mean(df, year, q):\n",
    "    df_filtered = df[~(df['LocationDesc']=='National')]\n",
    "    df_2 = df_filtered[(df_filtered['Question'] == q[0]) & (df_filtered['YearStart'] == year) & (df_filtered['StratificationCategory1'] == 'Total')]\n",
    "    return df_2[['LocationDesc','Data_Value']].sort_values(['Data_Value'], ascending = True)"
   ]
  },
  {
   "cell_type": "code",
   "execution_count": 32,
   "metadata": {},
   "outputs": [
    {
     "data": {
      "text/html": [
       "<div>\n",
       "<style scoped>\n",
       "    .dataframe tbody tr th:only-of-type {\n",
       "        vertical-align: middle;\n",
       "    }\n",
       "\n",
       "    .dataframe tbody tr th {\n",
       "        vertical-align: top;\n",
       "    }\n",
       "\n",
       "    .dataframe thead th {\n",
       "        text-align: right;\n",
       "    }\n",
       "</style>\n",
       "<table border=\"1\" class=\"dataframe\">\n",
       "  <thead>\n",
       "    <tr style=\"text-align: right;\">\n",
       "      <th></th>\n",
       "      <th>LocationDesc</th>\n",
       "      <th>Data_Value</th>\n",
       "    </tr>\n",
       "  </thead>\n",
       "  <tbody>\n",
       "    <tr>\n",
       "      <th>46058</th>\n",
       "      <td>Colorado</td>\n",
       "      <td>20.2</td>\n",
       "    </tr>\n",
       "    <tr>\n",
       "      <th>46222</th>\n",
       "      <td>District of Columbia</td>\n",
       "      <td>22.1</td>\n",
       "    </tr>\n",
       "    <tr>\n",
       "      <th>46388</th>\n",
       "      <td>Hawaii</td>\n",
       "      <td>22.7</td>\n",
       "    </tr>\n",
       "    <tr>\n",
       "      <th>47226</th>\n",
       "      <td>Montana</td>\n",
       "      <td>23.6</td>\n",
       "    </tr>\n",
       "    <tr>\n",
       "      <th>46004</th>\n",
       "      <td>California</td>\n",
       "      <td>24.2</td>\n",
       "    </tr>\n",
       "  </tbody>\n",
       "</table>\n",
       "</div>"
      ],
      "text/plain": [
       "               LocationDesc  Data_Value\n",
       "46058              Colorado        20.2\n",
       "46222  District of Columbia        22.1\n",
       "46388                Hawaii        22.7\n",
       "47226               Montana        23.6\n",
       "46004            California        24.2"
      ]
     },
     "execution_count": 32,
     "metadata": {},
     "output_type": "execute_result"
    }
   ],
   "source": [
    "#%obesity mean for all states in different years\n",
    "state_2011 = find_state_mean(us_data, 2011, q)\n",
    "state_2012 = find_state_mean(us_data, 2012, q)\n",
    "state_2013 = find_state_mean(us_data, 2013, q)\n",
    "state_2014 = find_state_mean(us_data, 2014, q)\n",
    "state_2015 = find_state_mean(us_data, 2015, q)\n",
    "\n",
    "state_2015.head()"
   ]
  },
  {
   "cell_type": "code",
   "execution_count": 33,
   "metadata": {},
   "outputs": [
    {
     "data": {
      "text/plain": [
       "46058    20.2\n",
       "46222    22.1\n",
       "46388    22.7\n",
       "47226    23.6\n",
       "46004    24.2\n",
       "Name: Data_Value, dtype: float64"
      ]
     },
     "execution_count": 33,
     "metadata": {},
     "output_type": "execute_result"
    }
   ],
   "source": [
    "dfs = [state_2011, state_2012, state_2013, state_2014, state_2015]    \n",
    "\n",
    "dfs[4].iloc[:5,1] #getting the top 5 state with the least %obesity in their populaiton for 2015"
   ]
  },
  {
   "cell_type": "code",
   "execution_count": 487,
   "metadata": {},
   "outputs": [
    {
     "data": {
      "image/png": "[encoded data removed]",
      "text/plain": [
       "<Figure size 2520x504 with 3 Axes>"
      ]
     },
     "metadata": {},
     "output_type": "display_data"
    }
   ],
   "source": [
    "# 3 least obese states for years 2011 to 2015, weighted national avg for each year is marked in orange\n",
    "dfs = [state_2011, state_2013, state_2015]    \n",
    "year = [2011, 2013, 2015]\n",
    "fig, axs = plt.subplots(1,3, figsize = (35,7))\n",
    "x = np.linspace(20, 37, num=16)\n",
    "\n",
    "for idx, ax in enumerate(axs.flatten()):\n",
    "    ax.barh(dfs[idx].iloc[:5,0], dfs[idx].iloc[:5,1], height=0.6, color='royalblue')\n",
    "    ax.axvline(n_mean[idx], linestyle='--', color='orange', linewidth=3)\n",
    "    ax.set_xlim(None, 35)\n",
    "    ax.set_title('5 Least Obese States, '+str(year[idx]), fontsize=30)\n",
    "    mpl.rcParams['xtick.labelsize'] = 25\n",
    "    ax.set_xlabel('% Adult with Obesity (national mean: '+str(n_mean_odd[idx])+')', fontsize=25)\n",
    "    mpl.rcParams['ytick.labelsize'] = 25\n",
    "\n",
    "mpl.rcParams[\"font.weight\"] = 'normal'\n",
    "\n",
    "fig.tight_layout()"
   ]
  },
  {
   "cell_type": "code",
   "execution_count": 488,
   "metadata": {},
   "outputs": [
    {
     "data": {
      "image/png": "[encoded data removed]",
      "text/plain": [
       "<Figure size 2520x504 with 3 Axes>"
      ]
     },
     "metadata": {},
     "output_type": "display_data"
    }
   ],
   "source": [
    "# 3 most obese states from 2011 to 2015, weighted national avg for each year is marked in orange\n",
    "#dfs = [state_2011, state_2012, state_2013, state_2014, state_2015]    \n",
    "fig, axs = plt.subplots(1,3, figsize = (35,7))\n",
    "x = np.linspace(20, 37, num=16)\n",
    "n_mean_odd = n_mean[0:5:2]\n",
    "for idx, ax in enumerate(axs.flatten()):\n",
    "    ax.barh(dfs[idx].iloc[-5:,0], dfs[idx].iloc[-5:,1], height=0.6, color='royalblue')\n",
    "    ax.axvline(n_mean[idx], linestyle='--', color='orange', linewidth=4)\n",
    "    ax.set_xlim(None, 40)\n",
    "    ax.set_title('5 Most Obese States, '+str(year[idx]), fontsize=30)\n",
    "    mpl.rcParams['xtick.labelsize'] = 25\n",
    "    ax.set_xlabel('% Adult with Obesity (national mean: '+str(n_mean_odd[idx])+')', fontsize=25)\n",
    "    mpl.rcParams['ytick.labelsize'] = 25\n",
    "    ax.yaxis.set_tick_params(rotation=0)\n",
    "    \n",
    "\n",
    "    \n",
    "\n",
    "mpl.rcParams[\"font.weight\"] = 'normal'\n",
    "plt.savefig('mostobese')\n",
    "plt.tight_layout()"
   ]
  },
  {
   "cell_type": "markdown",
   "metadata": {},
   "source": [
    "### GENDER"
   ]
  },
  {
   "cell_type": "code",
   "execution_count": 125,
   "metadata": {},
   "outputs": [],
   "source": [
    "#focusing on gender, excluding 'National', 'Guam', 'Puerto Rico' \n",
    "us_gender = us_data[(us_data['Question'] == q[0]) & (us_data['StratificationCategory1'] == 'Gender') \n",
    "                    & ~(us_data['LocationDesc']=='National')&~(us_data['LocationDesc']=='Guam')\n",
    "                    &~(us_data['LocationDesc']=='Puerto Rico')]"
   ]
  },
  {
   "cell_type": "code",
   "execution_count": 126,
   "metadata": {},
   "outputs": [
    {
     "data": {
      "text/html": [
       "<div>\n",
       "<style scoped>\n",
       "    .dataframe tbody tr th:only-of-type {\n",
       "        vertical-align: middle;\n",
       "    }\n",
       "\n",
       "    .dataframe tbody tr th {\n",
       "        vertical-align: top;\n",
       "    }\n",
       "\n",
       "    .dataframe thead th {\n",
       "        text-align: right;\n",
       "    }\n",
       "</style>\n",
       "<table border=\"1\" class=\"dataframe\">\n",
       "  <thead>\n",
       "    <tr style=\"text-align: right;\">\n",
       "      <th></th>\n",
       "      <th>Question</th>\n",
       "      <th>LocationDesc</th>\n",
       "      <th>Data_Value</th>\n",
       "      <th>Sample_Size</th>\n",
       "      <th>StratificationCategory1</th>\n",
       "      <th>Stratification1</th>\n",
       "    </tr>\n",
       "    <tr>\n",
       "      <th>YearStart</th>\n",
       "      <th></th>\n",
       "      <th></th>\n",
       "      <th></th>\n",
       "      <th></th>\n",
       "      <th></th>\n",
       "      <th></th>\n",
       "    </tr>\n",
       "  </thead>\n",
       "  <tbody>\n",
       "    <tr>\n",
       "      <th>2011</th>\n",
       "      <td>Percent of adults aged 18 years and older who have obesity</td>\n",
       "      <td>National</td>\n",
       "      <td>27.1</td>\n",
       "      <td>278712.0</td>\n",
       "      <td>Gender</td>\n",
       "      <td>Female</td>\n",
       "    </tr>\n",
       "    <tr>\n",
       "      <th>2012</th>\n",
       "      <td>Percent of adults aged 18 years and older who have obesity</td>\n",
       "      <td>National</td>\n",
       "      <td>27.4</td>\n",
       "      <td>257190.0</td>\n",
       "      <td>Gender</td>\n",
       "      <td>Female</td>\n",
       "    </tr>\n",
       "    <tr>\n",
       "      <th>2013</th>\n",
       "      <td>Percent of adults aged 18 years and older who have obesity</td>\n",
       "      <td>National</td>\n",
       "      <td>28.3</td>\n",
       "      <td>263276.0</td>\n",
       "      <td>Gender</td>\n",
       "      <td>Female</td>\n",
       "    </tr>\n",
       "    <tr>\n",
       "      <th>2014</th>\n",
       "      <td>Percent of adults aged 18 years and older who have obesity</td>\n",
       "      <td>National</td>\n",
       "      <td>28.8</td>\n",
       "      <td>242169.0</td>\n",
       "      <td>Gender</td>\n",
       "      <td>Female</td>\n",
       "    </tr>\n",
       "    <tr>\n",
       "      <th>2015</th>\n",
       "      <td>Percent of adults aged 18 years and older who have obesity</td>\n",
       "      <td>National</td>\n",
       "      <td>28.6</td>\n",
       "      <td>221909.0</td>\n",
       "      <td>Gender</td>\n",
       "      <td>Female</td>\n",
       "    </tr>\n",
       "  </tbody>\n",
       "</table>\n",
       "</div>"
      ],
      "text/plain": [
       "                                                             Question  \\\n",
       "YearStart                                                               \n",
       "2011       Percent of adults aged 18 years and older who have obesity   \n",
       "2012       Percent of adults aged 18 years and older who have obesity   \n",
       "2013       Percent of adults aged 18 years and older who have obesity   \n",
       "2014       Percent of adults aged 18 years and older who have obesity   \n",
       "2015       Percent of adults aged 18 years and older who have obesity   \n",
       "\n",
       "          LocationDesc  Data_Value  Sample_Size StratificationCategory1  \\\n",
       "YearStart                                                                 \n",
       "2011          National        27.1     278712.0                  Gender   \n",
       "2012          National        27.4     257190.0                  Gender   \n",
       "2013          National        28.3     263276.0                  Gender   \n",
       "2014          National        28.8     242169.0                  Gender   \n",
       "2015          National        28.6     221909.0                  Gender   \n",
       "\n",
       "          Stratification1  \n",
       "YearStart                  \n",
       "2011               Female  \n",
       "2012               Female  \n",
       "2013               Female  \n",
       "2014               Female  \n",
       "2015               Female  "
      ]
     },
     "execution_count": 126,
     "metadata": {},
     "output_type": "execute_result"
    }
   ],
   "source": [
    "#finding the national female obseity % for each year, 2011 - 2015\n",
    "#finding national female %obesity mean across all years\n",
    "n_female_fiveyr = us_data[(us_data['LocationDesc'] == 'National')&(us_data['Question'] == q[0])\n",
    "                        &(us_data['StratificationID1'] == 'FEMALE')]\n",
    "n_female_fiveyr.set_index('YearStart', inplace = True)\n",
    "n_female_fiveyr = n_female_fiveyr.sort_index()\n",
    "n_female_fiveyr_lst = n_female_fiveyr['Data_Value'].values.tolist()\n",
    "n_female_fiveyr['Data_Value'].mean() #national female %obesity mean\n",
    "n_female_fiveyr[['Question','LocationDesc','Data_Value','Sample_Size','StratificationCategory1','Stratification1']]"
   ]
  },
  {
   "cell_type": "code",
   "execution_count": 127,
   "metadata": {},
   "outputs": [
    {
     "data": {
      "text/plain": [
       "[27.05274584517351,\n",
       " 27.560455305416227,\n",
       " 28.069373964964523,\n",
       " 28.79946483653977,\n",
       " 28.6118557606947]"
      ]
     },
     "execution_count": 127,
     "metadata": {},
     "output_type": "execute_result"
    }
   ],
   "source": [
    "#finding weighted mean across all states for each year, female\n",
    "def weighted_f_mean (df, year):\n",
    "    test_f = df[(df['Stratification1']=='Female')&(df['YearStart']==year)]\n",
    "    test_f_mean = (test_f['Data_Value']*test_f['Sample_Size']).sum()/test_f['Sample_Size'].sum()\n",
    "    return test_f_mean\n",
    "years = [2011, 2012, 2013, 2014, 2015]\n",
    "lst_weighted_f_mean = []\n",
    "for year in years:\n",
    "    lst_weighted_f_mean.append(weighted_f_mean(us_gender, year)) \n",
    "\n",
    "lst_weighted_f_mean #comparing to the \"National\" female %obesity shown in the cell above, the two results are close but not the same"
   ]
  },
  {
   "cell_type": "code",
   "execution_count": 128,
   "metadata": {},
   "outputs": [
    {
     "data": {
      "text/plain": [
       "(array([ 7.,  7., 38., 38., 37., 49., 36., 24., 10.,  9.]),\n",
       " array([18.7 , 20.62, 22.54, 24.46, 26.38, 28.3 , 30.22, 32.14, 34.06,\n",
       "        35.98, 37.9 ]),\n",
       " <a list of 10 Patch objects>)"
      ]
     },
     "execution_count": 128,
     "metadata": {},
     "output_type": "execute_result"
    },
    {
     "data": {
      "image/png": "[encoded data removed]",
      "text/plain": [
       "<Figure size 504x360 with 1 Axes>"
      ]
     },
     "metadata": {},
     "output_type": "display_data"
    }
   ],
   "source": [
    "#the mean from this histogram should NOT be used due the different weight in population across states\n",
    "us_gender_female = us_gender[us_gender['Stratification1'] == 'Female']\n",
    "female_obesity = us_gender_female['Data_Value'].values\n",
    "\n",
    "bins = [20,25,30,35,40]\n",
    "#x = np.linspace(19,40,num=25)\n",
    "fig, ax = plt.subplots(figsize = (7,5))\n",
    "ax.hist(female_obesity)\n"
   ]
  },
  {
   "cell_type": "code",
   "execution_count": 129,
   "metadata": {},
   "outputs": [
    {
     "data": {
      "text/html": [
       "<div>\n",
       "<style scoped>\n",
       "    .dataframe tbody tr th:only-of-type {\n",
       "        vertical-align: middle;\n",
       "    }\n",
       "\n",
       "    .dataframe tbody tr th {\n",
       "        vertical-align: top;\n",
       "    }\n",
       "\n",
       "    .dataframe thead th {\n",
       "        text-align: right;\n",
       "    }\n",
       "</style>\n",
       "<table border=\"1\" class=\"dataframe\">\n",
       "  <thead>\n",
       "    <tr style=\"text-align: right;\">\n",
       "      <th></th>\n",
       "      <th>Question</th>\n",
       "      <th>LocationDesc</th>\n",
       "      <th>Data_Value</th>\n",
       "      <th>Sample_Size</th>\n",
       "      <th>StratificationCategory1</th>\n",
       "      <th>Stratification1</th>\n",
       "    </tr>\n",
       "    <tr>\n",
       "      <th>YearStart</th>\n",
       "      <th></th>\n",
       "      <th></th>\n",
       "      <th></th>\n",
       "      <th></th>\n",
       "      <th></th>\n",
       "      <th></th>\n",
       "    </tr>\n",
       "  </thead>\n",
       "  <tbody>\n",
       "    <tr>\n",
       "      <th>2011</th>\n",
       "      <td>Percent of adults aged 18 years and older who have obesity</td>\n",
       "      <td>National</td>\n",
       "      <td>27.8</td>\n",
       "      <td>191988.0</td>\n",
       "      <td>Gender</td>\n",
       "      <td>Male</td>\n",
       "    </tr>\n",
       "    <tr>\n",
       "      <th>2012</th>\n",
       "      <td>Percent of adults aged 18 years and older who have obesity</td>\n",
       "      <td>National</td>\n",
       "      <td>28.0</td>\n",
       "      <td>185040.0</td>\n",
       "      <td>Gender</td>\n",
       "      <td>Male</td>\n",
       "    </tr>\n",
       "    <tr>\n",
       "      <th>2013</th>\n",
       "      <td>Percent of adults aged 18 years and older who have obesity</td>\n",
       "      <td>National</td>\n",
       "      <td>28.3</td>\n",
       "      <td>194211.0</td>\n",
       "      <td>Gender</td>\n",
       "      <td>Male</td>\n",
       "    </tr>\n",
       "    <tr>\n",
       "      <th>2014</th>\n",
       "      <td>Percent of adults aged 18 years and older who have obesity</td>\n",
       "      <td>National</td>\n",
       "      <td>29.0</td>\n",
       "      <td>183706.0</td>\n",
       "      <td>Gender</td>\n",
       "      <td>Male</td>\n",
       "    </tr>\n",
       "    <tr>\n",
       "      <th>2015</th>\n",
       "      <td>Percent of adults aged 18 years and older who have obesity</td>\n",
       "      <td>National</td>\n",
       "      <td>29.1</td>\n",
       "      <td>176407.0</td>\n",
       "      <td>Gender</td>\n",
       "      <td>Male</td>\n",
       "    </tr>\n",
       "  </tbody>\n",
       "</table>\n",
       "</div>"
      ],
      "text/plain": [
       "                                                             Question  \\\n",
       "YearStart                                                               \n",
       "2011       Percent of adults aged 18 years and older who have obesity   \n",
       "2012       Percent of adults aged 18 years and older who have obesity   \n",
       "2013       Percent of adults aged 18 years and older who have obesity   \n",
       "2014       Percent of adults aged 18 years and older who have obesity   \n",
       "2015       Percent of adults aged 18 years and older who have obesity   \n",
       "\n",
       "          LocationDesc  Data_Value  Sample_Size StratificationCategory1  \\\n",
       "YearStart                                                                 \n",
       "2011          National        27.8     191988.0                  Gender   \n",
       "2012          National        28.0     185040.0                  Gender   \n",
       "2013          National        28.3     194211.0                  Gender   \n",
       "2014          National        29.0     183706.0                  Gender   \n",
       "2015          National        29.1     176407.0                  Gender   \n",
       "\n",
       "          Stratification1  \n",
       "YearStart                  \n",
       "2011                 Male  \n",
       "2012                 Male  \n",
       "2013                 Male  \n",
       "2014                 Male  \n",
       "2015                 Male  "
      ]
     },
     "execution_count": 129,
     "metadata": {},
     "output_type": "execute_result"
    }
   ],
   "source": [
    "#finding the national male obseity % for each year, 2011 - 2015\n",
    "#finding national male %obeisty mean across all years\n",
    "n_male_fiveyr = us_data[(us_data['LocationDesc'] == 'National') & (us_data['Question'] == q[0]) \n",
    "        & (us_data['StratificationCategory1'] == 'Gender') & (us_data['Stratification1'] == 'Male')]\n",
    "n_male_fiveyr.set_index('YearStart', inplace = True)\n",
    "n_male_fiveyr = n_male_fiveyr.sort_index()\n",
    "n_male_fiveyr_lst = n_male_fiveyr['Data_Value'].values.tolist()\n",
    "n_male_fiveyr['Data_Value'].mean() #national male %obesity mean\n",
    "n_male_fiveyr[['Question','LocationDesc','Data_Value','Sample_Size','StratificationCategory1','Stratification1']]"
   ]
  },
  {
   "cell_type": "code",
   "execution_count": 130,
   "metadata": {},
   "outputs": [
    {
     "data": {
      "text/plain": [
       "(array([ 4.,  5.,  4., 25., 41., 65., 52., 35., 20.,  4.]),\n",
       " array([17.6 , 19.58, 21.56, 23.54, 25.52, 27.5 , 29.48, 31.46, 33.44,\n",
       "        35.42, 37.4 ]),\n",
       " <a list of 10 Patch objects>)"
      ]
     },
     "execution_count": 130,
     "metadata": {},
     "output_type": "execute_result"
    },
    {
     "data": {
      "image/png": "[encoded data removed]",
      "text/plain": [
       "<Figure size 504x360 with 1 Axes>"
      ]
     },
     "metadata": {},
     "output_type": "display_data"
    }
   ],
   "source": [
    "#the mean from this historgram should NOT be used due to the population weight difference across states\n",
    "us_gender_male = us_gender[us_gender['Stratification1'] == 'Male']\n",
    "male_obesity = us_gender_male['Data_Value'].values\n",
    "\n",
    "#bins = [20,25,30,35,40]\n",
    "#x = np.linspace(19,40,num=25)\n",
    "fig, ax = plt.subplots(figsize = (7,5))\n",
    "ax.hist(male_obesity)\n"
   ]
  },
  {
   "cell_type": "code",
   "execution_count": 159,
   "metadata": {},
   "outputs": [],
   "source": [
    "#finding the national weighted %obesity mean based on male & female\n",
    "gender_n_mean = (((n_female_fiveyr['Sample_Size']*n_female_fiveyr['Data_Value']).sum()\n",
    "  + (n_male_fiveyr['Sample_Size']*n_male_fiveyr['Data_Value']).sum())\n",
    " /(n_female_fiveyr['Sample_Size'].sum() + n_male_fiveyr['Sample_Size'].sum()))\n",
    "                                               \n",
    "#this weighted national mean for 5 years is relatively similar to the mean calculated from using the \"National\" filter\n",
    "#mean from \"National\" filter = 28.2\n",
    "                                               "
   ]
  },
  {
   "cell_type": "code",
   "execution_count": 180,
   "metadata": {},
   "outputs": [
    {
     "data": {
      "image/png": "[encoded data removed]",
      "text/plain": [
       "<Figure size 720x432 with 1 Axes>"
      ]
     },
     "metadata": {},
     "output_type": "display_data"
    }
   ],
   "source": [
    "fig, ax = plt.subplots(figsize = (10, 6))\n",
    "\n",
    "width = 0.25\n",
    "years_t = [2011, 2012, 2913, 2014, 2015]\n",
    "x = np.arange(len(years_t))\n",
    "\n",
    "y_f = n_female_fiveyr['Data_Value'].values\n",
    "y_m = n_male_fiveyr['Data_Value'].values\n",
    "fe = ax.bar(x - width/2, y_f, width, color='lightcoral', label='Female')\n",
    "ma = ax.bar(x + width/2, y_m, width, color='cornflowerblue', label='Male')\n",
    "ax.legend()\n",
    "#ax.axhline(gender_n_mean, linestyle='--', color='black')\n",
    "\n",
    "#to add value onto each bar\n",
    "def label_v(bars):\n",
    "    for bar in bars:\n",
    "        height = bar.get_height()\n",
    "        ax.annotate('{}'.format(height),\n",
    "                    xy=(bar.get_x() + bar.get_width() / 2, height),\n",
    "                    xytext=(0, 3),  # 3 points vertical offset\n",
    "                    textcoords=\"offset points\",\n",
    "                    ha='center', va='bottom')\n",
    "label_v(fe)\n",
    "label_v(ma)\n",
    "\n",
    "ax.set_xlabel('Year', size=15)\n",
    "ax.set_ylabel('% Adults with Obesity', size=15)\n",
    "ax.set_ylim(0, 35)\n",
    "ax.set_xticklabels(years)\n",
    "ax.set_xticks(x)\n",
    "mpl.rcParams['xtick.labelsize'] = 10\n",
    "mpl.rcParams['ytick.labelsize'] = 10\n",
    "ax.set_title('% Adults with Obesity, Female vs Male', size=20)\n",
    "fig.tight_layout()\n"
   ]
  },
  {
   "cell_type": "code",
   "execution_count": null,
   "metadata": {},
   "outputs": [],
   "source": [
    "#hypothesis testing\n",
    "\n"
   ]
  },
  {
   "cell_type": "markdown",
   "metadata": {},
   "source": [
    "### INCOME "
   ]
  },
  {
   "cell_type": "code",
   "execution_count": 181,
   "metadata": {},
   "outputs": [
    {
     "data": {
      "text/html": [
       "<div>\n",
       "<style scoped>\n",
       "    .dataframe tbody tr th:only-of-type {\n",
       "        vertical-align: middle;\n",
       "    }\n",
       "\n",
       "    .dataframe tbody tr th {\n",
       "        vertical-align: top;\n",
       "    }\n",
       "\n",
       "    .dataframe thead th {\n",
       "        text-align: right;\n",
       "    }\n",
       "</style>\n",
       "<table border=\"1\" class=\"dataframe\">\n",
       "  <thead>\n",
       "    <tr style=\"text-align: right;\">\n",
       "      <th></th>\n",
       "      <th>YearStart</th>\n",
       "      <th>LocationDesc</th>\n",
       "      <th>Question</th>\n",
       "      <th>Data_Value</th>\n",
       "      <th>Data_Value_Alt</th>\n",
       "      <th>Low_Confidence_Limit</th>\n",
       "      <th>High_Confidence_Limit</th>\n",
       "      <th>Sample_Size</th>\n",
       "      <th>Total</th>\n",
       "      <th>Age(years)</th>\n",
       "      <th>Education</th>\n",
       "      <th>Gender</th>\n",
       "      <th>Income</th>\n",
       "      <th>Race/Ethnicity</th>\n",
       "      <th>GeoLocation</th>\n",
       "      <th>LocationID</th>\n",
       "      <th>StratificationCategory1</th>\n",
       "      <th>Stratification1</th>\n",
       "      <th>StratificationID1</th>\n",
       "    </tr>\n",
       "  </thead>\n",
       "  <tbody>\n",
       "    <tr>\n",
       "      <th>18197</th>\n",
       "      <td>2011</td>\n",
       "      <td>National</td>\n",
       "      <td>Percent of adults aged 18 years and older who have obesity</td>\n",
       "      <td>31.3</td>\n",
       "      <td>31.3</td>\n",
       "      <td>30.6</td>\n",
       "      <td>32.0</td>\n",
       "      <td>74049.0</td>\n",
       "      <td>NaN</td>\n",
       "      <td>NaN</td>\n",
       "      <td>NaN</td>\n",
       "      <td>NaN</td>\n",
       "      <td>$15,000 - $24,999</td>\n",
       "      <td>NaN</td>\n",
       "      <td>NaN</td>\n",
       "      <td>59</td>\n",
       "      <td>Income</td>\n",
       "      <td>$15,000 - $24,999</td>\n",
       "      <td>INC1525</td>\n",
       "    </tr>\n",
       "    <tr>\n",
       "      <th>18250</th>\n",
       "      <td>2011</td>\n",
       "      <td>National</td>\n",
       "      <td>Percent of adults aged 18 years and older who have obesity</td>\n",
       "      <td>32.3</td>\n",
       "      <td>32.3</td>\n",
       "      <td>31.4</td>\n",
       "      <td>33.2</td>\n",
       "      <td>49598.0</td>\n",
       "      <td>NaN</td>\n",
       "      <td>NaN</td>\n",
       "      <td>NaN</td>\n",
       "      <td>NaN</td>\n",
       "      <td>Less than $15,000</td>\n",
       "      <td>NaN</td>\n",
       "      <td>NaN</td>\n",
       "      <td>59</td>\n",
       "      <td>Income</td>\n",
       "      <td>Less than $15,000</td>\n",
       "      <td>INCLESS15</td>\n",
       "    </tr>\n",
       "  </tbody>\n",
       "</table>\n",
       "</div>"
      ],
      "text/plain": [
       "       YearStart LocationDesc  \\\n",
       "18197       2011     National   \n",
       "18250       2011     National   \n",
       "\n",
       "                                                         Question  Data_Value  \\\n",
       "18197  Percent of adults aged 18 years and older who have obesity        31.3   \n",
       "18250  Percent of adults aged 18 years and older who have obesity        32.3   \n",
       "\n",
       "       Data_Value_Alt  Low_Confidence_Limit  High_Confidence_Limit   \\\n",
       "18197            31.3                  30.6                    32.0   \n",
       "18250            32.3                  31.4                    33.2   \n",
       "\n",
       "       Sample_Size Total Age(years) Education Gender             Income  \\\n",
       "18197      74049.0   NaN        NaN       NaN    NaN  $15,000 - $24,999   \n",
       "18250      49598.0   NaN        NaN       NaN    NaN  Less than $15,000   \n",
       "\n",
       "      Race/Ethnicity GeoLocation  LocationID StratificationCategory1  \\\n",
       "18197            NaN         NaN          59                  Income   \n",
       "18250            NaN         NaN          59                  Income   \n",
       "\n",
       "         Stratification1 StratificationID1  \n",
       "18197  $15,000 - $24,999           INC1525  \n",
       "18250  Less than $15,000         INCLESS15  "
      ]
     },
     "execution_count": 181,
     "metadata": {},
     "output_type": "execute_result"
    }
   ],
   "source": [
    "income_states = us_data[(us_data['StratificationCategory1'] == 'Income') & (us_data['Question'] == q[0]) \n",
    "                            & ~(us_data['LocationDesc']=='National')&~(us_data['LocationDesc']=='Guam')\n",
    "                            &~(us_data['LocationDesc']=='Puerto Rico')]\n",
    "income_states = income_states.reset_index(drop = True)\n",
    "\n",
    "income_national = us_data[(us_data['StratificationCategory1'] == 'Income') & (us_data['Question'] == q[0]) \n",
    "                            & (us_data['LocationDesc']=='National')]\n",
    "income_national.head(2)"
   ]
  },
  {
   "cell_type": "code",
   "execution_count": 182,
   "metadata": {},
   "outputs": [
    {
     "data": {
      "text/html": [
       "<div>\n",
       "<style scoped>\n",
       "    .dataframe tbody tr th:only-of-type {\n",
       "        vertical-align: middle;\n",
       "    }\n",
       "\n",
       "    .dataframe tbody tr th {\n",
       "        vertical-align: top;\n",
       "    }\n",
       "\n",
       "    .dataframe thead th {\n",
       "        text-align: right;\n",
       "    }\n",
       "</style>\n",
       "<table border=\"1\" class=\"dataframe\">\n",
       "  <thead>\n",
       "    <tr style=\"text-align: right;\">\n",
       "      <th></th>\n",
       "      <th>YearStart</th>\n",
       "      <th>LocationDesc</th>\n",
       "      <th>Data_Value</th>\n",
       "      <th>Sample_Size</th>\n",
       "      <th>Stratification1</th>\n",
       "    </tr>\n",
       "  </thead>\n",
       "  <tbody>\n",
       "    <tr>\n",
       "      <th>18583</th>\n",
       "      <td>2013</td>\n",
       "      <td>National</td>\n",
       "      <td>33.6</td>\n",
       "      <td>46889.0</td>\n",
       "      <td>Less than $15,000</td>\n",
       "    </tr>\n",
       "    <tr>\n",
       "      <th>18584</th>\n",
       "      <td>2013</td>\n",
       "      <td>National</td>\n",
       "      <td>32.3</td>\n",
       "      <td>71389.0</td>\n",
       "      <td>$15,000 - $24,999</td>\n",
       "    </tr>\n",
       "    <tr>\n",
       "      <th>18585</th>\n",
       "      <td>2013</td>\n",
       "      <td>National</td>\n",
       "      <td>29.8</td>\n",
       "      <td>46125.0</td>\n",
       "      <td>$25,000 - $34,999</td>\n",
       "    </tr>\n",
       "    <tr>\n",
       "      <th>18586</th>\n",
       "      <td>2013</td>\n",
       "      <td>National</td>\n",
       "      <td>30.0</td>\n",
       "      <td>58655.0</td>\n",
       "      <td>$35,000 - $49,999</td>\n",
       "    </tr>\n",
       "    <tr>\n",
       "      <th>18587</th>\n",
       "      <td>2013</td>\n",
       "      <td>National</td>\n",
       "      <td>28.8</td>\n",
       "      <td>62562.0</td>\n",
       "      <td>$50,000 - $74,999</td>\n",
       "    </tr>\n",
       "    <tr>\n",
       "      <th>18588</th>\n",
       "      <td>2013</td>\n",
       "      <td>National</td>\n",
       "      <td>23.9</td>\n",
       "      <td>111798.0</td>\n",
       "      <td>$75,000 or greater</td>\n",
       "    </tr>\n",
       "  </tbody>\n",
       "</table>\n",
       "</div>"
      ],
      "text/plain": [
       "       YearStart LocationDesc  Data_Value  Sample_Size     Stratification1\n",
       "18583       2013     National        33.6      46889.0   Less than $15,000\n",
       "18584       2013     National        32.3      71389.0   $15,000 - $24,999\n",
       "18585       2013     National        29.8      46125.0   $25,000 - $34,999\n",
       "18586       2013     National        30.0      58655.0   $35,000 - $49,999\n",
       "18587       2013     National        28.8      62562.0   $50,000 - $74,999\n",
       "18588       2013     National        23.9     111798.0  $75,000 or greater"
      ]
     },
     "execution_count": 182,
     "metadata": {},
     "output_type": "execute_result"
    }
   ],
   "source": [
    "#finding the average %obesity across all states for 2013, based on 'National' filter in the dataset\n",
    "income_n_2013 = income_national[income_national['YearStart']==2013]\n",
    "income_n_2013 = income_n_2013[['YearStart','LocationDesc','Data_Value','Sample_Size','Stratification1']]\n",
    "income_n_2013 = income_n_2013[~(income_n_2013['Stratification1']=='Data not reported')]\n",
    "income_n_2013"
   ]
  },
  {
   "cell_type": "code",
   "execution_count": 183,
   "metadata": {},
   "outputs": [],
   "source": [
    "#putting into function, return national average %obesity across all states, found based on 'National' filter\n",
    "def income_national_ob(df, year):\n",
    "    df1 = df[df['YearStart']==year]\n",
    "    df1 = df1[['Data_Value','Sample_Size','Stratification1']]\n",
    "    df1 = df1[~(df1['Stratification1']=='Data not reported')].sort_values(by='Data_Value')\n",
    "    #df2 = df1.reset_index(inplace=True)\n",
    "    df1.rename(columns={\"Stratification1\": \"Income_Level\", \"Data_Value\": str(year)+\"_%Obesity\", \n",
    "                       'Sample_Size':str(year)+'_Sample_Size'}, inplace=True)\n",
    "    \n",
    "    return df1"
   ]
  },
  {
   "cell_type": "code",
   "execution_count": 184,
   "metadata": {},
   "outputs": [
    {
     "data": {
      "text/html": [
       "<div>\n",
       "<style scoped>\n",
       "    .dataframe tbody tr th:only-of-type {\n",
       "        vertical-align: middle;\n",
       "    }\n",
       "\n",
       "    .dataframe tbody tr th {\n",
       "        vertical-align: top;\n",
       "    }\n",
       "\n",
       "    .dataframe thead th {\n",
       "        text-align: right;\n",
       "    }\n",
       "</style>\n",
       "<table border=\"1\" class=\"dataframe\">\n",
       "  <thead>\n",
       "    <tr style=\"text-align: right;\">\n",
       "      <th></th>\n",
       "      <th>2011_%Obesity</th>\n",
       "      <th>2011_Sample_Size</th>\n",
       "      <th>Income_Level</th>\n",
       "    </tr>\n",
       "  </thead>\n",
       "  <tbody>\n",
       "    <tr>\n",
       "      <th>18254</th>\n",
       "      <td>22.8</td>\n",
       "      <td>110120.0</td>\n",
       "      <td>$75,000 or greater</td>\n",
       "    </tr>\n",
       "    <tr>\n",
       "      <th>18253</th>\n",
       "      <td>28.4</td>\n",
       "      <td>64688.0</td>\n",
       "      <td>$50,000 - $74,999</td>\n",
       "    </tr>\n",
       "    <tr>\n",
       "      <th>18252</th>\n",
       "      <td>28.7</td>\n",
       "      <td>61354.0</td>\n",
       "      <td>$35,000 - $49,999</td>\n",
       "    </tr>\n",
       "    <tr>\n",
       "      <th>18251</th>\n",
       "      <td>29.5</td>\n",
       "      <td>48943.0</td>\n",
       "      <td>$25,000 - $34,999</td>\n",
       "    </tr>\n",
       "    <tr>\n",
       "      <th>18197</th>\n",
       "      <td>31.3</td>\n",
       "      <td>74049.0</td>\n",
       "      <td>$15,000 - $24,999</td>\n",
       "    </tr>\n",
       "    <tr>\n",
       "      <th>18250</th>\n",
       "      <td>32.3</td>\n",
       "      <td>49598.0</td>\n",
       "      <td>Less than $15,000</td>\n",
       "    </tr>\n",
       "  </tbody>\n",
       "</table>\n",
       "</div>"
      ],
      "text/plain": [
       "       2011_%Obesity  2011_Sample_Size        Income_Level\n",
       "18254           22.8          110120.0  $75,000 or greater\n",
       "18253           28.4           64688.0   $50,000 - $74,999\n",
       "18252           28.7           61354.0   $35,000 - $49,999\n",
       "18251           29.5           48943.0   $25,000 - $34,999\n",
       "18197           31.3           74049.0   $15,000 - $24,999\n",
       "18250           32.3           49598.0   Less than $15,000"
      ]
     },
     "execution_count": 184,
     "metadata": {},
     "output_type": "execute_result"
    }
   ],
   "source": [
    "income_n_2011 = income_national_ob(income_national, 2011)\n",
    "income_n_2011"
   ]
  },
  {
   "cell_type": "code",
   "execution_count": 185,
   "metadata": {},
   "outputs": [
    {
     "data": {
      "text/html": [
       "<div>\n",
       "<style scoped>\n",
       "    .dataframe tbody tr th:only-of-type {\n",
       "        vertical-align: middle;\n",
       "    }\n",
       "\n",
       "    .dataframe tbody tr th {\n",
       "        vertical-align: top;\n",
       "    }\n",
       "\n",
       "    .dataframe thead th {\n",
       "        text-align: right;\n",
       "    }\n",
       "</style>\n",
       "<table border=\"1\" class=\"dataframe\">\n",
       "  <thead>\n",
       "    <tr style=\"text-align: right;\">\n",
       "      <th></th>\n",
       "      <th>2011_%Obesity</th>\n",
       "      <th>2011_Sample_Size</th>\n",
       "      <th>2012_%Obesity</th>\n",
       "      <th>2012_Sample_Size</th>\n",
       "      <th>2013_%Obesity</th>\n",
       "      <th>2013_Sample_Size</th>\n",
       "      <th>2014_%Obesity</th>\n",
       "      <th>2014_Sample_Size</th>\n",
       "      <th>2015_%Obesity</th>\n",
       "      <th>2015_Sample_Size</th>\n",
       "    </tr>\n",
       "    <tr>\n",
       "      <th>Income_Level</th>\n",
       "      <th></th>\n",
       "      <th></th>\n",
       "      <th></th>\n",
       "      <th></th>\n",
       "      <th></th>\n",
       "      <th></th>\n",
       "      <th></th>\n",
       "      <th></th>\n",
       "      <th></th>\n",
       "      <th></th>\n",
       "    </tr>\n",
       "  </thead>\n",
       "  <tbody>\n",
       "    <tr>\n",
       "      <th>$75,000 or greater</th>\n",
       "      <td>22.8</td>\n",
       "      <td>110120.0</td>\n",
       "      <td>23.4</td>\n",
       "      <td>107562.0</td>\n",
       "      <td>23.9</td>\n",
       "      <td>111798.0</td>\n",
       "      <td>25.1</td>\n",
       "      <td>112498.0</td>\n",
       "      <td>24.6</td>\n",
       "      <td>109789.0</td>\n",
       "    </tr>\n",
       "    <tr>\n",
       "      <th>$50,000 - $74,999</th>\n",
       "      <td>28.4</td>\n",
       "      <td>64688.0</td>\n",
       "      <td>28.9</td>\n",
       "      <td>61143.0</td>\n",
       "      <td>28.8</td>\n",
       "      <td>62562.0</td>\n",
       "      <td>29.2</td>\n",
       "      <td>59297.0</td>\n",
       "      <td>29.9</td>\n",
       "      <td>54950.0</td>\n",
       "    </tr>\n",
       "    <tr>\n",
       "      <th>$35,000 - $49,999</th>\n",
       "      <td>28.7</td>\n",
       "      <td>61354.0</td>\n",
       "      <td>28.5</td>\n",
       "      <td>57017.0</td>\n",
       "      <td>30.0</td>\n",
       "      <td>58655.0</td>\n",
       "      <td>30.7</td>\n",
       "      <td>54340.0</td>\n",
       "      <td>30.6</td>\n",
       "      <td>48843.0</td>\n",
       "    </tr>\n",
       "    <tr>\n",
       "      <th>$25,000 - $34,999</th>\n",
       "      <td>29.5</td>\n",
       "      <td>48943.0</td>\n",
       "      <td>29.2</td>\n",
       "      <td>44721.0</td>\n",
       "      <td>29.8</td>\n",
       "      <td>46125.0</td>\n",
       "      <td>31.1</td>\n",
       "      <td>41727.0</td>\n",
       "      <td>32.1</td>\n",
       "      <td>36483.0</td>\n",
       "    </tr>\n",
       "    <tr>\n",
       "      <th>$15,000 - $24,999</th>\n",
       "      <td>31.3</td>\n",
       "      <td>74049.0</td>\n",
       "      <td>31.6</td>\n",
       "      <td>69410.0</td>\n",
       "      <td>32.3</td>\n",
       "      <td>71389.0</td>\n",
       "      <td>32.2</td>\n",
       "      <td>62892.0</td>\n",
       "      <td>33.2</td>\n",
       "      <td>53993.0</td>\n",
       "    </tr>\n",
       "    <tr>\n",
       "      <th>Less than $15,000</th>\n",
       "      <td>32.3</td>\n",
       "      <td>49598.0</td>\n",
       "      <td>33.1</td>\n",
       "      <td>46419.0</td>\n",
       "      <td>33.6</td>\n",
       "      <td>46889.0</td>\n",
       "      <td>35.2</td>\n",
       "      <td>39123.0</td>\n",
       "      <td>34.8</td>\n",
       "      <td>33296.0</td>\n",
       "    </tr>\n",
       "  </tbody>\n",
       "</table>\n",
       "</div>"
      ],
      "text/plain": [
       "                    2011_%Obesity  2011_Sample_Size  2012_%Obesity  \\\n",
       "Income_Level                                                         \n",
       "$75,000 or greater           22.8          110120.0           23.4   \n",
       "$50,000 - $74,999            28.4           64688.0           28.9   \n",
       "$35,000 - $49,999            28.7           61354.0           28.5   \n",
       "$25,000 - $34,999            29.5           48943.0           29.2   \n",
       "$15,000 - $24,999            31.3           74049.0           31.6   \n",
       "Less than $15,000            32.3           49598.0           33.1   \n",
       "\n",
       "                    2012_Sample_Size  2013_%Obesity  2013_Sample_Size  \\\n",
       "Income_Level                                                            \n",
       "$75,000 or greater          107562.0           23.9          111798.0   \n",
       "$50,000 - $74,999            61143.0           28.8           62562.0   \n",
       "$35,000 - $49,999            57017.0           30.0           58655.0   \n",
       "$25,000 - $34,999            44721.0           29.8           46125.0   \n",
       "$15,000 - $24,999            69410.0           32.3           71389.0   \n",
       "Less than $15,000            46419.0           33.6           46889.0   \n",
       "\n",
       "                    2014_%Obesity  2014_Sample_Size  2015_%Obesity  \\\n",
       "Income_Level                                                         \n",
       "$75,000 or greater           25.1          112498.0           24.6   \n",
       "$50,000 - $74,999            29.2           59297.0           29.9   \n",
       "$35,000 - $49,999            30.7           54340.0           30.6   \n",
       "$25,000 - $34,999            31.1           41727.0           32.1   \n",
       "$15,000 - $24,999            32.2           62892.0           33.2   \n",
       "Less than $15,000            35.2           39123.0           34.8   \n",
       "\n",
       "                    2015_Sample_Size  \n",
       "Income_Level                          \n",
       "$75,000 or greater          109789.0  \n",
       "$50,000 - $74,999            54950.0  \n",
       "$35,000 - $49,999            48843.0  \n",
       "$25,000 - $34,999            36483.0  \n",
       "$15,000 - $24,999            53993.0  \n",
       "Less than $15,000            33296.0  "
      ]
     },
     "execution_count": 185,
     "metadata": {},
     "output_type": "execute_result"
    }
   ],
   "source": [
    "income_n_2011 = income_national_ob(income_national, 2011)\n",
    "income_n_2012 = income_national_ob(income_national, 2012)\n",
    "income_n_2013 = income_national_ob(income_national, 2013)\n",
    "income_n_2014 = income_national_ob(income_national, 2014)\n",
    "income_n_2015 = income_national_ob(income_national, 2015)\n",
    "\n",
    "\n",
    "df_income_n = income_n_2011.set_index('Income_Level').join(income_n_2012.set_index(\n",
    "    'Income_Level')).join(income_n_2013.set_index('Income_Level')).join(income_n_2014.set_index('Income_Level')).join(income_n_2015.set_index('Income_Level'))\n",
    "\n",
    "df_income_n #returns joined table with for years 2011-2015, income_leve vs %obesity\n"
   ]
  },
  {
   "cell_type": "code",
   "execution_count": 186,
   "metadata": {},
   "outputs": [
    {
     "data": {
      "text/html": [
       "<div>\n",
       "<style scoped>\n",
       "    .dataframe tbody tr th:only-of-type {\n",
       "        vertical-align: middle;\n",
       "    }\n",
       "\n",
       "    .dataframe tbody tr th {\n",
       "        vertical-align: top;\n",
       "    }\n",
       "\n",
       "    .dataframe thead th {\n",
       "        text-align: right;\n",
       "    }\n",
       "</style>\n",
       "<table border=\"1\" class=\"dataframe\">\n",
       "  <thead>\n",
       "    <tr style=\"text-align: right;\">\n",
       "      <th></th>\n",
       "      <th>2011_%Obesity</th>\n",
       "      <th>2012_%Obesity</th>\n",
       "      <th>2013_%Obesity</th>\n",
       "      <th>2014_%Obesity</th>\n",
       "      <th>2015_%Obesity</th>\n",
       "    </tr>\n",
       "    <tr>\n",
       "      <th>Income_Level</th>\n",
       "      <th></th>\n",
       "      <th></th>\n",
       "      <th></th>\n",
       "      <th></th>\n",
       "      <th></th>\n",
       "    </tr>\n",
       "  </thead>\n",
       "  <tbody>\n",
       "    <tr>\n",
       "      <th>$75,000 or greater</th>\n",
       "      <td>22.8</td>\n",
       "      <td>23.4</td>\n",
       "      <td>23.9</td>\n",
       "      <td>25.1</td>\n",
       "      <td>24.6</td>\n",
       "    </tr>\n",
       "    <tr>\n",
       "      <th>$50,000 - $74,999</th>\n",
       "      <td>28.4</td>\n",
       "      <td>28.9</td>\n",
       "      <td>28.8</td>\n",
       "      <td>29.2</td>\n",
       "      <td>29.9</td>\n",
       "    </tr>\n",
       "    <tr>\n",
       "      <th>$35,000 - $49,999</th>\n",
       "      <td>28.7</td>\n",
       "      <td>28.5</td>\n",
       "      <td>30.0</td>\n",
       "      <td>30.7</td>\n",
       "      <td>30.6</td>\n",
       "    </tr>\n",
       "    <tr>\n",
       "      <th>$25,000 - $34,999</th>\n",
       "      <td>29.5</td>\n",
       "      <td>29.2</td>\n",
       "      <td>29.8</td>\n",
       "      <td>31.1</td>\n",
       "      <td>32.1</td>\n",
       "    </tr>\n",
       "    <tr>\n",
       "      <th>$15,000 - $24,999</th>\n",
       "      <td>31.3</td>\n",
       "      <td>31.6</td>\n",
       "      <td>32.3</td>\n",
       "      <td>32.2</td>\n",
       "      <td>33.2</td>\n",
       "    </tr>\n",
       "    <tr>\n",
       "      <th>Less than $15,000</th>\n",
       "      <td>32.3</td>\n",
       "      <td>33.1</td>\n",
       "      <td>33.6</td>\n",
       "      <td>35.2</td>\n",
       "      <td>34.8</td>\n",
       "    </tr>\n",
       "  </tbody>\n",
       "</table>\n",
       "</div>"
      ],
      "text/plain": [
       "                    2011_%Obesity  2012_%Obesity  2013_%Obesity  \\\n",
       "Income_Level                                                      \n",
       "$75,000 or greater           22.8           23.4           23.9   \n",
       "$50,000 - $74,999            28.4           28.9           28.8   \n",
       "$35,000 - $49,999            28.7           28.5           30.0   \n",
       "$25,000 - $34,999            29.5           29.2           29.8   \n",
       "$15,000 - $24,999            31.3           31.6           32.3   \n",
       "Less than $15,000            32.3           33.1           33.6   \n",
       "\n",
       "                    2014_%Obesity  2015_%Obesity  \n",
       "Income_Level                                      \n",
       "$75,000 or greater           25.1           24.6  \n",
       "$50,000 - $74,999            29.2           29.9  \n",
       "$35,000 - $49,999            30.7           30.6  \n",
       "$25,000 - $34,999            31.1           32.1  \n",
       "$15,000 - $24,999            32.2           33.2  \n",
       "Less than $15,000            35.2           34.8  "
      ]
     },
     "execution_count": 186,
     "metadata": {},
     "output_type": "execute_result"
    }
   ],
   "source": [
    "df_income_plt = df_income_n.iloc[:,0:9:2]\n",
    "df_income_plt"
   ]
  },
  {
   "cell_type": "code",
   "execution_count": 191,
   "metadata": {},
   "outputs": [
    {
     "data": {
      "image/png": "[encoded data removed]",
      "text/plain": [
       "<Figure size 1080x576 with 1 Axes>"
      ]
     },
     "metadata": {},
     "output_type": "display_data"
    }
   ],
   "source": [
    "from statistics import mean \n",
    "\n",
    "inc_level = ['>75,000','50,000−74,999','35,000−49,999','25,000−34,999','15,000−24,999','<15,000']\n",
    "# inc_2011 = df_income['2011_%Obesity'].values\n",
    "# inc_2012 = df_income['2012_%Obesity'].values\n",
    "# inc_2013 = df_income['2013_%Obesity'].values\n",
    "# inc_2014 = df_income['2014_%Obesity'].values\n",
    "# inc_2015 = df_income['2015_%Obesity'].values\n",
    "m = sum(n_mean)/len(n_mean) #national mean %obesity, by averaging year 2011 - 2015\n",
    "df_income_plt = df_income_n.iloc[:,0:9:2]\n",
    "ax = df_income_plt.plot.barh(figsize = (15, 8), colormap = 'Accent')\n",
    "ax.axvline(m, linestyle='--', color='black')\n",
    "\n",
    "ax.set_xlabel('% Adult w/ Obesity', size=15)\n",
    "ax.set_ylabel('Income Level', size=15)\n",
    "mpl.rcParams['xtick.labelsize'] = 10\n",
    "mpl.rcParams['ytick.labelsize'] = 10\n",
    "ax.set_title('% Adults with Obesity for Different Income Levels, 2011 to 2015', size=20)\n",
    "fig.tight_layout()\n",
    "# df = pd.DataFrame({'speed': speed,'lifespan': lifespan}, index=index)\n",
    "# >>> ax = df.plot.barh()"
   ]
  },
  {
   "cell_type": "markdown",
   "metadata": {},
   "source": [
    "hypothesis testing\n",
    "\n",
    "effect of low vs high income level on % obesity in the population\n",
    "\n",
    "- null: low (<25,000) and high (>50,000) has the same obesity rate\n",
    "- alternate: low_income has higher obesity rate than high_income "
   ]
  },
  {
   "cell_type": "code",
   "execution_count": 192,
   "metadata": {},
   "outputs": [],
   "source": [
    "# finding low income total sample and number of people with obesity, <25,000\n",
    "# focusing on Louisiana, 2015\n",
    "\n",
    "income_lou = income_states[(income_states['LocationDesc'] == 'Louisiana') & (income_states['YearStart']==2015)]\n",
    "#income_lou['Stratification1'] = income_lou[\"Stratification1\"].astype(str)\n",
    "income_lou_low = income_lou[(income_lou['StratificationID1'] == 'INCLESS15') | (income_lou['StratificationID1'] == 'INC1525')]\\\n",
    "\n",
    "income_lou_low_tsize = income_lou_low['Sample_Size'].sum() #1244\n",
    "\n",
    "income_lou_low_obsize = ((income_lou_low['Data_Value']/100)*income_lou_low['Sample_Size']).sum() #522.772\n",
    "income_lou_low_nobsize = income_lou_low_tsize - income_lou_low_obsize #721.228\n",
    "\n",
    "#income_lou"
   ]
  },
  {
   "cell_type": "code",
   "execution_count": 241,
   "metadata": {},
   "outputs": [
    {
     "data": {
      "text/plain": [
       "2675.0"
      ]
     },
     "execution_count": 241,
     "metadata": {},
     "output_type": "execute_result"
    }
   ],
   "source": [
    "# finding high income total sample and number of people with obesity >50,000\n",
    "# focusing on Louisiana, 2015\n",
    "\n",
    "income_lou_h = income_lou[(income_lou['StratificationID1'] == 'INC75PLUS') | (income_lou['StratificationID1'] == 'INC5075')]\n",
    "\n",
    "income_lou_h_tsize = income_lou_h['Sample_Size'].sum() #1431\n",
    "income_lou_h_obsize = ((income_lou_h['Data_Value']/100)*income_lou_h['Sample_Size']).sum()#475.287\n",
    "income_lou_h_nobsize = income_lou_h_tsize - income_lou_h_obsize #955.713\n",
    "\n",
    "# total number of samples for low and high income level\n",
    "income_lou_tsize = income_lou_low_tsize + income_lou_h_tsize #2675.0\n",
    "income_lou_tsize\n"
   ]
  },
  {
   "cell_type": "code",
   "execution_count": 245,
   "metadata": {},
   "outputs": [],
   "source": [
    "shared_sample_freq_lou = (income_lou_low_obsize + income_lou_h_obsize) / income_lou_tsize\n",
    "shared_sample_variance_lou = income_lou_tsize * (shared_sample_freq_lou * (1 - shared_sample_freq_lou)) / (income_lou_low_tsize*income_lou_h_tsize)\n",
    "\n",
    "diff_in_prop_lou = stats.norm(0, np.sqrt(shared_sample_variance_lou))"
   ]
  },
  {
   "cell_type": "code",
   "execution_count": 247,
   "metadata": {},
   "outputs": [
    {
     "name": "stdout",
     "output_type": "stream",
     "text": [
      "Difference in sample proportions: 0.09\n"
     ]
    }
   ],
   "source": [
    "low_sample_freq_lou = income_lou_low_obsize / income_lou_low_tsize #0.42023\n",
    "high_sample_freq_lou = income_lou_h_obsize / income_lou_h_tsize #0.3321\n",
    "\n",
    "diff_in_sample_prop_lou = low_sample_freq_lou - high_sample_freq_lou #0.088098\n",
    "\n",
    "print(\"Difference in sample proportions: {:2.2f}\".format(diff_in_sample_prop))"
   ]
  },
  {
   "cell_type": "code",
   "execution_count": 248,
   "metadata": {},
   "outputs": [
    {
     "name": "stdout",
     "output_type": "stream",
     "text": [
      "p-value for obesity frequency comparison: 0.0000013060\n"
     ]
    }
   ],
   "source": [
    "#z test\n",
    "p_value = 1-diff_in_prop_lou.cdf(diff_in_sample_prop_lou)\n",
    "print(\"p-value for obesity frequency comparison: {:2.10f}\".format(p_value)) \n"
   ]
  },
  {
   "cell_type": "code",
   "execution_count": 251,
   "metadata": {},
   "outputs": [
    {
     "data": {
      "text/plain": [
       "array([35.4, 36.7, 44.5, 38.2, 40.3, 36.8, 40. , 36.1, 41.3, 43.1])"
      ]
     },
     "execution_count": 251,
     "metadata": {},
     "output_type": "execute_result"
    }
   ],
   "source": [
    "# finding low income total sample and number of people with obesity, <25,000\n",
    "# focusing on Louisiana, all years\n",
    "\n",
    "income_l = income_states[(income_states['LocationDesc'] == 'Louisiana')] #& (income_states['YearStart']==2015)]\n",
    "#income_co['Stratification1'] = income_lou[\"Stratification1\"].astype(str)\n",
    "income_l_low = income_l[(income_l['StratificationID1'] == 'INCLESS15') | (income_l['StratificationID1'] == 'INC1525')]\n",
    "\n",
    "l_low = income_l_low['Data_Value'].values\n",
    "l_low"
   ]
  },
  {
   "cell_type": "code",
   "execution_count": 253,
   "metadata": {},
   "outputs": [
    {
     "data": {
      "text/plain": [
       "array([36.8, 29.9, 31.7, 32.8, 28.7, 30.6, 33. , 33.7, 32.7, 34.2])"
      ]
     },
     "execution_count": 253,
     "metadata": {},
     "output_type": "execute_result"
    }
   ],
   "source": [
    "# finding high income total sample and number of people with obesity >50,000\n",
    "# focusing on Louisiana, all years\n",
    "\n",
    "income_l_h = income_l[(income_l['StratificationID1'] == 'INC75PLUS') | (income_l['StratificationID1'] == 'INC5075')]\n",
    "\n",
    "l_high = income_l_h['Data_Value'].values\n",
    "l_high\n"
   ]
  },
  {
   "cell_type": "code",
   "execution_count": 254,
   "metadata": {},
   "outputs": [],
   "source": [
    "def welch_test_statistic(sample_1, sample_2):\n",
    "    numerator = np.mean(sample_1) - np.mean(sample_2)\n",
    "    denominator_sq = (np.var(sample_1) / len(sample_1)) + (np.var(sample_2) / len(sample_2))\n",
    "    return numerator / np.sqrt(denominator_sq)"
   ]
  },
  {
   "cell_type": "code",
   "execution_count": 552,
   "metadata": {},
   "outputs": [
    {
     "name": "stdout",
     "output_type": "stream",
     "text": [
      "Welch Test Statistic: -5.87\n"
     ]
    }
   ],
   "source": [
    "test_statistic_l = welch_test_statistic(l_high, l_low)\n",
    "print(\"Welch Test Statistic: {:2.2f}\".format(test_statistic_l))"
   ]
  },
  {
   "cell_type": "code",
   "execution_count": 258,
   "metadata": {},
   "outputs": [],
   "source": [
    "def welch_satterhwaithe_df(sample_1, sample_2):\n",
    "    ss1 = len(sample_1)\n",
    "    ss2 = len(sample_2)\n",
    "    df = (\n",
    "        ((np.var(sample_1)/ss1 + np.var(sample_2)/ss2)**(2.0)) / \n",
    "        ((np.var(sample_1)/ss1)**(2.0)/(ss1 - 1) + (np.var(sample_2)/ss2)**(2.0)/(ss2 - 1))\n",
    "    )\n",
    "    return df"
   ]
  },
  {
   "cell_type": "code",
   "execution_count": 553,
   "metadata": {},
   "outputs": [
    {
     "name": "stdout",
     "output_type": "stream",
     "text": [
      "Degrees of Freedom for Welch's Test: 16.68\n"
     ]
    }
   ],
   "source": [
    "df = welch_satterhwaithe_df(l_high, l_low)\n",
    "print(\"Degrees of Freedom for Welch's Test: {:2.2f}\".format(df))\n"
   ]
  },
  {
   "cell_type": "code",
   "execution_count": 554,
   "metadata": {},
   "outputs": [
    {
     "name": "stdout",
     "output_type": "stream",
     "text": [
      "p-value for different average obesity rate: 0.0000198536\n"
     ]
    }
   ],
   "source": [
    "students = stats.t(df)\n",
    "\n",
    "p_value = students.cdf(test_statistic_l) + (1 - students.cdf(-test_statistic_l))\n",
    "print(\"p-value for different average obesity rate: {:2.10f}\".format(p_value))\n"
   ]
  },
  {
   "cell_type": "code",
   "execution_count": 555,
   "metadata": {},
   "outputs": [
    {
     "name": "stdout",
     "output_type": "stream",
     "text": [
      "p-value for high-income obesity rate better than low-income obesity rate: 0.0000099268\n"
     ]
    }
   ],
   "source": [
    "#try to conclude that high income is better(lower rate)\n",
    "\n",
    "test_statistic_2 = welch_test_statistic(l_low, l_high)\n",
    "p_value_2 = 1 - students.cdf(test_statistic_2)\n",
    "print(\"p-value for high-income obesity rate better than low-income obesity rate: {:2.10f}\".format(p_value_2))\n"
   ]
  },
  {
   "cell_type": "code",
   "execution_count": 558,
   "metadata": {},
   "outputs": [
    {
     "data": {
      "text/plain": [
       "Text(0.5,1,'p-Value Region, p-value: 0.00002')"
      ]
     },
     "execution_count": 558,
     "metadata": {},
     "output_type": "execute_result"
    },
    {
     "data": {
      "image/png": "[encoded data removed]",
      "text/plain": [
       "<Figure size 720x288 with 1 Axes>"
      ]
     },
     "metadata": {},
     "output_type": "display_data"
    }
   ],
   "source": [
    "x = np.linspace(-6, 6, num=250)\n",
    "\n",
    "fig, ax = plt.subplots(1, figsize=(10, 4))\n",
    "ax.plot(x, students.pdf(x), linewidth=2, label=\"Degree of Freedom: {:2.2f}\".format(df))\n",
    "_ = ax.fill_between(x, students.pdf(x), where=(x >= -test_statistic_l), color=\"red\", alpha=0.25)\n",
    "_ = ax.fill_between(x, students.pdf(x), where=(x <= test_statistic_l), color=\"red\", alpha=0.25)\n",
    "ax.legend()\n",
    "ax.set_title(\"p-Value Region, p-value: 0.00002\")"
   ]
  },
  {
   "cell_type": "code",
   "execution_count": 269,
   "metadata": {},
   "outputs": [],
   "source": [
    "#U test\n",
    "\n",
    "def count_winning_pairs(sample_1, sample_2):\n",
    "    sample_1, sample_2 = np.array(sample_1), np.array(sample_2)\n",
    "    n_total_wins = 0\n",
    "    for x in sample_1:\n",
    "        n_wins = np.sum(x > sample_2) + 0.5*np.sum(x == sample_2)\n",
    "        n_total_wins += n_wins\n",
    "    return n_total_wins"
   ]
  },
  {
   "cell_type": "code",
   "execution_count": 271,
   "metadata": {},
   "outputs": [
    {
     "name": "stdout",
     "output_type": "stream",
     "text": [
      "Number of High-income Wins: 3.5\n",
      "Number of Low-income Wins: 96.5\n"
     ]
    }
   ],
   "source": [
    "high_wins = count_winning_pairs(l_high, l_low)\n",
    "low_wins = count_winning_pairs(l_low, l_high)\n",
    "print(\"Number of High-income Wins: {}\".format(high_wins))\n",
    "print(\"Number of Low-income Wins: {}\".format(low_wins))"
   ]
  },
  {
   "cell_type": "markdown",
   "metadata": {},
   "source": [
    "High income's obesity rates are equaliy likely to be higher than low income's as the other way around. "
   ]
  },
  {
   "cell_type": "code",
   "execution_count": 559,
   "metadata": {},
   "outputs": [
    {
     "name": "stdout",
     "output_type": "stream",
     "text": [
      "MannwhitneyuResult(statistic=3.5, pvalue=0.00025203790867089817)\n",
      "p-value: 0.0002520379\n"
     ]
    }
   ],
   "source": [
    "res = stats.mannwhitneyu(l_high, l_low, alternative=\"less\")\n",
    "print(res)\n",
    "print(\"p-value: {:2.10f}\".format(res.pvalue))\n"
   ]
  },
  {
   "cell_type": "markdown",
   "metadata": {},
   "source": [
    "### EDUCATION"
   ]
  },
  {
   "cell_type": "code",
   "execution_count": 279,
   "metadata": {},
   "outputs": [],
   "source": [
    "edu_obes_s = us_data[(us_data['StratificationCategory1'] == 'Education') & (us_data['Question'] == q[0]) \n",
    "                            & ~(us_data['LocationDesc']=='National')&~(us_data['LocationDesc']=='Guam')\n",
    "                            &~(us_data['LocationDesc']=='Puerto Rico')]\n",
    "\n",
    "edu_obes_s = edu_obes_s.reset_index(drop = True)\n",
    "\n",
    "edu_obes_n = us_data[(us_data['StratificationCategory1'] == 'Education') & (us_data['Question'] == q[0]) \n",
    "                            & (us_data['LocationDesc']=='National')]"
   ]
  },
  {
   "cell_type": "code",
   "execution_count": 280,
   "metadata": {},
   "outputs": [
    {
     "data": {
      "text/html": [
       "<div>\n",
       "<style scoped>\n",
       "    .dataframe tbody tr th:only-of-type {\n",
       "        vertical-align: middle;\n",
       "    }\n",
       "\n",
       "    .dataframe tbody tr th {\n",
       "        vertical-align: top;\n",
       "    }\n",
       "\n",
       "    .dataframe thead th {\n",
       "        text-align: right;\n",
       "    }\n",
       "</style>\n",
       "<table border=\"1\" class=\"dataframe\">\n",
       "  <thead>\n",
       "    <tr style=\"text-align: right;\">\n",
       "      <th></th>\n",
       "      <th>index</th>\n",
       "      <th>YearStart</th>\n",
       "      <th>LocationDesc</th>\n",
       "      <th>2013_%Obesity</th>\n",
       "      <th>Education_Level</th>\n",
       "    </tr>\n",
       "  </thead>\n",
       "  <tbody>\n",
       "    <tr>\n",
       "      <th>0</th>\n",
       "      <td>18576</td>\n",
       "      <td>2013</td>\n",
       "      <td>National</td>\n",
       "      <td>20.9</td>\n",
       "      <td>College graduate</td>\n",
       "    </tr>\n",
       "    <tr>\n",
       "      <th>1</th>\n",
       "      <td>18575</td>\n",
       "      <td>2013</td>\n",
       "      <td>National</td>\n",
       "      <td>29.6</td>\n",
       "      <td>Some college or technical school</td>\n",
       "    </tr>\n",
       "    <tr>\n",
       "      <th>2</th>\n",
       "      <td>18574</td>\n",
       "      <td>2013</td>\n",
       "      <td>National</td>\n",
       "      <td>30.7</td>\n",
       "      <td>High school graduate</td>\n",
       "    </tr>\n",
       "    <tr>\n",
       "      <th>3</th>\n",
       "      <td>18573</td>\n",
       "      <td>2013</td>\n",
       "      <td>National</td>\n",
       "      <td>34.1</td>\n",
       "      <td>Less than high school</td>\n",
       "    </tr>\n",
       "  </tbody>\n",
       "</table>\n",
       "</div>"
      ],
      "text/plain": [
       "   index  YearStart LocationDesc  2013_%Obesity  \\\n",
       "0  18576       2013     National           20.9   \n",
       "1  18575       2013     National           29.6   \n",
       "2  18574       2013     National           30.7   \n",
       "3  18573       2013     National           34.1   \n",
       "\n",
       "                    Education_Level  \n",
       "0                  College graduate  \n",
       "1  Some college or technical school  \n",
       "2              High school graduate  \n",
       "3             Less than high school  "
      ]
     },
     "execution_count": 280,
     "metadata": {},
     "output_type": "execute_result"
    }
   ],
   "source": [
    "#finding national %obesity for each year, using the 'National' filter\n",
    "\n",
    "edu_n = edu_obes_n[edu_obes_n['YearStart']==2013]\n",
    "edu_n = edu_n[['YearStart','LocationDesc','Data_Value','Stratification1']].sort_values(by='Data_Value')\n",
    "#edu = edu.groupby(by='Stratification1')['Data_Value'].mean().sort_values()\n",
    "edu_n = edu_n.reset_index()\n",
    "\n",
    "edu_n.rename(columns={\"Stratification1\": \"Education_Level\", \"Data_Value\": \"2013_%Obesity\"})                                     \n",
    "                                      \n",
    "                                      \n"
   ]
  },
  {
   "cell_type": "code",
   "execution_count": 360,
   "metadata": {},
   "outputs": [],
   "source": [
    "#function for a DataFrame focusing on education level and %obesity for years 2011-2015, nationally\n",
    "def obesity_edu(df, year):\n",
    "    df1 = df[df['YearStart']==year]\n",
    "    df1 = df1[['Sample_Size','Data_Value','Stratification1']].sort_values(by='Data_Value')\n",
    "    #df1_g = df1.groupby(by='Stratification1')['Data_Value'].mean().sort_values()\n",
    "    #df1 = df1.reset_index()\n",
    "    df1.rename(columns={\"Stratification1\": \"Education_Level\", \"Data_Value\": str(year)+\"_%Obesity\", \n",
    "                       \"Sample_Size\": str(year)+\"_Sample_Size\"}, inplace=True)\n",
    "    \n",
    "    return df1\n",
    "\n"
   ]
  },
  {
   "cell_type": "code",
   "execution_count": 361,
   "metadata": {},
   "outputs": [
    {
     "data": {
      "text/html": [
       "<div>\n",
       "<style scoped>\n",
       "    .dataframe tbody tr th:only-of-type {\n",
       "        vertical-align: middle;\n",
       "    }\n",
       "\n",
       "    .dataframe tbody tr th {\n",
       "        vertical-align: top;\n",
       "    }\n",
       "\n",
       "    .dataframe thead th {\n",
       "        text-align: right;\n",
       "    }\n",
       "</style>\n",
       "<table border=\"1\" class=\"dataframe\">\n",
       "  <thead>\n",
       "    <tr style=\"text-align: right;\">\n",
       "      <th></th>\n",
       "      <th>2011_Sample_Size</th>\n",
       "      <th>2011_%Obesity</th>\n",
       "      <th>2012_Sample_Size</th>\n",
       "      <th>2012_%Obesity</th>\n",
       "      <th>2013_Sample_Size</th>\n",
       "      <th>2013_%Obesity</th>\n",
       "      <th>2014_Sample_Size</th>\n",
       "      <th>2014_%Obesity</th>\n",
       "      <th>2015_Sample_Size</th>\n",
       "      <th>2015_%Obesity</th>\n",
       "    </tr>\n",
       "    <tr>\n",
       "      <th>Education_Level</th>\n",
       "      <th></th>\n",
       "      <th></th>\n",
       "      <th></th>\n",
       "      <th></th>\n",
       "      <th></th>\n",
       "      <th></th>\n",
       "      <th></th>\n",
       "      <th></th>\n",
       "      <th></th>\n",
       "      <th></th>\n",
       "    </tr>\n",
       "  </thead>\n",
       "  <tbody>\n",
       "    <tr>\n",
       "      <th>College graduate</th>\n",
       "      <td>162648.0</td>\n",
       "      <td>20.6</td>\n",
       "      <td>153786.0</td>\n",
       "      <td>21.2</td>\n",
       "      <td>160091.0</td>\n",
       "      <td>20.9</td>\n",
       "      <td>155627.0</td>\n",
       "      <td>21.8</td>\n",
       "      <td>148030.0</td>\n",
       "      <td>21.7</td>\n",
       "    </tr>\n",
       "    <tr>\n",
       "      <th>Some college or technical school</th>\n",
       "      <td>127160.0</td>\n",
       "      <td>28.6</td>\n",
       "      <td>120032.0</td>\n",
       "      <td>28.7</td>\n",
       "      <td>125709.0</td>\n",
       "      <td>29.6</td>\n",
       "      <td>116243.0</td>\n",
       "      <td>30.2</td>\n",
       "      <td>109147.0</td>\n",
       "      <td>30.2</td>\n",
       "    </tr>\n",
       "    <tr>\n",
       "      <th>High school graduate</th>\n",
       "      <td>138994.0</td>\n",
       "      <td>29.7</td>\n",
       "      <td>130030.0</td>\n",
       "      <td>29.9</td>\n",
       "      <td>133402.0</td>\n",
       "      <td>30.7</td>\n",
       "      <td>120826.0</td>\n",
       "      <td>31.4</td>\n",
       "      <td>110951.0</td>\n",
       "      <td>31.7</td>\n",
       "    </tr>\n",
       "    <tr>\n",
       "      <th>Less than high school</th>\n",
       "      <td>41022.0</td>\n",
       "      <td>32.4</td>\n",
       "      <td>37655.0</td>\n",
       "      <td>32.9</td>\n",
       "      <td>37398.0</td>\n",
       "      <td>34.1</td>\n",
       "      <td>32260.0</td>\n",
       "      <td>34.4</td>\n",
       "      <td>29309.0</td>\n",
       "      <td>34.0</td>\n",
       "    </tr>\n",
       "  </tbody>\n",
       "</table>\n",
       "</div>"
      ],
      "text/plain": [
       "                                  2011_Sample_Size  2011_%Obesity  \\\n",
       "Education_Level                                                     \n",
       "College graduate                          162648.0           20.6   \n",
       "Some college or technical school          127160.0           28.6   \n",
       "High school graduate                      138994.0           29.7   \n",
       "Less than high school                      41022.0           32.4   \n",
       "\n",
       "                                  2012_Sample_Size  2012_%Obesity  \\\n",
       "Education_Level                                                     \n",
       "College graduate                          153786.0           21.2   \n",
       "Some college or technical school          120032.0           28.7   \n",
       "High school graduate                      130030.0           29.9   \n",
       "Less than high school                      37655.0           32.9   \n",
       "\n",
       "                                  2013_Sample_Size  2013_%Obesity  \\\n",
       "Education_Level                                                     \n",
       "College graduate                          160091.0           20.9   \n",
       "Some college or technical school          125709.0           29.6   \n",
       "High school graduate                      133402.0           30.7   \n",
       "Less than high school                      37398.0           34.1   \n",
       "\n",
       "                                  2014_Sample_Size  2014_%Obesity  \\\n",
       "Education_Level                                                     \n",
       "College graduate                          155627.0           21.8   \n",
       "Some college or technical school          116243.0           30.2   \n",
       "High school graduate                      120826.0           31.4   \n",
       "Less than high school                      32260.0           34.4   \n",
       "\n",
       "                                  2015_Sample_Size  2015_%Obesity  \n",
       "Education_Level                                                    \n",
       "College graduate                          148030.0           21.7  \n",
       "Some college or technical school          109147.0           30.2  \n",
       "High school graduate                      110951.0           31.7  \n",
       "Less than high school                      29309.0           34.0  "
      ]
     },
     "execution_count": 361,
     "metadata": {},
     "output_type": "execute_result"
    }
   ],
   "source": [
    "edu_n_2011 = obesity_edu(edu_obes_n, 2011)\n",
    "edu_n_2012 = obesity_edu(edu_obes_n, 2012)\n",
    "edu_n_2013 = obesity_edu(edu_obes_n, 2013)\n",
    "edu_n_2014 = obesity_edu(edu_obes_n, 2014)\n",
    "edu_n_2015 = obesity_edu(edu_obes_n, 2015)\n",
    "df_edu_n = edu_n_2011.set_index('Education_Level').join(edu_n_2012.set_index(\n",
    "    'Education_Level')).join(edu_n_2013.set_index('Education_Level')).join(edu_n_2014.set_index('Education_Level')).join(edu_n_2015.set_index('Education_Level'))\n",
    "\n",
    "df_edu_n"
   ]
  },
  {
   "cell_type": "code",
   "execution_count": 531,
   "metadata": {},
   "outputs": [
    {
     "data": {
      "image/png": "[encoded data removed]",
      "text/plain": [
       "<Figure size 936x504 with 1 Axes>"
      ]
     },
     "metadata": {},
     "output_type": "display_data"
    }
   ],
   "source": [
    "fig, axs = plt.subplots(figsize=(13,7))\n",
    "\n",
    "x = [2011,2012,2013,2014,2015]\n",
    "color= ['royalblue','orange','seagreen','mediumpurple']\n",
    "for idx, val in enumerate(df_edu_n.index):\n",
    "    axs.plot(x, df_edu_n.iloc[idx, 1:10:2], label=df_edu_n.index[idx],linewidth=2, color=color[idx])\n",
    "                                                                                            \n",
    "\n",
    "axs.set_xlabel('Year', size=15)\n",
    "axs.set_ylabel('% Adult with Obesity', size=15)\n",
    "axs.set_xticks(range(2011, 2016))\n",
    "axs.xaxis.set_major_formatter(plt.FuncFormatter('{:.0f}'.format))\n",
    "axs.set_xlim(2010.9, 2015.1)\n",
    "\n",
    "mpl.rcParams['xtick.labelsize'] = 12\n",
    "mpl.rcParams['ytick.labelsize'] = 12\n",
    "axs.set_title('% Adults with Obesity for Different Education Levels, 2011 to 2015', size=20)\n",
    "\n",
    "plt.legend(loc='best', fontsize='large')#, bbox_to_anchor=(1.0, 0.5))\n",
    "fig.tight_layout()\n",
    "\n"
   ]
  },
  {
   "cell_type": "code",
   "execution_count": 503,
   "metadata": {},
   "outputs": [
    {
     "data": {
      "image/png": "[encoded data removed]",
      "text/plain": [
       "<Figure size 936x576 with 1 Axes>"
      ]
     },
     "metadata": {},
     "output_type": "display_data"
    }
   ],
   "source": [
    "edu_level = ['Less than high school','High school graduate', 'Some college/technical shool','College graduate']\n",
    "\n",
    "#m = sum(n_mean)/len(n_mean) #national mean %obesity, by averaging year 2011 - 2015\n",
    "#df_income_plt = df_income_n.iloc[:,0:9:2]\n",
    "df_edu_plt = df_edu_n.iloc[:, 1:10:2]\n",
    "ax = df_edu_plt.plot.barh(figsize = (13, 8), colormap = 'Accent')\n",
    "ax.axvline(m, linestyle='--', color='black')\n",
    "\n",
    "ax.set_xlabel('% Adult w/ Obesity', size=15)\n",
    "ax.set_ylabel('Education Level', size=15)\n",
    "mpl.rcParams['xtick.labelsize'] = 12\n",
    "mpl.rcParams['ytick.labelsize'] = 12\n",
    "ax.set_title('% Adults with Obesity for Different Education Levels, 2011 to 2015', size=20)\n",
    "fig.tight_layout()\n",
    "# df = pd.DataFrame({'speed': speed,'lifespan': lifespan}, index=index)\n",
    "# >>> ax = df.plot.barh()"
   ]
  },
  {
   "cell_type": "code",
   "execution_count": 364,
   "metadata": {},
   "outputs": [
    {
     "data": {
      "text/html": [
       "<div>\n",
       "<style scoped>\n",
       "    .dataframe tbody tr th:only-of-type {\n",
       "        vertical-align: middle;\n",
       "    }\n",
       "\n",
       "    .dataframe tbody tr th {\n",
       "        vertical-align: top;\n",
       "    }\n",
       "\n",
       "    .dataframe thead th {\n",
       "        text-align: right;\n",
       "    }\n",
       "</style>\n",
       "<table border=\"1\" class=\"dataframe\">\n",
       "  <thead>\n",
       "    <tr style=\"text-align: right;\">\n",
       "      <th></th>\n",
       "      <th>YearStart</th>\n",
       "      <th>LocationDesc</th>\n",
       "      <th>Question</th>\n",
       "      <th>Data_Value</th>\n",
       "      <th>Data_Value_Alt</th>\n",
       "      <th>Low_Confidence_Limit</th>\n",
       "      <th>High_Confidence_Limit</th>\n",
       "      <th>Sample_Size</th>\n",
       "      <th>Total</th>\n",
       "      <th>Age(years)</th>\n",
       "      <th>Education</th>\n",
       "      <th>Gender</th>\n",
       "      <th>Income</th>\n",
       "      <th>Race/Ethnicity</th>\n",
       "      <th>GeoLocation</th>\n",
       "      <th>LocationID</th>\n",
       "      <th>StratificationCategory1</th>\n",
       "      <th>Stratification1</th>\n",
       "      <th>StratificationID1</th>\n",
       "    </tr>\n",
       "  </thead>\n",
       "  <tbody>\n",
       "    <tr>\n",
       "      <th>0</th>\n",
       "      <td>2011</td>\n",
       "      <td>Alabama</td>\n",
       "      <td>Percent of adults aged 18 years and older who have obesity</td>\n",
       "      <td>33.6</td>\n",
       "      <td>33.6</td>\n",
       "      <td>29.9</td>\n",
       "      <td>37.6</td>\n",
       "      <td>1153.0</td>\n",
       "      <td>NaN</td>\n",
       "      <td>NaN</td>\n",
       "      <td>Less than high school</td>\n",
       "      <td>NaN</td>\n",
       "      <td>NaN</td>\n",
       "      <td>NaN</td>\n",
       "      <td>(32.84057112200048, -86.63186076199969)</td>\n",
       "      <td>1</td>\n",
       "      <td>Education</td>\n",
       "      <td>Less than high school</td>\n",
       "      <td>EDUHS</td>\n",
       "    </tr>\n",
       "    <tr>\n",
       "      <th>1</th>\n",
       "      <td>2011</td>\n",
       "      <td>Alabama</td>\n",
       "      <td>Percent of adults aged 18 years and older who have obesity</td>\n",
       "      <td>32.8</td>\n",
       "      <td>32.8</td>\n",
       "      <td>30.2</td>\n",
       "      <td>35.6</td>\n",
       "      <td>2402.0</td>\n",
       "      <td>NaN</td>\n",
       "      <td>NaN</td>\n",
       "      <td>High school graduate</td>\n",
       "      <td>NaN</td>\n",
       "      <td>NaN</td>\n",
       "      <td>NaN</td>\n",
       "      <td>(32.84057112200048, -86.63186076199969)</td>\n",
       "      <td>1</td>\n",
       "      <td>Education</td>\n",
       "      <td>High school graduate</td>\n",
       "      <td>EDUHSGRAD</td>\n",
       "    </tr>\n",
       "    <tr>\n",
       "      <th>2</th>\n",
       "      <td>2011</td>\n",
       "      <td>Alabama</td>\n",
       "      <td>Percent of adults aged 18 years and older who have obesity</td>\n",
       "      <td>33.8</td>\n",
       "      <td>33.8</td>\n",
       "      <td>31.0</td>\n",
       "      <td>36.8</td>\n",
       "      <td>1925.0</td>\n",
       "      <td>NaN</td>\n",
       "      <td>NaN</td>\n",
       "      <td>Some college or technical school</td>\n",
       "      <td>NaN</td>\n",
       "      <td>NaN</td>\n",
       "      <td>NaN</td>\n",
       "      <td>(32.84057112200048, -86.63186076199969)</td>\n",
       "      <td>1</td>\n",
       "      <td>Education</td>\n",
       "      <td>Some college or technical school</td>\n",
       "      <td>EDUCOTEC</td>\n",
       "    </tr>\n",
       "  </tbody>\n",
       "</table>\n",
       "</div>"
      ],
      "text/plain": [
       "   YearStart LocationDesc  \\\n",
       "0       2011      Alabama   \n",
       "1       2011      Alabama   \n",
       "2       2011      Alabama   \n",
       "\n",
       "                                                     Question  Data_Value  \\\n",
       "0  Percent of adults aged 18 years and older who have obesity        33.6   \n",
       "1  Percent of adults aged 18 years and older who have obesity        32.8   \n",
       "2  Percent of adults aged 18 years and older who have obesity        33.8   \n",
       "\n",
       "   Data_Value_Alt  Low_Confidence_Limit  High_Confidence_Limit   Sample_Size  \\\n",
       "0            33.6                  29.9                    37.6       1153.0   \n",
       "1            32.8                  30.2                    35.6       2402.0   \n",
       "2            33.8                  31.0                    36.8       1925.0   \n",
       "\n",
       "  Total Age(years)                         Education Gender Income  \\\n",
       "0   NaN        NaN             Less than high school    NaN    NaN   \n",
       "1   NaN        NaN              High school graduate    NaN    NaN   \n",
       "2   NaN        NaN  Some college or technical school    NaN    NaN   \n",
       "\n",
       "  Race/Ethnicity                              GeoLocation  LocationID  \\\n",
       "0            NaN  (32.84057112200048, -86.63186076199969)           1   \n",
       "1            NaN  (32.84057112200048, -86.63186076199969)           1   \n",
       "2            NaN  (32.84057112200048, -86.63186076199969)           1   \n",
       "\n",
       "  StratificationCategory1                   Stratification1 StratificationID1  \n",
       "0               Education             Less than high school             EDUHS  \n",
       "1               Education              High school graduate         EDUHSGRAD  \n",
       "2               Education  Some college or technical school          EDUCOTEC  "
      ]
     },
     "execution_count": 364,
     "metadata": {},
     "output_type": "execute_result"
    }
   ],
   "source": [
    "edu_obes_s.head(3)"
   ]
  },
  {
   "cell_type": "code",
   "execution_count": 365,
   "metadata": {},
   "outputs": [
    {
     "data": {
      "text/html": [
       "<div>\n",
       "<style scoped>\n",
       "    .dataframe tbody tr th:only-of-type {\n",
       "        vertical-align: middle;\n",
       "    }\n",
       "\n",
       "    .dataframe tbody tr th {\n",
       "        vertical-align: top;\n",
       "    }\n",
       "\n",
       "    .dataframe thead th {\n",
       "        text-align: right;\n",
       "    }\n",
       "</style>\n",
       "<table border=\"1\" class=\"dataframe\">\n",
       "  <thead>\n",
       "    <tr style=\"text-align: right;\">\n",
       "      <th></th>\n",
       "      <th>2015_Sample_Size</th>\n",
       "      <th>2015_%Obesity</th>\n",
       "      <th>Education_Level</th>\n",
       "    </tr>\n",
       "  </thead>\n",
       "  <tbody>\n",
       "    <tr>\n",
       "      <th>888</th>\n",
       "      <td>1238.0</td>\n",
       "      <td>29.1</td>\n",
       "      <td>College graduate</td>\n",
       "    </tr>\n",
       "    <tr>\n",
       "      <th>889</th>\n",
       "      <td>1132.0</td>\n",
       "      <td>35.2</td>\n",
       "      <td>Some college or technical school</td>\n",
       "    </tr>\n",
       "    <tr>\n",
       "      <th>890</th>\n",
       "      <td>1417.0</td>\n",
       "      <td>39.2</td>\n",
       "      <td>High school graduate</td>\n",
       "    </tr>\n",
       "    <tr>\n",
       "      <th>891</th>\n",
       "      <td>531.0</td>\n",
       "      <td>40.2</td>\n",
       "      <td>Less than high school</td>\n",
       "    </tr>\n",
       "  </tbody>\n",
       "</table>\n",
       "</div>"
      ],
      "text/plain": [
       "     2015_Sample_Size  2015_%Obesity                   Education_Level\n",
       "888            1238.0           29.1                  College graduate\n",
       "889            1132.0           35.2  Some college or technical school\n",
       "890            1417.0           39.2              High school graduate\n",
       "891             531.0           40.2             Less than high school"
      ]
     },
     "execution_count": 365,
     "metadata": {},
     "output_type": "execute_result"
    }
   ],
   "source": [
    "#hypothesis testing, continue with Louisiana\n",
    "#null: THERE IS NO DIFFERENCE IN THE AVERAGE OBESTIY RATE BETWEEN SOME COLLEGE AND HISH SCHOOL GRADUATE\n",
    "edu_l = edu_obes_s[edu_obes_s['LocationDesc']=='Louisiana']\n",
    "                   \n",
    "edu_l_2011 = obesity_edu(edu_l, 2011)\n",
    "edu_l_2012 = obesity_edu(edu_l, 2012)\n",
    "edu_l_2013 = obesity_edu(edu_l, 2013)\n",
    "edu_l_2014 = obesity_edu(edu_l, 2014)\n",
    "edu_l_2015 = obesity_edu(edu_l, 2015)\n",
    "edu_l_2015"
   ]
  },
  {
   "cell_type": "code",
   "execution_count": 366,
   "metadata": {},
   "outputs": [
    {
     "data": {
      "text/html": [
       "<div>\n",
       "<style scoped>\n",
       "    .dataframe tbody tr th:only-of-type {\n",
       "        vertical-align: middle;\n",
       "    }\n",
       "\n",
       "    .dataframe tbody tr th {\n",
       "        vertical-align: top;\n",
       "    }\n",
       "\n",
       "    .dataframe thead th {\n",
       "        text-align: right;\n",
       "    }\n",
       "</style>\n",
       "<table border=\"1\" class=\"dataframe\">\n",
       "  <thead>\n",
       "    <tr style=\"text-align: right;\">\n",
       "      <th></th>\n",
       "      <th>2011_Sample_Size</th>\n",
       "      <th>2011_%Obesity</th>\n",
       "      <th>2012_Sample_Size</th>\n",
       "      <th>2012_%Obesity</th>\n",
       "      <th>2013_Sample_Size</th>\n",
       "      <th>2013_%Obesity</th>\n",
       "      <th>2014_Sample_Size</th>\n",
       "      <th>2014_%Obesity</th>\n",
       "      <th>2015_Sample_Size</th>\n",
       "      <th>2015_%Obesity</th>\n",
       "    </tr>\n",
       "    <tr>\n",
       "      <th>Education_Level</th>\n",
       "      <th></th>\n",
       "      <th></th>\n",
       "      <th></th>\n",
       "      <th></th>\n",
       "      <th></th>\n",
       "      <th></th>\n",
       "      <th></th>\n",
       "      <th></th>\n",
       "      <th></th>\n",
       "      <th></th>\n",
       "    </tr>\n",
       "  </thead>\n",
       "  <tbody>\n",
       "    <tr>\n",
       "      <th>College graduate</th>\n",
       "      <td>2751.0</td>\n",
       "      <td>26.6</td>\n",
       "      <td>2244.0</td>\n",
       "      <td>28.3</td>\n",
       "      <td>1600.0</td>\n",
       "      <td>25.8</td>\n",
       "      <td>1873.0</td>\n",
       "      <td>30.7</td>\n",
       "      <td>1238.0</td>\n",
       "      <td>29.1</td>\n",
       "    </tr>\n",
       "    <tr>\n",
       "      <th>High school graduate</th>\n",
       "      <td>3569.0</td>\n",
       "      <td>33.6</td>\n",
       "      <td>3012.0</td>\n",
       "      <td>34.0</td>\n",
       "      <td>1615.0</td>\n",
       "      <td>34.7</td>\n",
       "      <td>2008.0</td>\n",
       "      <td>37.1</td>\n",
       "      <td>1417.0</td>\n",
       "      <td>39.2</td>\n",
       "    </tr>\n",
       "    <tr>\n",
       "      <th>Some college or technical school</th>\n",
       "      <td>2519.0</td>\n",
       "      <td>35.8</td>\n",
       "      <td>2115.0</td>\n",
       "      <td>37.5</td>\n",
       "      <td>1285.0</td>\n",
       "      <td>32.5</td>\n",
       "      <td>1715.0</td>\n",
       "      <td>34.4</td>\n",
       "      <td>1132.0</td>\n",
       "      <td>35.2</td>\n",
       "    </tr>\n",
       "    <tr>\n",
       "      <th>Less than high school</th>\n",
       "      <td>1552.0</td>\n",
       "      <td>36.3</td>\n",
       "      <td>1276.0</td>\n",
       "      <td>38.6</td>\n",
       "      <td>509.0</td>\n",
       "      <td>38.8</td>\n",
       "      <td>759.0</td>\n",
       "      <td>36.1</td>\n",
       "      <td>531.0</td>\n",
       "      <td>40.2</td>\n",
       "    </tr>\n",
       "  </tbody>\n",
       "</table>\n",
       "</div>"
      ],
      "text/plain": [
       "                                  2011_Sample_Size  2011_%Obesity  \\\n",
       "Education_Level                                                     \n",
       "College graduate                            2751.0           26.6   \n",
       "High school graduate                        3569.0           33.6   \n",
       "Some college or technical school            2519.0           35.8   \n",
       "Less than high school                       1552.0           36.3   \n",
       "\n",
       "                                  2012_Sample_Size  2012_%Obesity  \\\n",
       "Education_Level                                                     \n",
       "College graduate                            2244.0           28.3   \n",
       "High school graduate                        3012.0           34.0   \n",
       "Some college or technical school            2115.0           37.5   \n",
       "Less than high school                       1276.0           38.6   \n",
       "\n",
       "                                  2013_Sample_Size  2013_%Obesity  \\\n",
       "Education_Level                                                     \n",
       "College graduate                            1600.0           25.8   \n",
       "High school graduate                        1615.0           34.7   \n",
       "Some college or technical school            1285.0           32.5   \n",
       "Less than high school                        509.0           38.8   \n",
       "\n",
       "                                  2014_Sample_Size  2014_%Obesity  \\\n",
       "Education_Level                                                     \n",
       "College graduate                            1873.0           30.7   \n",
       "High school graduate                        2008.0           37.1   \n",
       "Some college or technical school            1715.0           34.4   \n",
       "Less than high school                        759.0           36.1   \n",
       "\n",
       "                                  2015_Sample_Size  2015_%Obesity  \n",
       "Education_Level                                                    \n",
       "College graduate                            1238.0           29.1  \n",
       "High school graduate                        1417.0           39.2  \n",
       "Some college or technical school            1132.0           35.2  \n",
       "Less than high school                        531.0           40.2  "
      ]
     },
     "execution_count": 366,
     "metadata": {},
     "output_type": "execute_result"
    }
   ],
   "source": [
    "df_edu_l = edu_l_2011.set_index('Education_Level').join(edu_l_2012.set_index(\n",
    "    'Education_Level')).join(edu_l_2013.set_index('Education_Level')).join(edu_l_2014.set_index('Education_Level')).join(edu_l_2015.set_index('Education_Level'))\n",
    "\n",
    "df_edu_l"
   ]
  },
  {
   "cell_type": "code",
   "execution_count": 541,
   "metadata": {},
   "outputs": [
    {
     "data": {
      "text/plain": [
       "[35.8, 37.5, 32.5, 34.4, 35.2]"
      ]
     },
     "execution_count": 541,
     "metadata": {},
     "output_type": "execute_result"
    }
   ],
   "source": [
    "college = df_edu_l.iloc[0,1:10:2].tolist()\n",
    "hs = df_edu_l.iloc[1,1:10:2].tolist()\n",
    "nohs = df_edu_l.iloc[3, 1:10:2].tolist()\n",
    "somecollege = df_edu_l.iloc[2,1:10:2].tolist()\n",
    "somecollege"
   ]
  },
  {
   "cell_type": "markdown",
   "metadata": {},
   "source": [
    "***some college vs no high school***"
   ]
  },
  {
   "cell_type": "code",
   "execution_count": 542,
   "metadata": {},
   "outputs": [
    {
     "name": "stdout",
     "output_type": "stream",
     "text": [
      "Welch Test Statistic: -2.87\n"
     ]
    }
   ],
   "source": [
    "#there is no difference in the average heights of kickflips performed by Nick and Matt.\n",
    "#null: there is no difference in the average obesity rate between technical school & high school graduate\n",
    "\n",
    "\n",
    "test_statistic_edul = welch_test_statistic(somecollege, nohs)\n",
    "print(\"Welch Test Statistic: {:2.2f}\".format(test_statistic_edul))\n"
   ]
  },
  {
   "cell_type": "code",
   "execution_count": 543,
   "metadata": {},
   "outputs": [
    {
     "name": "stdout",
     "output_type": "stream",
     "text": [
      "Degrees of Freedom for Welch's Test: 7.98\n"
     ]
    }
   ],
   "source": [
    "df_edul = welch_satterhwaithe_df(somecollege, nohs)\n",
    "print(\"Degrees of Freedom for Welch's Test: {:2.2f}\".format(df_edul))\n"
   ]
  },
  {
   "cell_type": "code",
   "execution_count": 546,
   "metadata": {
    "scrolled": true
   },
   "outputs": [
    {
     "name": "stdout",
     "output_type": "stream",
     "text": [
      "p-value for different average % obesity: 0.0104093162\n"
     ]
    }
   ],
   "source": [
    "students_edul = stats.t(df_edul)\n",
    "\n",
    "#p_value_edul = students_edul.cdf(test_statistic_edul) + (1 - students_edul.cdf(-test_statistic_edul))\n",
    "p_value_edul = (1 - students_edul.cdf(-test_statistic_edul))\n",
    "print(\"p-value for different average % obesity: {:2.10f}\".format(p_value_edul))\n"
   ]
  },
  {
   "cell_type": "code",
   "execution_count": 547,
   "metadata": {
    "scrolled": true
   },
   "outputs": [
    {
     "data": {
      "text/plain": [
       "Text(0.5,1,'p-value Reigon, p-value=0.02')"
      ]
     },
     "execution_count": 547,
     "metadata": {},
     "output_type": "execute_result"
    },
    {
     "data": {
      "image/png": "[encoded data removed]",
      "text/plain": [
       "<Figure size 720x216 with 1 Axes>"
      ]
     },
     "metadata": {},
     "output_type": "display_data"
    }
   ],
   "source": [
    "x = np.linspace(-4, 4, num=250)\n",
    "\n",
    "fig, ax = plt.subplots(1, figsize=(10, 3))\n",
    "ax.plot(x, students_edul.pdf(x), linewidth=2, label=\"Degree of Freedom: {:2.2f}\".format(df_edul))\n",
    "_ = ax.fill_between(x, students_edul.pdf(x), where=(x >= -test_statistic_edul), color=\"red\", alpha=0.25)\n",
    "#_ = ax.fill_between(x, students_edul.pdf(x), where=(x <= test_statistic_edul), color=\"red\", alpha=0.25)\n",
    "ax.legend()\n",
    "ax.set_title(\"p-value Reigon, p-value=0.02\")"
   ]
  },
  {
   "cell_type": "code",
   "execution_count": 551,
   "metadata": {},
   "outputs": [
    {
     "name": "stdout",
     "output_type": "stream",
     "text": [
      "p-value for no high school average obesity rate greater than some college: 0.0111\n"
     ]
    }
   ],
   "source": [
    "test_statistic = welch_test_statistic(nohs, somecollege)\n",
    "# print(test_statistic)\n",
    "p_value = 1 - students.cdf(test_statistic)\n",
    "print(\"p-value for no high school average obesity rate greater than some college: {:2.4f}\".format(p_value))"
   ]
  },
  {
   "cell_type": "markdown",
   "metadata": {},
   "source": [
    "***college graduate vs hs graduate***"
   ]
  },
  {
   "cell_type": "code",
   "execution_count": 392,
   "metadata": {},
   "outputs": [
    {
     "name": "stdout",
     "output_type": "stream",
     "text": [
      "Welch Test Statistic: -6.19\n"
     ]
    }
   ],
   "source": [
    "test_statistic_edul2 = welch_test_statistic(college, hs)\n",
    "print(\"Welch Test Statistic: {:2.2f}\".format(test_statistic_edul2))"
   ]
  },
  {
   "cell_type": "code",
   "execution_count": 393,
   "metadata": {},
   "outputs": [
    {
     "name": "stdout",
     "output_type": "stream",
     "text": [
      "Degrees of Freedom for Welch's Test: 7.72\n"
     ]
    }
   ],
   "source": [
    "df_edul2 = welch_satterhwaithe_df(college, hs)\n",
    "print(\"Degrees of Freedom for Welch's Test: {:2.2f}\".format(df_edul2))\n"
   ]
  },
  {
   "cell_type": "code",
   "execution_count": 394,
   "metadata": {},
   "outputs": [
    {
     "name": "stdout",
     "output_type": "stream",
     "text": [
      "p-value for different average % obesity: 0.0003019064\n"
     ]
    }
   ],
   "source": [
    "students2 = stats.t(df_edul2)\n",
    "\n",
    "p_value_edul2 = students2.cdf(test_statistic_edul2) + (1 - students2.cdf(-test_statistic_edul2))\n",
    "print(\"p-value for different average % obesity: {:2.10f}\".format(p_value_edul2))\n"
   ]
  },
  {
   "cell_type": "code",
   "execution_count": 398,
   "metadata": {},
   "outputs": [
    {
     "data": {
      "text/plain": [
       "Text(0.5,1,'p-value Reigon')"
      ]
     },
     "execution_count": 398,
     "metadata": {},
     "output_type": "execute_result"
    },
    {
     "data": {
      "image/png": "[encoded data removed]",
      "text/plain": [
       "<Figure size 1152x216 with 1 Axes>"
      ]
     },
     "metadata": {},
     "output_type": "display_data"
    }
   ],
   "source": [
    "x = np.linspace(-5, 5, num=250)\n",
    "\n",
    "fig, ax = plt.subplots(1, figsize=(16, 3))\n",
    "ax.plot(x, students2.pdf(x), linewidth=2, label=\"Degree of Freedom: {:2.2f}\".format(df_edul2))\n",
    "_ = ax.fill_between(x, students2.pdf(x), where=(x >= -test_statistic_edul2), color=\"red\", alpha=0.25)\n",
    "_ = ax.fill_between(x, students2.pdf(x), where=(x <= test_statistic_edul2), color=\"red\", alpha=0.25)\n",
    "ax.legend()\n",
    "ax.set_title(\"p-value Reigon\")"
   ]
  },
  {
   "cell_type": "markdown",
   "metadata": {},
   "source": [
    "### AGE"
   ]
  },
  {
   "cell_type": "code",
   "execution_count": 399,
   "metadata": {},
   "outputs": [],
   "source": [
    "age_s = us_data[(us_data['StratificationCategory1'] == 'Age (years)') & (us_data['Question'] == q[0]) \n",
    "                            & ~(us_data['LocationDesc']=='National')&~(us_data['LocationDesc']=='Guam')\n",
    "                            &~(us_data['LocationDesc']=='Puerto Rico')]\n",
    "\n",
    "age_s = age_s.reset_index(drop = True)\n",
    "\n",
    "age_n = us_data[(us_data['StratificationCategory1'] == 'Age (years)') & (us_data['Question'] == q[0]) \n",
    "                            & (us_data['LocationDesc']=='National')]"
   ]
  },
  {
   "cell_type": "code",
   "execution_count": 400,
   "metadata": {},
   "outputs": [],
   "source": [
    "age_n_2011 = age_n[age_n['YearStart'] ==2011][['YearStart',]]\n",
    "age_n_plot = age_n[['YearStart','Data_Value','Sample_Size','Stratification1']]"
   ]
  },
  {
   "cell_type": "code",
   "execution_count": 402,
   "metadata": {},
   "outputs": [],
   "source": [
    "def obesity_age(df, year):\n",
    "    df1 = df[df['YearStart']==year]\n",
    "    df1 = df1[['Sample_Size','Data_Value','Stratification1']].sort_values(by='Stratification1')\n",
    "    #df1_g = df1.groupby(by='Stratification1')['Data_Value'].mean().sort_values()\n",
    "    #df1 = df1.reset_index()\n",
    "    df1.rename(columns={\"Stratification1\": \"Age\", \"Data_Value\": str(year)+\"_%Obesity\", \n",
    "                       \"Sample_Size\": str(year)+\"_Sample_Size\"}, inplace=True)\n",
    "    \n",
    "    return df1"
   ]
  },
  {
   "cell_type": "code",
   "execution_count": 403,
   "metadata": {},
   "outputs": [
    {
     "data": {
      "text/html": [
       "<div>\n",
       "<style scoped>\n",
       "    .dataframe tbody tr th:only-of-type {\n",
       "        vertical-align: middle;\n",
       "    }\n",
       "\n",
       "    .dataframe tbody tr th {\n",
       "        vertical-align: top;\n",
       "    }\n",
       "\n",
       "    .dataframe thead th {\n",
       "        text-align: right;\n",
       "    }\n",
       "</style>\n",
       "<table border=\"1\" class=\"dataframe\">\n",
       "  <thead>\n",
       "    <tr style=\"text-align: right;\">\n",
       "      <th></th>\n",
       "      <th>2011_Sample_Size</th>\n",
       "      <th>2011_%Obesity</th>\n",
       "      <th>2012_Sample_Size</th>\n",
       "      <th>2012_%Obesity</th>\n",
       "      <th>2013_Sample_Size</th>\n",
       "      <th>2013_%Obesity</th>\n",
       "      <th>2014_Sample_Size</th>\n",
       "      <th>2014_%Obesity</th>\n",
       "      <th>2015_Sample_Size</th>\n",
       "      <th>2015_%Obesity</th>\n",
       "    </tr>\n",
       "    <tr>\n",
       "      <th>Age</th>\n",
       "      <th></th>\n",
       "      <th></th>\n",
       "      <th></th>\n",
       "      <th></th>\n",
       "      <th></th>\n",
       "      <th></th>\n",
       "      <th></th>\n",
       "      <th></th>\n",
       "      <th></th>\n",
       "      <th></th>\n",
       "    </tr>\n",
       "  </thead>\n",
       "  <tbody>\n",
       "    <tr>\n",
       "      <th>18 - 24</th>\n",
       "      <td>20732.0</td>\n",
       "      <td>15.2</td>\n",
       "      <td>22549.0</td>\n",
       "      <td>15.0</td>\n",
       "      <td>24785.0</td>\n",
       "      <td>15.4</td>\n",
       "      <td>21699.0</td>\n",
       "      <td>15.9</td>\n",
       "      <td>21539.0</td>\n",
       "      <td>16.7</td>\n",
       "    </tr>\n",
       "    <tr>\n",
       "      <th>25 - 34</th>\n",
       "      <td>44490.0</td>\n",
       "      <td>25.9</td>\n",
       "      <td>42942.0</td>\n",
       "      <td>25.6</td>\n",
       "      <td>45270.0</td>\n",
       "      <td>26.4</td>\n",
       "      <td>38517.0</td>\n",
       "      <td>27.0</td>\n",
       "      <td>37389.0</td>\n",
       "      <td>26.7</td>\n",
       "    </tr>\n",
       "    <tr>\n",
       "      <th>35 - 44</th>\n",
       "      <td>60254.0</td>\n",
       "      <td>29.9</td>\n",
       "      <td>55173.0</td>\n",
       "      <td>31.3</td>\n",
       "      <td>55422.0</td>\n",
       "      <td>31.7</td>\n",
       "      <td>49240.0</td>\n",
       "      <td>32.1</td>\n",
       "      <td>45319.0</td>\n",
       "      <td>32.1</td>\n",
       "    </tr>\n",
       "    <tr>\n",
       "      <th>45 - 54</th>\n",
       "      <td>86169.0</td>\n",
       "      <td>32.6</td>\n",
       "      <td>78037.0</td>\n",
       "      <td>32.4</td>\n",
       "      <td>78259.0</td>\n",
       "      <td>33.3</td>\n",
       "      <td>70884.0</td>\n",
       "      <td>33.7</td>\n",
       "      <td>64418.0</td>\n",
       "      <td>34.0</td>\n",
       "    </tr>\n",
       "    <tr>\n",
       "      <th>55 - 64</th>\n",
       "      <td>107279.0</td>\n",
       "      <td>32.6</td>\n",
       "      <td>96513.0</td>\n",
       "      <td>33.3</td>\n",
       "      <td>101611.0</td>\n",
       "      <td>33.5</td>\n",
       "      <td>96564.0</td>\n",
       "      <td>34.2</td>\n",
       "      <td>88587.0</td>\n",
       "      <td>33.4</td>\n",
       "    </tr>\n",
       "    <tr>\n",
       "      <th>65 or older</th>\n",
       "      <td>151776.0</td>\n",
       "      <td>25.3</td>\n",
       "      <td>144296.0</td>\n",
       "      <td>25.8</td>\n",
       "      <td>152140.0</td>\n",
       "      <td>26.5</td>\n",
       "      <td>148971.0</td>\n",
       "      <td>27.5</td>\n",
       "      <td>141064.0</td>\n",
       "      <td>27.6</td>\n",
       "    </tr>\n",
       "  </tbody>\n",
       "</table>\n",
       "</div>"
      ],
      "text/plain": [
       "             2011_Sample_Size  2011_%Obesity  2012_Sample_Size  2012_%Obesity  \\\n",
       "Age                                                                             \n",
       "18 - 24               20732.0           15.2           22549.0           15.0   \n",
       "25 - 34               44490.0           25.9           42942.0           25.6   \n",
       "35 - 44               60254.0           29.9           55173.0           31.3   \n",
       "45 - 54               86169.0           32.6           78037.0           32.4   \n",
       "55 - 64              107279.0           32.6           96513.0           33.3   \n",
       "65 or older          151776.0           25.3          144296.0           25.8   \n",
       "\n",
       "             2013_Sample_Size  2013_%Obesity  2014_Sample_Size  2014_%Obesity  \\\n",
       "Age                                                                             \n",
       "18 - 24               24785.0           15.4           21699.0           15.9   \n",
       "25 - 34               45270.0           26.4           38517.0           27.0   \n",
       "35 - 44               55422.0           31.7           49240.0           32.1   \n",
       "45 - 54               78259.0           33.3           70884.0           33.7   \n",
       "55 - 64              101611.0           33.5           96564.0           34.2   \n",
       "65 or older          152140.0           26.5          148971.0           27.5   \n",
       "\n",
       "             2015_Sample_Size  2015_%Obesity  \n",
       "Age                                           \n",
       "18 - 24               21539.0           16.7  \n",
       "25 - 34               37389.0           26.7  \n",
       "35 - 44               45319.0           32.1  \n",
       "45 - 54               64418.0           34.0  \n",
       "55 - 64               88587.0           33.4  \n",
       "65 or older          141064.0           27.6  "
      ]
     },
     "execution_count": 403,
     "metadata": {},
     "output_type": "execute_result"
    }
   ],
   "source": [
    "age_n_2011 = obesity_age(age_n, 2011)\n",
    "age_n_2012 = obesity_age(age_n, 2012)\n",
    "age_n_2013 = obesity_age(age_n, 2013)\n",
    "age_n_2014 = obesity_age(age_n, 2014)\n",
    "age_n_2015 = obesity_age(age_n, 2015)\n",
    "\n",
    "df_age_n = age_n_2011.set_index('Age').join(age_n_2012.set_index(\n",
    "    'Age')).join(age_n_2013.set_index('Age')).join(age_n_2014.set_index('Age')).join(age_n_2015.set_index('Age'))\n",
    "\n",
    "df_age_n\n"
   ]
  },
  {
   "cell_type": "code",
   "execution_count": 494,
   "metadata": {},
   "outputs": [
    {
     "data": {
      "image/png": "[encoded data removed]",
      "text/plain": [
       "<Figure size 720x360 with 1 Axes>"
      ]
     },
     "metadata": {},
     "output_type": "display_data"
    }
   ],
   "source": [
    "fig, axs = plt.subplots(figsize=(10,5))\n",
    "\n",
    "x = [2011,2012,2013,2014,2015]\n",
    "color= ['darkkhaki','orange','seagreen','mediumpurple','lightcoral','royalblue']\n",
    "\n",
    "for idx, val in enumerate(df_age_n.index):\n",
    "    axs.plot(x, df_age_n.iloc[idx, 1:10:2], label=df_age_n.index[idx], linewidth=2, color=color[idx])\n",
    "\n",
    "plt.legend(loc='center left', bbox_to_anchor=(1.0, 0.5))\n",
    "\n",
    "\n",
    "axs.set_xlabel('Year', size=15)\n",
    "axs.set_ylabel('% Adult with Obesity', size=15)\n",
    "axs.set_xticks(range(2011, 2016))\n",
    "axs.xaxis.set_major_formatter(plt.FuncFormatter('{:.0f}'.format))\n",
    "axs.set_xlim(2010.9, 2015.1)\n",
    "\n",
    "mpl.rcParams['xtick.labelsize'] = 12\n",
    "mpl.rcParams['ytick.labelsize'] = 12\n",
    "axs.set_title('% Adults with Obesity for Different Ages, 2011 to 2015', size=20)\n",
    "\n",
    "plt.legend(loc='center left', bbox_to_anchor=(1.0, 0.5))\n",
    "fig.tight_layout()\n",
    "\n"
   ]
  },
  {
   "cell_type": "code",
   "execution_count": 408,
   "metadata": {},
   "outputs": [
    {
     "data": {
      "text/html": [
       "<div>\n",
       "<style scoped>\n",
       "    .dataframe tbody tr th:only-of-type {\n",
       "        vertical-align: middle;\n",
       "    }\n",
       "\n",
       "    .dataframe tbody tr th {\n",
       "        vertical-align: top;\n",
       "    }\n",
       "\n",
       "    .dataframe thead th {\n",
       "        text-align: right;\n",
       "    }\n",
       "</style>\n",
       "<table border=\"1\" class=\"dataframe\">\n",
       "  <thead>\n",
       "    <tr style=\"text-align: right;\">\n",
       "      <th>Stratification1</th>\n",
       "      <th>18 - 24</th>\n",
       "      <th>25 - 34</th>\n",
       "      <th>35 - 44</th>\n",
       "      <th>45 - 54</th>\n",
       "      <th>55 - 64</th>\n",
       "      <th>65 or older</th>\n",
       "    </tr>\n",
       "    <tr>\n",
       "      <th>YearStart</th>\n",
       "      <th></th>\n",
       "      <th></th>\n",
       "      <th></th>\n",
       "      <th></th>\n",
       "      <th></th>\n",
       "      <th></th>\n",
       "    </tr>\n",
       "  </thead>\n",
       "  <tbody>\n",
       "    <tr>\n",
       "      <th>2011</th>\n",
       "      <td>15.2</td>\n",
       "      <td>25.9</td>\n",
       "      <td>29.9</td>\n",
       "      <td>32.6</td>\n",
       "      <td>32.6</td>\n",
       "      <td>25.3</td>\n",
       "    </tr>\n",
       "    <tr>\n",
       "      <th>2012</th>\n",
       "      <td>15.0</td>\n",
       "      <td>25.6</td>\n",
       "      <td>31.3</td>\n",
       "      <td>32.4</td>\n",
       "      <td>33.3</td>\n",
       "      <td>25.8</td>\n",
       "    </tr>\n",
       "    <tr>\n",
       "      <th>2013</th>\n",
       "      <td>15.4</td>\n",
       "      <td>26.4</td>\n",
       "      <td>31.7</td>\n",
       "      <td>33.3</td>\n",
       "      <td>33.5</td>\n",
       "      <td>26.5</td>\n",
       "    </tr>\n",
       "    <tr>\n",
       "      <th>2014</th>\n",
       "      <td>15.9</td>\n",
       "      <td>27.0</td>\n",
       "      <td>32.1</td>\n",
       "      <td>33.7</td>\n",
       "      <td>34.2</td>\n",
       "      <td>27.5</td>\n",
       "    </tr>\n",
       "    <tr>\n",
       "      <th>2015</th>\n",
       "      <td>16.7</td>\n",
       "      <td>26.7</td>\n",
       "      <td>32.1</td>\n",
       "      <td>34.0</td>\n",
       "      <td>33.4</td>\n",
       "      <td>27.6</td>\n",
       "    </tr>\n",
       "  </tbody>\n",
       "</table>\n",
       "</div>"
      ],
      "text/plain": [
       "Stratification1  18 - 24  25 - 34  35 - 44  45 - 54  55 - 64  65 or older\n",
       "YearStart                                                                \n",
       "2011                15.2     25.9     29.9     32.6     32.6         25.3\n",
       "2012                15.0     25.6     31.3     32.4     33.3         25.8\n",
       "2013                15.4     26.4     31.7     33.3     33.5         26.5\n",
       "2014                15.9     27.0     32.1     33.7     34.2         27.5\n",
       "2015                16.7     26.7     32.1     34.0     33.4         27.6"
      ]
     },
     "execution_count": 408,
     "metadata": {},
     "output_type": "execute_result"
    }
   ],
   "source": [
    "#age_n_plot = age_n_plot.drop(columns='Sample_Size', axis =1)\n",
    "age_n_plot\n",
    "pivot_df = age_n_plot.pivot(index='YearStart', columns='Stratification1', values='Data_Value')\n",
    "pivot_df"
   ]
  },
  {
   "cell_type": "code",
   "execution_count": 409,
   "metadata": {},
   "outputs": [
    {
     "data": {
      "text/plain": [
       "<matplotlib.legend.Legend at 0x1a1ab1c668>"
      ]
     },
     "execution_count": 409,
     "metadata": {},
     "output_type": "execute_result"
    },
    {
     "data": {
      "image/png": "[encoded data removed]",
      "text/plain": [
       "<Figure size 720x504 with 1 Axes>"
      ]
     },
     "metadata": {},
     "output_type": "display_data"
    }
   ],
   "source": [
    "pivot_df.iloc[:,:].plot.bar(stacked=True, figsize=(10,7))\n",
    "plt.legend(loc='center left', bbox_to_anchor=(1.0, 0.5))\n"
   ]
  },
  {
   "cell_type": "code",
   "execution_count": 415,
   "metadata": {},
   "outputs": [],
   "source": [
    "age_s_lou = age_s[(age_s['LocationDesc'] == 'Louisiana')]\n",
    "\n",
    "\n",
    "#income_lou['Stratification1'] = income_lou[\"Stratification1\"].astype(str)\n",
    "# income_lou_low = income_lou[(income_lou['StratificationID1'] == 'INCLESS15') | (income_lou['StratificationID1'] == 'INC1525')]\\\n",
    "\n",
    "# income_lou_low_tsize = income_lou_low['Sample_Size'].sum() #1244\n",
    "\n",
    "# income_lou_low_obsize = ((income_lou_low['Data_Value']/100)*income_lou_low['Sample_Size']).sum() #522.772\n",
    "# income_lou_low_nobsize = income_lou_low_tsize - income_lou_low_obsize #721.228"
   ]
  },
  {
   "cell_type": "code",
   "execution_count": 416,
   "metadata": {},
   "outputs": [],
   "source": [
    "age_s_lou = age_s_lou[['YearStart', 'Data_Value','Sample_Size','Stratification1']]"
   ]
  },
  {
   "cell_type": "code",
   "execution_count": 418,
   "metadata": {},
   "outputs": [
    {
     "data": {
      "text/html": [
       "<div>\n",
       "<style scoped>\n",
       "    .dataframe tbody tr th:only-of-type {\n",
       "        vertical-align: middle;\n",
       "    }\n",
       "\n",
       "    .dataframe tbody tr th {\n",
       "        vertical-align: top;\n",
       "    }\n",
       "\n",
       "    .dataframe thead th {\n",
       "        text-align: right;\n",
       "    }\n",
       "</style>\n",
       "<table border=\"1\" class=\"dataframe\">\n",
       "  <thead>\n",
       "    <tr style=\"text-align: right;\">\n",
       "      <th></th>\n",
       "      <th>2011_Sample_Size</th>\n",
       "      <th>2011_%Obesity</th>\n",
       "      <th>2012_Sample_Size</th>\n",
       "      <th>2012_%Obesity</th>\n",
       "      <th>2013_Sample_Size</th>\n",
       "      <th>2013_%Obesity</th>\n",
       "      <th>2014_Sample_Size</th>\n",
       "      <th>2014_%Obesity</th>\n",
       "      <th>2015_Sample_Size</th>\n",
       "      <th>2015_%Obesity</th>\n",
       "    </tr>\n",
       "    <tr>\n",
       "      <th>Age</th>\n",
       "      <th></th>\n",
       "      <th></th>\n",
       "      <th></th>\n",
       "      <th></th>\n",
       "      <th></th>\n",
       "      <th></th>\n",
       "      <th></th>\n",
       "      <th></th>\n",
       "      <th></th>\n",
       "      <th></th>\n",
       "    </tr>\n",
       "  </thead>\n",
       "  <tbody>\n",
       "    <tr>\n",
       "      <th>18 - 24</th>\n",
       "      <td>433.0</td>\n",
       "      <td>17.0</td>\n",
       "      <td>360.0</td>\n",
       "      <td>19.6</td>\n",
       "      <td>206.0</td>\n",
       "      <td>17.7</td>\n",
       "      <td>391.0</td>\n",
       "      <td>19.4</td>\n",
       "      <td>242.0</td>\n",
       "      <td>29.1</td>\n",
       "    </tr>\n",
       "    <tr>\n",
       "      <th>25 - 34</th>\n",
       "      <td>889.0</td>\n",
       "      <td>32.7</td>\n",
       "      <td>691.0</td>\n",
       "      <td>34.6</td>\n",
       "      <td>403.0</td>\n",
       "      <td>27.5</td>\n",
       "      <td>694.0</td>\n",
       "      <td>35.5</td>\n",
       "      <td>441.0</td>\n",
       "      <td>28.1</td>\n",
       "    </tr>\n",
       "    <tr>\n",
       "      <th>35 - 44</th>\n",
       "      <td>1286.0</td>\n",
       "      <td>38.5</td>\n",
       "      <td>952.0</td>\n",
       "      <td>41.0</td>\n",
       "      <td>549.0</td>\n",
       "      <td>40.4</td>\n",
       "      <td>727.0</td>\n",
       "      <td>40.7</td>\n",
       "      <td>478.0</td>\n",
       "      <td>44.5</td>\n",
       "    </tr>\n",
       "    <tr>\n",
       "      <th>45 - 54</th>\n",
       "      <td>1840.0</td>\n",
       "      <td>39.7</td>\n",
       "      <td>1487.0</td>\n",
       "      <td>40.4</td>\n",
       "      <td>807.0</td>\n",
       "      <td>40.5</td>\n",
       "      <td>1141.0</td>\n",
       "      <td>38.5</td>\n",
       "      <td>687.0</td>\n",
       "      <td>41.6</td>\n",
       "    </tr>\n",
       "    <tr>\n",
       "      <th>55 - 64</th>\n",
       "      <td>2412.0</td>\n",
       "      <td>41.0</td>\n",
       "      <td>2037.0</td>\n",
       "      <td>39.6</td>\n",
       "      <td>1243.0</td>\n",
       "      <td>37.8</td>\n",
       "      <td>1421.0</td>\n",
       "      <td>40.1</td>\n",
       "      <td>993.0</td>\n",
       "      <td>39.8</td>\n",
       "    </tr>\n",
       "    <tr>\n",
       "      <th>65 or older</th>\n",
       "      <td>3544.0</td>\n",
       "      <td>28.7</td>\n",
       "      <td>3093.0</td>\n",
       "      <td>30.4</td>\n",
       "      <td>1806.0</td>\n",
       "      <td>32.2</td>\n",
       "      <td>1992.0</td>\n",
       "      <td>32.0</td>\n",
       "      <td>1483.0</td>\n",
       "      <td>33.6</td>\n",
       "    </tr>\n",
       "  </tbody>\n",
       "</table>\n",
       "</div>"
      ],
      "text/plain": [
       "             2011_Sample_Size  2011_%Obesity  2012_Sample_Size  2012_%Obesity  \\\n",
       "Age                                                                             \n",
       "18 - 24                 433.0           17.0             360.0           19.6   \n",
       "25 - 34                 889.0           32.7             691.0           34.6   \n",
       "35 - 44                1286.0           38.5             952.0           41.0   \n",
       "45 - 54                1840.0           39.7            1487.0           40.4   \n",
       "55 - 64                2412.0           41.0            2037.0           39.6   \n",
       "65 or older            3544.0           28.7            3093.0           30.4   \n",
       "\n",
       "             2013_Sample_Size  2013_%Obesity  2014_Sample_Size  2014_%Obesity  \\\n",
       "Age                                                                             \n",
       "18 - 24                 206.0           17.7             391.0           19.4   \n",
       "25 - 34                 403.0           27.5             694.0           35.5   \n",
       "35 - 44                 549.0           40.4             727.0           40.7   \n",
       "45 - 54                 807.0           40.5            1141.0           38.5   \n",
       "55 - 64                1243.0           37.8            1421.0           40.1   \n",
       "65 or older            1806.0           32.2            1992.0           32.0   \n",
       "\n",
       "             2015_Sample_Size  2015_%Obesity  \n",
       "Age                                           \n",
       "18 - 24                 242.0           29.1  \n",
       "25 - 34                 441.0           28.1  \n",
       "35 - 44                 478.0           44.5  \n",
       "45 - 54                 687.0           41.6  \n",
       "55 - 64                 993.0           39.8  \n",
       "65 or older            1483.0           33.6  "
      ]
     },
     "execution_count": 418,
     "metadata": {},
     "output_type": "execute_result"
    }
   ],
   "source": [
    "age_lou_2011 = obesity_age(age_s_lou, 2011)\n",
    "age_lou_2012 = obesity_age(age_s_lou, 2012)\n",
    "age_lou_2013 = obesity_age(age_s_lou, 2013)\n",
    "age_lou_2014 = obesity_age(age_s_lou, 2014)\n",
    "age_lou_2015 = obesity_age(age_s_lou, 2015)\n",
    "df_age_lou = age_lou_2011.set_index('Age').join(age_lou_2012.set_index(\n",
    "    'Age')).join(age_lou_2013.set_index('Age')).join(age_lou_2014.set_index('Age')).join(age_lou_2015.set_index('Age'))\n",
    "\n",
    "df_age_lou"
   ]
  },
  {
   "cell_type": "code",
   "execution_count": 419,
   "metadata": {},
   "outputs": [
    {
     "data": {
      "text/plain": [
       "<matplotlib.legend.Legend at 0x1a1f639b00>"
      ]
     },
     "execution_count": 419,
     "metadata": {},
     "output_type": "execute_result"
    },
    {
     "data": {
      "image/png": "[encoded data removed]",
      "text/plain": [
       "<Figure size 720x360 with 1 Axes>"
      ]
     },
     "metadata": {},
     "output_type": "display_data"
    }
   ],
   "source": [
    "fig, axs = plt.subplots(figsize=(10,5))\n",
    "\n",
    "x = [2011,2012,2013,2014,2015]\n",
    "\n",
    "for idx, val in enumerate(df_age_lou.index):\n",
    "    axs.plot(x, df_age_lou.iloc[idx, 1:10:2], label=df_age_lou.index[idx])\n",
    "\n",
    "plt.legend(loc='center left', bbox_to_anchor=(1.0, 0.5))\n"
   ]
  },
  {
   "cell_type": "code",
   "execution_count": 420,
   "metadata": {},
   "outputs": [],
   "source": [
    "#hypothesis test\n",
    "#25-34 vs 65+\n",
    "\n",
    "#z test\n",
    "# 2534 vs 65+, 2015, LOU\n",
    "#null: the frequency 25-34 is obese is at most the frequency that 65+ is obese\n",
    "\n",
    "a_2534_t = 441\n",
    "a_2534_ob = 441*0.281\n",
    "\n",
    "a_65_t = 1483\n",
    "a_65_ob = 1483*0.336\n",
    "\n",
    "a_tsize1 = 441 + 1483\n"
   ]
  },
  {
   "cell_type": "code",
   "execution_count": 421,
   "metadata": {},
   "outputs": [],
   "source": [
    "shared_sample_freq_a1 = (a_2534_ob + a_65_ob) / a_tsize1\n",
    "shared_sample_variance_a1 = a_tsize1 * (shared_sample_freq_a1 * (1 - shared_sample_freq_a1)) / (a_2534_t*a_65_t)\n",
    "\n",
    "difference_in_proportions_a1 = stats.norm(0, np.sqrt(shared_sample_variance_a1))"
   ]
  },
  {
   "cell_type": "code",
   "execution_count": 422,
   "metadata": {},
   "outputs": [
    {
     "name": "stdout",
     "output_type": "stream",
     "text": [
      "Difference in sample proportions: 0.05\n"
     ]
    }
   ],
   "source": [
    "a_2534_sample_freq = a_2534_ob / (a_2534_t)\n",
    "a_65_sample_freq = a_65_ob / a_65_t\n",
    "difference_in_sample_proportions_a1 = a_65_sample_freq - a_2534_sample_freq\n",
    "print(\"Difference in sample proportions: {:2.2f}\".format(difference_in_sample_proportions_a1))"
   ]
  },
  {
   "cell_type": "code",
   "execution_count": 423,
   "metadata": {},
   "outputs": [
    {
     "name": "stdout",
     "output_type": "stream",
     "text": [
      "p-value for AGE frequency comparison: 0.0150875034\n"
     ]
    }
   ],
   "source": [
    "p_value1 = 1 - difference_in_proportions_a1.cdf(difference_in_sample_proportions_a1)\n",
    "print(\"p-value for AGE frequency comparison: {:2.10f}\".format(p_value1))"
   ]
  },
  {
   "cell_type": "code",
   "execution_count": 429,
   "metadata": {},
   "outputs": [
    {
     "data": {
      "text/plain": [
       "Text(0.5,1,'Distribution of Difference in Sample Frequencies Assuming $H_0$, p-value: 0.015')"
      ]
     },
     "execution_count": 429,
     "metadata": {},
     "output_type": "execute_result"
    },
    {
     "data": {
      "image/png": "[encoded data removed]",
      "text/plain": [
       "<Figure size 1152x216 with 1 Axes>"
      ]
     },
     "metadata": {},
     "output_type": "display_data"
    }
   ],
   "source": [
    "fig, ax = plt.subplots(1, figsize=(16, 3))\n",
    "\n",
    "x = np.linspace(-1, 1, num=250)\n",
    "ax.plot(x, difference_in_proportions_a1.pdf(x), linewidth=3)\n",
    "ax.fill_between(x, difference_in_proportions_a1.pdf(x), where=(x >= difference_in_sample_proportions_a1),\n",
    "                color=\"red\", alpha=0.5)\n",
    "ax.set_xlim(-1, 1)\n",
    "ax.set_title(\"Distribution of Difference in Sample Frequencies Assuming $H_0$, p-value: 0.015\")"
   ]
  },
  {
   "cell_type": "code",
   "execution_count": 439,
   "metadata": {},
   "outputs": [],
   "source": [
    "lou_2534 = df_age_lou.iloc[1,1:10:2].tolist()\n",
    "lou_1824 = df_age_lou.iloc[0,1:10:2].tolist()\n",
    "lou_65 = df_age_lou.iloc[5,1:10:2].tolist()"
   ]
  },
  {
   "cell_type": "code",
   "execution_count": 444,
   "metadata": {},
   "outputs": [],
   "source": [
    "#null: there is no difference in the average %obesity for ages 18-24 and 65+"
   ]
  },
  {
   "cell_type": "code",
   "execution_count": 520,
   "metadata": {},
   "outputs": [
    {
     "name": "stdout",
     "output_type": "stream",
     "text": [
      "Welch Test Statistic: -5.15\n"
     ]
    }
   ],
   "source": [
    "test_statistic_age = welch_test_statistic(lou_1824, lou_65)\n",
    "print(\"Welch Test Statistic: {:2.2f}\".format(test_statistic_age))"
   ]
  },
  {
   "cell_type": "code",
   "execution_count": 521,
   "metadata": {
    "scrolled": true
   },
   "outputs": [
    {
     "name": "stdout",
     "output_type": "stream",
     "text": [
      "Degrees of Freedom for Welch's Test: 5.15\n"
     ]
    }
   ],
   "source": [
    "df_l_182465 = welch_satterhwaithe_df(lou_1824, lou_65)\n",
    "print(\"Degrees of Freedom for Welch's Test: {:2.2f}\".format(df_l_182465))"
   ]
  },
  {
   "cell_type": "code",
   "execution_count": 526,
   "metadata": {},
   "outputs": [
    {
     "name": "stdout",
     "output_type": "stream",
     "text": [
      "The statistic is: -4.609893312762821 \n",
      "P-value: 0.005372428131535914\n"
     ]
    }
   ],
   "source": [
    "#welch t\n",
    "stat, p_val = stats.ttest_ind(lou_1824, lou_65, equal_var=False)\n",
    "\n",
    "print('The statistic is: {} \\nP-value: {}'.format(stat ,p_val))"
   ]
  },
  {
   "cell_type": "code",
   "execution_count": 522,
   "metadata": {},
   "outputs": [
    {
     "name": "stdout",
     "output_type": "stream",
     "text": [
      "p-value for different average kickflip height: 0.0033\n"
     ]
    }
   ],
   "source": [
    "#students t\n",
    "students_age_182465 = stats.t(df_l_182465)\n",
    "p_value_age_182465 = students_age_182465.cdf(test_statistic_age) + (1 - students_age_182465.cdf(-test_statistic_age))\n",
    "print(\"p-value for different average kickflip height: {:2.4f}\".format(p_value_age_182465))\n"
   ]
  },
  {
   "cell_type": "code",
   "execution_count": 528,
   "metadata": {},
   "outputs": [
    {
     "data": {
      "text/plain": [
       "<bound method Axes.set_ylabel of <matplotlib.axes._subplots.AxesSubplot object at 0x1a1df984a8>>"
      ]
     },
     "execution_count": 528,
     "metadata": {},
     "output_type": "execute_result"
    },
    {
     "data": {
      "image/png": "[encoded data removed]",
      "text/plain": [
       "<Figure size 720x216 with 1 Axes>"
      ]
     },
     "metadata": {},
     "output_type": "display_data"
    }
   ],
   "source": [
    "#students t\n",
    "x = np.linspace(-6, 6, num=250)\n",
    "\n",
    "fig, ax = plt.subplots(1, figsize=(10, 3))\n",
    "ax.plot(x, students_age_182465.pdf(x), linewidth=2, label=\"Degree of Freedom: {:2.2f}\".format(df_l_182465))\n",
    "_ = ax.fill_between(x, students_age_182465.pdf(x), where=(x >= -test_statistic_age), color=\"blue\", alpha=0.25)\n",
    "_ = ax.fill_between(x, students_age_182465.pdf(x), where=(x <= test_statistic_age), color=\"blue\", alpha=0.25)\n",
    "ax.legend()\n",
    "ax.set_title(\"p-value Reigon, p-value:0.003\")\n",
    "\n",
    "ax.set_ylabel"
   ]
  },
  {
   "cell_type": "code",
   "execution_count": null,
   "metadata": {},
   "outputs": [],
   "source": []
  }
 ],
 "metadata": {
  "kernelspec": {
   "display_name": "Python 3",
   "language": "python",
   "name": "python3"
  },
  "language_info": {
   "codemirror_mode": {
    "name": "ipython",
    "version": 3
   },
   "file_extension": ".py",
   "mimetype": "text/x-python",
   "name": "python",
   "nbconvert_exporter": "python",
   "pygments_lexer": "ipython3",
   "version": "3.6.8"
  }
 },
 "nbformat": 4,
 "nbformat_minor": 2
}
